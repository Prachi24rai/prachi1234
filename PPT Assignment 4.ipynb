{
  "nbformat": 4,
  "nbformat_minor": 0,
  "metadata": {
    "colab": {
      "provenance": []
    },
    "kernelspec": {
      "name": "python3",
      "display_name": "Python 3"
    },
    "language_info": {
      "name": "python"
    }
  },
  "cells": [
    {
      "cell_type": "code",
      "execution_count": null,
      "metadata": {
        "id": "Tvx20Ouq_tqE"
      },
      "outputs": [],
      "source": [
        "💡 Question 1\n",
        "Given three integer arrays arr1, arr2 and arr3 sorted in strictly increasing order, return a sorted array of only the integers that appeared in all three arrays.\n",
        "\n",
        "Example 1:\n",
        "\n",
        "Input: arr1 = [1,2,3,4,5], arr2 = [1,2,5,7,9], arr3 = [1,3,4,5,8]\n",
        "\n",
        "Output: [1,5]\n",
        "\n",
        "Explanation: Only 1 and 5 appeared in the three arrays."
      ]
    },
    {
      "cell_type": "code",
      "source": [
        "# Python 3 program for above approach\n",
        "import sys\n",
        "\n",
        "# This function prints\n",
        "# common elements in ar1\n",
        "\n",
        "\n",
        "def findCommon(ar1, ar2, ar3, n1,\n",
        "\t\t\tn2, n3):\n",
        "\n",
        "\t# Initialize starting indexes\n",
        "\t# for ar1[], ar2and\n",
        "\t# ar3[]\n",
        "\ti = 0\n",
        "\tj = 0\n",
        "\tk = 0\n",
        "\n",
        "\t# Declare three variables prev1,\n",
        "\t# prev2, prev3 to track\n",
        "\t# previous element\n",
        "\t# Initialize prev1, prev2,\n",
        "\t# prev3 with INT_MIN\n",
        "\tprev1 = prev2 = prev3 = -sys.maxsize - 1\n",
        "\n",
        "\t# Iterate through three arrays\n",
        "\t# while all arrays have\n",
        "\t# elements\n",
        "\twhile (i < n1 and j < n2 and k < n3):\n",
        "\n",
        "\t\t# If ar1[i] = prev1 and i < n1,\n",
        "\t\t# keep incrementing i\n",
        "\t\twhile (ar1[i] == prev1 and i < n1-1):\n",
        "\t\t\ti += 1\n",
        "\n",
        "\t\t# If ar2[j] = prev2 and j < n2,\n",
        "\t\t# keep incrementing j\n",
        "\t\twhile (ar2[j] == prev2 and j < n2):\n",
        "\t\t\tj += 1\n",
        "\n",
        "\t\t# If ar3[k] = prev3 and k < n3,\n",
        "\t\t# keep incrementing k\n",
        "\t\twhile (ar3[k] == prev3 and k < n3):\n",
        "\t\t\tk += 1\n",
        "\n",
        "\t\t# If x = y and y = z, pr\n",
        "\t\t# any of them, update\n",
        "\t\t# prev1 prev2, prev3 and move\n",
        "\t\t# ahead in each array\n",
        "\t\tif (ar1[i] == ar2[j] and ar2[j] == ar3[k]):\n",
        "\t\t\tprint(ar1[i], end=\" \")\n",
        "\t\t\tprev1 = ar1[i]\n",
        "\t\t\tprev2 = ar2[j]\n",
        "\t\t\tprev3 = ar3[k]\n",
        "\t\t\ti += 1\n",
        "\t\t\tj += 1\n",
        "\t\t\tk += 1\n",
        "\n",
        "\t\t# If x < y, update prev1\n",
        "\t\t# and increment i\n",
        "\t\telif (ar1[i] < ar2[j]):\n",
        "\t\t\tprev1 = ar1[i]\n",
        "\t\t\ti += 1\n",
        "\n",
        "\t\t# If y < z, update prev2\n",
        "\t\t# and increment j\n",
        "\t\telif (ar2[j] < ar3[k]):\n",
        "\t\t\tprev2 = ar2[j]\n",
        "\t\t\tj += 1\n",
        "\n",
        "\t\t# We reach here when x > y\n",
        "\t\t# and z < y, i.e., z is\n",
        "\t\t# smallest update prev3\n",
        "\t\t# and increment k\n",
        "\t\telse:\n",
        "\t\t\tprev3 = ar3[k]\n",
        "\t\t\tk += 1\n",
        "\n",
        "\n",
        "# Driver code\n",
        "ar1 = [1, 5, 10, 20, 40, 80, 80]\n",
        "ar2 = [6, 7, 20, 80, 80, 100]\n",
        "ar3 = [3, 4, 15, 20, 30, 70, 80, 80, 120]\n",
        "n1 = len(ar1)\n",
        "n2 = len(ar2)\n",
        "n3 = len(ar3)\n",
        "\n",
        "print(\"Common Elements are \")\n",
        "findCommon(ar1, ar2, ar3, n1, n2, n3)"
      ],
      "metadata": {
        "colab": {
          "base_uri": "https://localhost:8080/"
        },
        "id": "u0PplPF0I67e",
        "outputId": "549bc5f7-2f8a-4123-8d42-a6f9e9bda7a8"
      },
      "execution_count": 2,
      "outputs": [
        {
          "output_type": "stream",
          "name": "stdout",
          "text": [
            "Common Elements are \n",
            "20 80 "
          ]
        }
      ]
    },
    {
      "cell_type": "code",
      "source": [
        "💡 Question 2\n",
        "\n",
        "Given two 0-indexed integer arrays nums1 and nums2, return a list answer of size 2 where:\n",
        "\n",
        "- answer[0] is a list of all distinct integers in nums1 which are not present in nums2.\n",
        "- answer[1] is a list of all distinct integers in nums2 which are not present in nums1.\n",
        "\n",
        "Note that the integers in the lists may be returned in any order.\n",
        "\n",
        "Example 1:\n",
        "\n",
        "Input: nums1 = [1,2,3], nums2 = [2,4,6]\n",
        "\n",
        "Output: [[1,3],[4,6]]\n",
        "\n",
        "Explanation:\n",
        "\n",
        "For nums1, nums1[1] = 2 is present at index 0 of nums2, whereas nums1[0] = 1 and nums1[2] = 3 are not present in nums2. Therefore, answer[0] = [1,3].\n",
        "\n",
        "For nums2, nums2[0] = 2 is present at index 1 of nums1, whereas nums2[1] = 4 and nums2[2] = 6 are not present in nums2. Therefore, answer[1] = [4,6].\n",
        "\n"
      ],
      "metadata": {
        "id": "NwW1hs9uJEf_"
      },
      "execution_count": null,
      "outputs": []
    },
    {
      "cell_type": "code",
      "source": [
        "class Solution(object):\n",
        "    def findDifference(self, nums1, nums2):\n",
        "        \"\"\"\n",
        "        :type nums1: List[int]\n",
        "        :type nums2: List[int]\n",
        "        :rtype: List[List[int]]\n",
        "        \"\"\"\n",
        "        l1=list(set(nums1)-set(nums2))\n",
        "        l2=list(set(nums2)-set(nums1))\n",
        "        return [l1,l2]\n",
        "'''Please Upvote'''"
      ],
      "metadata": {
        "colab": {
          "base_uri": "https://localhost:8080/",
          "height": 36
        },
        "id": "XBoRVD9jKTCZ",
        "outputId": "43976e3b-7699-4284-d363-5c14aeadb89f"
      },
      "execution_count": 5,
      "outputs": [
        {
          "output_type": "execute_result",
          "data": {
            "text/plain": [
              "'Please Upvote'"
            ],
            "application/vnd.google.colaboratory.intrinsic+json": {
              "type": "string"
            }
          },
          "metadata": {},
          "execution_count": 5
        }
      ]
    },
    {
      "cell_type": "code",
      "source": [
        "💡 Question 3\n",
        "Given a 2D integer array matrix, return the transpose of matrix.\n",
        "\n",
        "The transpose of a matrix is the matrix flipped over its main diagonal, switching the matrix's row and column indices.\n",
        "\n",
        "Example 1:\n",
        "\n",
        "Input: matrix = [[1,2,3],[4,5,6],[7,8,9]]\n",
        "\n",
        "Output: [[1,4,7],[2,5,8],[3,6,9]]\n",
        "\n"
      ],
      "metadata": {
        "id": "D29Gf-sEKUus"
      },
      "execution_count": null,
      "outputs": []
    },
    {
      "cell_type": "code",
      "source": [
        "class Solution:\n",
        "    def transpose(self, A):\n",
        "        return [[A[i][j] for i in range(len(A))] for j in range(len(A[0]))]"
      ],
      "metadata": {
        "id": "9C4GwkQ6KjyN"
      },
      "execution_count": 6,
      "outputs": []
    },
    {
      "cell_type": "code",
      "source": [
        "💡 Question 4\n",
        "Given an integer array nums of 2n integers, group these integers into n pairs (a1, b1), (a2, b2), ..., (an, bn) such that the sum of min(ai, bi) for all i\n",
        "is maximized. Return the maximized sum.\n",
        "\n",
        "Example 1:\n",
        "\n",
        "Input: nums = [1,4,3,2]\n",
        "\n",
        "Output: 4\n",
        "\n",
        "Explanation: All possible pairings (ignoring the ordering of elements) are:\n",
        "\n",
        "1. (1, 4), (2, 3) -> min(1, 4) + min(2, 3) = 1 + 2 = 3\n",
        "\n",
        "2. (1, 3), (2, 4) -> min(1, 3) + min(2, 4) = 1 + 2 = 3\n",
        "\n",
        "3. (1, 2), (3, 4) -> min(1, 2) + min(3, 4) = 1 + 3 = 4\n",
        "\n",
        "So the maximum possible sum is 4."
      ],
      "metadata": {
        "id": "0-igGfxkKj5C"
      },
      "execution_count": null,
      "outputs": []
    },
    {
      "cell_type": "code",
      "source": [
        "class Solution(object):\n",
        "    def arrayPairSum(self, nums):\n",
        "        \"\"\"\n",
        "        :type nums: List[int]\n",
        "        :rtype: int\n",
        "        \"\"\"\n",
        "\n",
        "\n",
        "        nums = sorted(nums)\n",
        "\n",
        "        summ = 0\n",
        "        for i in range(0,len(nums),2):\n",
        "            summ += min(nums[i],nums[i+1])\n",
        "        return summ"
      ],
      "metadata": {
        "id": "6XG5MKdELgsd"
      },
      "execution_count": 9,
      "outputs": []
    },
    {
      "cell_type": "code",
      "source": [
        "💡 Question 5\n",
        "You have n coins and you want to build a staircase with these coins. The staircase consists of k rows where the ith row has exactly i coins.\n",
        " The last row of the staircase may be incomplete.\n",
        "\n",
        "Given the integer n, return the number of complete rows of the staircase you will build.\n",
        "\n",
        "Example 1:\n",
        "\n",
        "Input: n = 5\n",
        "\n",
        "Output: 2\n",
        "\n",
        "Explanation: Because the 3rd row is incomplete, we return 2."
      ],
      "metadata": {
        "id": "Wn-0oyrzLgvF"
      },
      "execution_count": null,
      "outputs": []
    },
    {
      "cell_type": "code",
      "source": [
        "class Solution:\n",
        "    def arrangeCoins(self, n: int) -> int:\n",
        "        # Initialize pointers to first and last possible row lengths\n",
        "        left, right = 1, n\n",
        "\n",
        "        while left <= right:\n",
        "            # Compute the midpoint between left and right\n",
        "            mid = left + (right - left) // 2\n",
        "\n",
        "            # Compute the total number of coins needed for mid complete rows\n",
        "            coins = (mid * (mid + 1)) // 2\n",
        "\n",
        "            # If we have enough coins, look for a smaller number of rows\n",
        "            if coins <= n:\n",
        "                left = mid + 1\n",
        "            # Otherwise, look for a larger number of rows\n",
        "            else:\n",
        "                right = mid - 1\n",
        "\n",
        "        # Return the number of complete rows (i.e., right pointer)\n",
        "        return right"
      ],
      "metadata": {
        "id": "vp_ZCAXdLgyk"
      },
      "execution_count": 10,
      "outputs": []
    },
    {
      "cell_type": "code",
      "source": [
        "💡 Question 6\n",
        "Given an integer array nums sorted in non-decreasing order, return an array of the squares of each number sorted in non-decreasing order.\n",
        "\n",
        "Example 1:\n",
        "\n",
        "Input: nums = [-4,-1,0,3,10]\n",
        "\n",
        "Output: [0,1,9,16,100]\n",
        "\n",
        "Explanation: After squaring, the array becomes [16,1,0,9,100].\n",
        "After sorting, it becomes [0,1,9,16,100]"
      ],
      "metadata": {
        "id": "rGJJ6dOcLhUL"
      },
      "execution_count": null,
      "outputs": []
    },
    {
      "cell_type": "code",
      "source": [
        "class Solution(object):\n",
        "    def sortedSquares(self, nums):\n",
        "        result = [0]*len(nums)\n",
        "        i = 0\n",
        "        j = len(nums)-1\n",
        "        k = len(nums)-1\n",
        "        while k>=0:\n",
        "            if nums[i]*nums[i] <= nums[j]*nums[j]:\n",
        "                result[k] = nums[j]*nums[j]\n",
        "                k-=1\n",
        "                j-=1\n",
        "            else:\n",
        "                result[k] = nums[i]*nums[i]\n",
        "                i+=1\n",
        "                k-=1\n",
        "        return result"
      ],
      "metadata": {
        "id": "nCYapLx3NhPT"
      },
      "execution_count": 14,
      "outputs": []
    },
    {
      "cell_type": "code",
      "source": [
        "💡 Question 7\n",
        "You are given an m x n matrix M initialized with all 0's and an array of operations ops, where ops[i] = [ai, bi] means M[x][y] should be incremented\n",
        " by one for all 0 <= x < ai and 0 <= y < bi.\n",
        "\n",
        "Count and return the number of maximum integers in the matrix after performing all the operations\n",
        "\n",
        "Example 1:\n",
        "\n",
        "\n",
        "\n",
        "Input: m = 3, n = 3, ops = [[2,2],[3,3]]\n",
        "\n",
        "Output: 4\n",
        "\n",
        "Explanation: The maximum integer in M is 2, and there are four of it in M. So return 4."
      ],
      "metadata": {
        "id": "FPc92CtuNnvi"
      },
      "execution_count": null,
      "outputs": []
    },
    {
      "cell_type": "code",
      "source": [
        "# Python 3 for finding minimum\n",
        "# operation required\n",
        "\n",
        "# function for finding min\n",
        "# operation\n",
        "def minOp (arr, n) :\n",
        "\n",
        "\t# find array sum\n",
        "\tsm = sum(arr)\n",
        "\n",
        "\t# find the smallest element from\n",
        "\t# array\n",
        "\tsmall = min(arr)\n",
        "\n",
        "\t# calculate min operation required\n",
        "\tminOperation = sm - (n * small)\n",
        "\n",
        "\t# return result\n",
        "\treturn minOperation\n",
        "\n",
        "# Driver function\n",
        "arr = [5, 6, 2, 4, 3]\n",
        "n = len(arr)\n",
        "print( \"Minimum Operation = \", minOp (arr, n))"
      ],
      "metadata": {
        "colab": {
          "base_uri": "https://localhost:8080/"
        },
        "id": "-1IkligUOvJj",
        "outputId": "3134c463-adfc-43f9-d9ff-23c33a455b41"
      },
      "execution_count": 18,
      "outputs": [
        {
          "output_type": "stream",
          "name": "stdout",
          "text": [
            "Minimum Operation =  10\n"
          ]
        }
      ]
    },
    {
      "cell_type": "code",
      "source": [
        "💡 Question 8\n",
        "\n",
        "Given the array nums consisting of 2n elements in the form [x1,x2,...,xn,y1,y2,...,yn].\n",
        "\n",
        "Return the array in the form [x1,y1,x2,y2,...,xn,yn].\n",
        "\n",
        "Example 1:\n",
        "\n",
        "Input: nums = [2,5,1,3,4,7], n = 3\n",
        "\n",
        "Output: [2,3,5,4,1,7]\n",
        "\n",
        "Explanation: Since x1=2, x2=5, x3=1, y1=3, y2=4, y3=7 then the answer is [2,3,5,4,1,7]."
      ],
      "metadata": {
        "id": "ZsLq8J8cOx1R"
      },
      "execution_count": null,
      "outputs": []
    },
    {
      "cell_type": "code",
      "source": [
        "# the first half n elements are x and the second half n elements are y\n",
        "# we can iterate n times and push nums[i] and nums[i + n]\n",
        "# since the distance for each x_i and y_i is just `n`\n",
        "class Solution:\n",
        "    def shuffle(self, nums: List[int], n: int) -> List[int]:\n",
        "        ans = []\n",
        "        for i in range(n):\n",
        "            # push x_1 .. x_n\n",
        "            ans.append(nums[i])\n",
        "            # push y_1 .. y_n\n",
        "            ans.append(nums[i + n])\n",
        "        return ans\n",
        "\n",
        "        # alternatively, we can do it in one-liner\n",
        "        # return [x for p in zip(nums[:n], nums[n:]) for x in p]"
      ],
      "metadata": {
        "id": "Y6D0y6QXQO_u",
        "outputId": "98eba462-2a22-47da-e7e2-cff14a88d495",
        "colab": {
          "base_uri": "https://localhost:8080/",
          "height": 356
        }
      },
      "execution_count": 25,
      "outputs": [
        {
          "output_type": "error",
          "ename": "NameError",
          "evalue": "ignored",
          "traceback": [
            "\u001b[0;31m---------------------------------------------------------------------------\u001b[0m",
            "\u001b[0;31mNameError\u001b[0m                                 Traceback (most recent call last)",
            "\u001b[0;32m<ipython-input-25-006246a1bc5c>\u001b[0m in \u001b[0;36m<cell line: 4>\u001b[0;34m()\u001b[0m\n\u001b[1;32m      2\u001b[0m \u001b[0;31m# we can iterate n times and push nums[i] and nums[i + n]\u001b[0m\u001b[0;34m\u001b[0m\u001b[0;34m\u001b[0m\u001b[0m\n\u001b[1;32m      3\u001b[0m \u001b[0;31m# since the distance for each x_i and y_i is just `n`\u001b[0m\u001b[0;34m\u001b[0m\u001b[0;34m\u001b[0m\u001b[0m\n\u001b[0;32m----> 4\u001b[0;31m \u001b[0;32mclass\u001b[0m \u001b[0mSolution\u001b[0m\u001b[0;34m:\u001b[0m\u001b[0;34m\u001b[0m\u001b[0;34m\u001b[0m\u001b[0m\n\u001b[0m\u001b[1;32m      5\u001b[0m     \u001b[0;32mdef\u001b[0m \u001b[0mshuffle\u001b[0m\u001b[0;34m(\u001b[0m\u001b[0mself\u001b[0m\u001b[0;34m,\u001b[0m \u001b[0mnums\u001b[0m\u001b[0;34m:\u001b[0m \u001b[0mList\u001b[0m\u001b[0;34m[\u001b[0m\u001b[0mint\u001b[0m\u001b[0;34m]\u001b[0m\u001b[0;34m,\u001b[0m \u001b[0mn\u001b[0m\u001b[0;34m:\u001b[0m \u001b[0mint\u001b[0m\u001b[0;34m)\u001b[0m \u001b[0;34m->\u001b[0m \u001b[0mList\u001b[0m\u001b[0;34m[\u001b[0m\u001b[0mint\u001b[0m\u001b[0;34m]\u001b[0m\u001b[0;34m:\u001b[0m\u001b[0;34m\u001b[0m\u001b[0;34m\u001b[0m\u001b[0m\n\u001b[1;32m      6\u001b[0m         \u001b[0mans\u001b[0m \u001b[0;34m=\u001b[0m \u001b[0;34m[\u001b[0m\u001b[0;34m]\u001b[0m\u001b[0;34m\u001b[0m\u001b[0;34m\u001b[0m\u001b[0m\n",
            "\u001b[0;32m<ipython-input-25-006246a1bc5c>\u001b[0m in \u001b[0;36mSolution\u001b[0;34m()\u001b[0m\n\u001b[1;32m      3\u001b[0m \u001b[0;31m# since the distance for each x_i and y_i is just `n`\u001b[0m\u001b[0;34m\u001b[0m\u001b[0;34m\u001b[0m\u001b[0m\n\u001b[1;32m      4\u001b[0m \u001b[0;32mclass\u001b[0m \u001b[0mSolution\u001b[0m\u001b[0;34m:\u001b[0m\u001b[0;34m\u001b[0m\u001b[0;34m\u001b[0m\u001b[0m\n\u001b[0;32m----> 5\u001b[0;31m     \u001b[0;32mdef\u001b[0m \u001b[0mshuffle\u001b[0m\u001b[0;34m(\u001b[0m\u001b[0mself\u001b[0m\u001b[0;34m,\u001b[0m \u001b[0mnums\u001b[0m\u001b[0;34m:\u001b[0m \u001b[0mList\u001b[0m\u001b[0;34m[\u001b[0m\u001b[0mint\u001b[0m\u001b[0;34m]\u001b[0m\u001b[0;34m,\u001b[0m \u001b[0mn\u001b[0m\u001b[0;34m:\u001b[0m \u001b[0mint\u001b[0m\u001b[0;34m)\u001b[0m \u001b[0;34m->\u001b[0m \u001b[0mList\u001b[0m\u001b[0;34m[\u001b[0m\u001b[0mint\u001b[0m\u001b[0;34m]\u001b[0m\u001b[0;34m:\u001b[0m\u001b[0;34m\u001b[0m\u001b[0;34m\u001b[0m\u001b[0m\n\u001b[0m\u001b[1;32m      6\u001b[0m         \u001b[0mans\u001b[0m \u001b[0;34m=\u001b[0m \u001b[0;34m[\u001b[0m\u001b[0;34m]\u001b[0m\u001b[0;34m\u001b[0m\u001b[0;34m\u001b[0m\u001b[0m\n\u001b[1;32m      7\u001b[0m         \u001b[0;32mfor\u001b[0m \u001b[0mi\u001b[0m \u001b[0;32min\u001b[0m \u001b[0mrange\u001b[0m\u001b[0;34m(\u001b[0m\u001b[0mn\u001b[0m\u001b[0;34m)\u001b[0m\u001b[0;34m:\u001b[0m\u001b[0;34m\u001b[0m\u001b[0;34m\u001b[0m\u001b[0m\n",
            "\u001b[0;31mNameError\u001b[0m: name 'List' is not defined"
          ]
        }
      ]
    }
  ]
}