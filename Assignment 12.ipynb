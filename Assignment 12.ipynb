{
  "cells": [
    {
      "cell_type": "code",
      "execution_count": null,
      "metadata": {
        "id": "BZbnalj_Tevu"
      },
      "outputs": [],
      "source": [
        "1. In what modes should the PdfFileReader() and PdfFileWriter() File objects will be opened?"
      ]
    },
    {
      "cell_type": "code",
      "execution_count": null,
      "metadata": {
        "id": "6thMMuLeT7eR"
      },
      "outputs": [],
      "source": [
        "ANS:-  For PdfFileReader() file objects should be opened in rb -> read binary mode, Whereas for PdfFileWriter() file objects should\n",
        "       be opened in wb -> write binary mode."
      ]
    },
    {
      "cell_type": "code",
      "execution_count": null,
      "metadata": {
        "id": "PbCSzmeB4EyA"
      },
      "outputs": [],
      "source": [
        "2. From a PdfFileReader object, how do you get a Page object for page 5?"
      ]
    },
    {
      "cell_type": "code",
      "execution_count": null,
      "metadata": {
        "id": "jFmWDuic4R_Z"
      },
      "outputs": [],
      "source": [
        "ANS:- PdfFileReader class provides a method called getPage(page_no) to get a page object."
      ]
    },
    {
      "cell_type": "code",
      "execution_count": null,
      "metadata": {
        "id": "--uXBKB94YRX"
      },
      "outputs": [],
      "source": [
        "# Example Code:\n",
        "from PyPDF2 import PdfFileReader\n",
        "pdf_reader = PdfFileReader(file_path)\n",
        "for page in pdf_reader.getNumPages():\n",
        "    pdf_reader.getPage(page)"
      ]
    },
    {
      "cell_type": "code",
      "source": [
        "3. What PdfFileReader variable stores the number of pages in the PDF document?"
      ],
      "metadata": {
        "id": "Sj7G2XUm4ywx"
      },
      "execution_count": null,
      "outputs": []
    },
    {
      "cell_type": "code",
      "source": [
        "ANS:- getNumPages() method of PdfFileReader class stores the no pages in a PDF document"
      ],
      "metadata": {
        "id": "vB121ABE5EBT"
      },
      "execution_count": null,
      "outputs": []
    },
    {
      "cell_type": "code",
      "source": [
        "#Example Code:\n",
        "from PyPDF2 import PdfFileReader\n",
        "pdf_reader = PdfFileReader(file_path)\n",
        "print(pdf_reader.getNumPages()) # Prints the no of pages in a input document"
      ],
      "metadata": {
        "id": "xlC0pHB75op_"
      },
      "execution_count": null,
      "outputs": []
    },
    {
      "cell_type": "code",
      "source": [
        " 4. If a PdfFileReader object’s PDF is encrypted with the password swordfish, what must you do before you can obtain Page objects from it?"
      ],
      "metadata": {
        "id": "8H-OWd7n58Lf"
      },
      "execution_count": null,
      "outputs": []
    },
    {
      "cell_type": "code",
      "source": [
        "ANS:-  If a PdfFileReader object’s PDF is encrypted with the password swordfish and you're not aware of it. first read the Pdf using the PdfFileReader Class.\n",
        "       PdfFileReader class provides a attribute called isEncrypted to check whether a pdf is encrypted or not. the method returns true if a pdf is encrypted\n",
        "       and vice versa.if pdf is encrypted use the decrypt() method provided by PdfFileReader class first then try to read the contents/pages \n",
        "       of the pdf, else PyPDF2 will raise the following error PyPDF2.utils.PdfReadError: file has not been decrypted"
      ],
      "metadata": {
        "id": "6MzQgm-p6MKn"
      },
      "execution_count": null,
      "outputs": []
    },
    {
      "cell_type": "code",
      "source": [
        "#Example Code:\n",
        "from PyPDF2 import PdfFileReader\n",
        "pdf_reader = PdfFileReader(file_path)\n",
        "if pdf_reader.isEncrypted: # to check whether the pdf is encrypted or not\n",
        "    pdf_reader.decrypt(\"swordfish\")\n",
        "for page in pdf_reader.pages:\n",
        "    print(page.extractText()) # to print the text data of a page from pdf"
      ],
      "metadata": {
        "id": "HM79RD2z_zCU"
      },
      "execution_count": null,
      "outputs": []
    },
    {
      "cell_type": "code",
      "source": [
        "5. What methods do you use to rotate a page?"
      ],
      "metadata": {
        "id": "9gFclkJXWn9N"
      },
      "execution_count": null,
      "outputs": []
    },
    {
      "cell_type": "code",
      "source": [
        "ANS:- PyPDF2 Package provides 2 methods to rotate a page:\n",
        "     1. rotateClockWise() -> For Clockwise rotation\n",
        "     2. rotateCounterClockWise() -> For Counter Clockwise rotation\n",
        "     The PyPDF2 package only allows you to rotate a page in increments of 90 degrees. You will receive an AssertionError otherwise."
      ],
      "metadata": {
        "id": "1jHCjo90W3Mt"
      },
      "execution_count": null,
      "outputs": []
    },
    {
      "cell_type": "code",
      "source": [
        "6. What is the difference between a Run object and a Paragraph object?"
      ],
      "metadata": {
        "id": "ttj17bqbXfRC"
      },
      "execution_count": null,
      "outputs": []
    },
    {
      "cell_type": "code",
      "source": [
        "ANS:- The structure of a document is represented by three different data types in python-Docx. At the highest level, a Document object \n",
        "      represents the entire document. The Document object contains a list of Paragraph objects for the paragraphs in the document.\n",
        "      (A new paragraph begins whenever the user presses ENTER or RETURN while typing in a Word document.) Each of these Paragraph objects contains a list \n",
        "      of one or more Run objects.\n",
        "\n",
        "      The text in a Word document is more than just a string. It has font, size, color, and other styling information associated with it. A style in Word \n",
        "      is a collection of these attributes. A Run object is a contiguous run of text with the same style. A new Run\n",
        "      object is needed whenever the text style changes."
      ],
      "metadata": {
        "id": "1JE_JsZvYAaf"
      },
      "execution_count": null,
      "outputs": []
    },
    {
      "cell_type": "code",
      "source": [
        "7. How do you obtain a list of Paragraph objects for a Document object that’s stored in a variable named doc?"
      ],
      "metadata": {
        "id": "E4u8_1DgdZXk"
      },
      "execution_count": null,
      "outputs": []
    },
    {
      "cell_type": "code",
      "source": [
        "# Example Program\n",
        "from docx import Document\n",
        "doc = Document(\"sample_file.docx\") # Path of the Docx file\n",
        "print(doc.paragraphs) # Prints the list of Paragraph objects for a Document\n",
        "for paragraph in doc.paragraphs:\n",
        "    print(paragraph.text) # Prints the text in the paragraph"
      ],
      "metadata": {
        "id": "VgVfUedgdkUr"
      },
      "execution_count": null,
      "outputs": []
    },
    {
      "cell_type": "code",
      "source": [
        "8. What type of object has bold, underline, italic, strike, and outline variables?"
      ],
      "metadata": {
        "id": "Nm16WTuMdlxa"
      },
      "execution_count": null,
      "outputs": []
    },
    {
      "cell_type": "code",
      "source": [
        "ANS:- Run object has bold, underline, italic, strike, and outline variables. The text in a Word document is more than just a string. It has font, size, \n",
        "      color, and other styling information associated with it.\n",
        "\n",
        "      A style in Word is a collection of these attributes. A Run object is a contiguous run of text with the same style. A new Run object is needed whenever\n",
        "      the text style changes."
      ],
      "metadata": {
        "id": "NTno1ChRgKmx"
      },
      "execution_count": null,
      "outputs": []
    },
    {
      "cell_type": "code",
      "source": [
        "9. What is the difference between False, True, and None for the bold variable?"
      ],
      "metadata": {
        "id": "uEDMZsPOhK3J"
      },
      "execution_count": null,
      "outputs": []
    },
    {
      "cell_type": "code",
      "source": [
        "bold = True  # Style Set to Bold\n",
        "bold = False # Style Not Set to Bold\n",
        "bold = None # Style is Not Applicable"
      ],
      "metadata": {
        "id": "tNhCyGWxzEw6"
      },
      "execution_count": null,
      "outputs": []
    },
    {
      "cell_type": "code",
      "source": [
        "10. How do you create a Document object for a new Word document?"
      ],
      "metadata": {
        "id": "jsVMXEuCzf_s"
      },
      "execution_count": null,
      "outputs": []
    },
    {
      "cell_type": "code",
      "source": [
        "# Example Program\n",
        "from docx import Document\n",
        "document = Document()\n",
        "document.add_paragraph(\"iNeuron Full Stack DataScience Course\")\n",
        "document.save('mydocument.docx')"
      ],
      "metadata": {
        "id": "LGnO2wdB1Bu0"
      },
      "execution_count": null,
      "outputs": []
    },
    {
      "cell_type": "code",
      "source": [
        "11. How do you add a paragraph with the text 'Hello, there!' to a Document object stored in a variable named doc?"
      ],
      "metadata": {
        "id": "N8yYtyiR1Nc4"
      },
      "execution_count": null,
      "outputs": []
    },
    {
      "cell_type": "code",
      "source": [
        "# Example Program\n",
        "from docx import Document\n",
        "doc = Document()\n",
        "doc.add_paragraph('Hello, there!')\n",
        "doc.save('hello.docx')"
      ],
      "metadata": {
        "id": "1HCUXN9c1a-S"
      },
      "execution_count": null,
      "outputs": []
    },
    {
      "cell_type": "code",
      "source": [
        "12. What integers represent the levels of headings available in Word documents?"
      ],
      "metadata": {
        "id": "mM_SN0hF2k87"
      },
      "execution_count": null,
      "outputs": []
    },
    {
      "cell_type": "code",
      "source": [
        "ANS:- The levels for a heading in a word document can be specified by using the level attribute inside the add_heading method. There are a total\n",
        "      of 5 levels starting for 0 t0 4. where level 0 makes a headline with the horizontal line below the text, whereas  the heading level 1 is the\n",
        "      main heading. Similarly, the other headings are sub-heading with their's font-sizes in decreasing order.\n",
        "      "
      ],
      "metadata": {
        "id": "r9UfBMu63S9d"
      },
      "execution_count": null,
      "outputs": []
    }
  ],
  "metadata": {
    "colab": {
      "provenance": []
    },
    "kernelspec": {
      "display_name": "Python 3",
      "name": "python3"
    },
    "language_info": {
      "name": "python"
    }
  },
  "nbformat": 4,
  "nbformat_minor": 0
}