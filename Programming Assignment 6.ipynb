{
  "nbformat": 4,
  "nbformat_minor": 0,
  "metadata": {
    "colab": {
      "provenance": []
    },
    "kernelspec": {
      "name": "python3",
      "display_name": "Python 3"
    },
    "language_info": {
      "name": "python"
    }
  },
  "cells": [
    {
      "cell_type": "code",
      "execution_count": null,
      "metadata": {
        "id": "pVW7MYXeiz2q"
      },
      "outputs": [],
      "source": [
        "1. Write a Python Program to Display Fibonacci Sequence using Recursion ?\n"
      ]
    },
    {
      "cell_type": "code",
      "source": [
        "def genFibonacci(n,a,b):\n",
        "    if n == 0:\n",
        "        return 1\n",
        "    else:\n",
        "        result = a+b\n",
        "        print(result, end=', ')\n",
        "        genFibonacci(n-1,b,result)\n",
        "in_num = int(input('Enter the length of Series: '))\n",
        "print('0, 1',end=', ')\n",
        "genFibonacci(in_num,1,2)"
      ],
      "metadata": {
        "colab": {
          "base_uri": "https://localhost:8080/"
        },
        "id": "0o2r_HeI2Wef",
        "outputId": "3e193c26-ad04-4aef-930c-c2606a22ff70"
      },
      "execution_count": 1,
      "outputs": [
        {
          "output_type": "stream",
          "name": "stdout",
          "text": [
            "Enter the length of Series: 20\n",
            "0, 1, 3, 5, 8, 13, 21, 34, 55, 89, 144, 233, 377, 610, 987, 1597, 2584, 4181, 6765, 10946, 17711, 28657, "
          ]
        }
      ]
    },
    {
      "cell_type": "code",
      "source": [
        "2. Write a Python Program to Find Factorial of a Number using Recursion ?"
      ],
      "metadata": {
        "id": "WbCLGiOz58yc"
      },
      "execution_count": null,
      "outputs": []
    },
    {
      "cell_type": "code",
      "source": [
        "def factorial(num):\n",
        "    if (num < 1):\n",
        "        return 1\n",
        "    else:\n",
        "        return num*factorial(num-1)\n",
        "num = int(input('Enter a number: '))\n",
        "value = factorial(num)\n",
        "print(f'The Factorial of {num} is {value}')"
      ],
      "metadata": {
        "colab": {
          "base_uri": "https://localhost:8080/"
        },
        "id": "9Fl1ZAlA6DLc",
        "outputId": "9da3978e-7453-4e42-f906-41bbc5ca845a"
      },
      "execution_count": 2,
      "outputs": [
        {
          "output_type": "stream",
          "name": "stdout",
          "text": [
            "Enter a number: 5\n",
            "The Factorial of 5 is 120\n"
          ]
        }
      ]
    },
    {
      "cell_type": "code",
      "source": [
        "3. Write a Python Program to Calculate your Body Mass Index ?\n"
      ],
      "metadata": {
        "id": "vVudvKdc6Kqj"
      },
      "execution_count": null,
      "outputs": []
    },
    {
      "cell_type": "code",
      "source": [
        "def calculateBMI():\n",
        "    in_weight = eval(input('Enter your Weight(kgs): '))\n",
        "    in_height = eval(input('Enter your Height(mts): '))\n",
        "    calc_bmi = in_weight/pow(in_height,2)\n",
        "    if (calc_bmi < 18.5):\n",
        "        status = 'Underweight'\n",
        "    elif (calc_bmi >= 18.5 and calc_bmi < 24.9):\n",
        "        status = 'Healthy'\n",
        "    elif (calc_bmi >= 24.9 and calc_bmi < 30):\n",
        "        status = 'Overweight'\n",
        "    elif (calc_bmi >=30):\n",
        "        status = 'Suffering from Obesity'\n",
        "    print(f'Your\\'re BMI is {calc_bmi} and status is {status} ')\n",
        "calculateBMI()"
      ],
      "metadata": {
        "colab": {
          "base_uri": "https://localhost:8080/"
        },
        "id": "GiK5KuHj6UHy",
        "outputId": "32ff1bb0-48d6-4482-a48e-d69566c5a8c3"
      },
      "execution_count": 3,
      "outputs": [
        {
          "output_type": "stream",
          "name": "stdout",
          "text": [
            "Enter your Weight(kgs): 65\n",
            "Enter your Height(mts): 1.6\n",
            "Your're BMI is 25.390624999999996 and status is Overweight \n"
          ]
        }
      ]
    },
    {
      "cell_type": "code",
      "source": [
        "4. Write a Python Program to Calculate the Natural Logarithm of any Number ?\n"
      ],
      "metadata": {
        "id": "xMKuUphy6b7e"
      },
      "execution_count": null,
      "outputs": []
    },
    {
      "cell_type": "code",
      "source": [
        "import math\n",
        "def genNatLog():\n",
        "    in_num = eval(input(\"Enter a Number:\"))\n",
        "    print(math.log(in_num))\n",
        "\n",
        "genNatLog()"
      ],
      "metadata": {
        "colab": {
          "base_uri": "https://localhost:8080/"
        },
        "id": "qz3VSfxD64-l",
        "outputId": "2d3c6010-b7e5-42c7-cb1d-15ff207d522a"
      },
      "execution_count": 4,
      "outputs": [
        {
          "output_type": "stream",
          "name": "stdout",
          "text": [
            "Enter a Number:32\n",
            "3.4657359027997265\n"
          ]
        }
      ]
    },
    {
      "cell_type": "code",
      "source": [
        "5. Write a Python Program for Cube sum of first n Natural Numbers ?\n"
      ],
      "metadata": {
        "id": "RVny2KI-7vBn"
      },
      "execution_count": null,
      "outputs": []
    },
    {
      "cell_type": "code",
      "source": [
        "def cubeOfNaturalNumbers():\n",
        "    in_num = int(input(\"Enter the no of Natural Numbers: \"))\n",
        "    result = pow(((in_num * (in_num +1))/2),2)\n",
        "    print(f'The Cube Sum of First {in_num} Natural Numbers is {result}')\n",
        "\n",
        "cubeOfNaturalNumbers()"
      ],
      "metadata": {
        "colab": {
          "base_uri": "https://localhost:8080/"
        },
        "id": "yj0czwpy8OSA",
        "outputId": "f6c9182e-dfc9-48b8-9463-79b95b8c1852"
      },
      "execution_count": 5,
      "outputs": [
        {
          "output_type": "stream",
          "name": "stdout",
          "text": [
            "Enter the no of Natural Numbers: 3\n",
            "The Cube Sum of First 3 Natural Numbers is 36.0\n"
          ]
        }
      ]
    }
  ]
}