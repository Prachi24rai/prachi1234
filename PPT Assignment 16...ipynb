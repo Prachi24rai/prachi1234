{
  "nbformat": 4,
  "nbformat_minor": 0,
  "metadata": {
    "colab": {
      "provenance": []
    },
    "kernelspec": {
      "name": "python3",
      "display_name": "Python 3"
    },
    "language_info": {
      "name": "python"
    }
  },
  "cells": [
    {
      "cell_type": "code",
      "source": [
        "'''NFG function to find the next greater frequency\n",
        "element for each element in the array'''\n",
        "\n",
        "\n",
        "def NFG(a, n):\n",
        "\n",
        "\tif (n <= 0):\n",
        "\t\tprint(\"List empty\")\n",
        "\t\treturn []\n",
        "\n",
        "\t# stack data structure to store the position\n",
        "\t# of array element\n",
        "\tstack = [0]*n\n",
        "\n",
        "\t# freq is a dictionary which maintains the\n",
        "\t# frequency of each element\n",
        "\tfreq = {}\n",
        "\tfor i in a:\n",
        "\t\tfreq[a[i]] = 0\n",
        "\tfor i in a:\n",
        "\t\tfreq[a[i]] += 1\n",
        "\n",
        "\t# res to store the value of next greater\n",
        "\t# frequency element for each element\n",
        "\tres = [0]*n\n",
        "\n",
        "\t# initialize top of stack to -1\n",
        "\ttop = -1\n",
        "\n",
        "\t# push the first position of array in the stack\n",
        "\ttop += 1\n",
        "\tstack[top] = 0\n",
        "\n",
        "\t# now iterate for the rest of elements\n",
        "\tfor i in range(1, n):\n",
        "\n",
        "\t\t''' If the frequency of the element which is\n",
        "\t\t\tpointed by the top of stack is greater\n",
        "\t\t\tthan frequency of the current element\n",
        "\t\t\tthen push the current position i in stack'''\n",
        "\t\tif (freq[a[stack[top]]] > freq[a[i]]):\n",
        "\t\t\ttop += 1\n",
        "\t\t\tstack[top] = i\n",
        "\n",
        "\t\telse:\n",
        "\t\t\t''' If the frequency of the element which\n",
        "\t\t\tis pointed by the top of stack is less\n",
        "\t\t\tthan frequency of the current element, then\n",
        "\t\t\tpop the stack and continuing popping until\n",
        "\t\t\tthe above condition is true while the stack\n",
        "\t\t\tis not empty'''\n",
        "\n",
        "\t\t\twhile (top > -1 and freq[a[stack[top]]] < freq[a[i]]):\n",
        "\t\t\t\tres[stack[top]] = a[i]\n",
        "\t\t\t\ttop -= 1\n",
        "\n",
        "\t\t\t# now push the current element\n",
        "\t\t\ttop += 1\n",
        "\t\t\tstack[top] = i\n",
        "\n",
        "\t'''After iterating over the loop, the remaining\n",
        "\tposition of elements in stack do not have the\n",
        "\tnext greater element, so print -1 for them'''\n",
        "\twhile (top > -1):\n",
        "\t\tres[stack[top]] = -1\n",
        "\t\ttop -= 1\n",
        "\n",
        "\t# return the res list containing next\n",
        "\t# greater frequency element\n",
        "\treturn res\n",
        "\n",
        "\n",
        "# Driver Code\n",
        "print(NFG([1, 1, 2, 3, 4, 2, 1], 7))"
      ],
      "metadata": {
        "colab": {
          "base_uri": "https://localhost:8080/"
        },
        "id": "F4ii69QqPHQT",
        "outputId": "04aca8ea-41c9-4e54-f62e-74b2c5c37144"
      },
      "execution_count": 2,
      "outputs": [
        {
          "output_type": "stream",
          "name": "stdout",
          "text": [
            "[-1, -1, 1, 2, 2, 1, -1]\n"
          ]
        }
      ]
    },
    {
      "cell_type": "code",
      "source": [
        "# Python program to sort a\n",
        "# stack using auxiliary stack.\n",
        "\n",
        "# This function return the sorted stack\n",
        "def sortStack ( stack ):\n",
        "\ttmpStack = createStack()\n",
        "\twhile(isEmpty(stack) == False):\n",
        "\n",
        "\t\t# pop out the first element\n",
        "\t\ttmp = top(stack)\n",
        "\t\tpop(stack)\n",
        "\n",
        "\t\t# while temporary stack is not\n",
        "\t\t# empty and top of stack is\n",
        "\t\t# lesser than temp\n",
        "\t\twhile(isEmpty(tmpStack) == False and\n",
        "\t\t\tint(top(tmpStack)) < int(tmp)):\n",
        "\n",
        "\t\t\t# pop from temporary stack and\n",
        "\t\t\t# push it to the input stack\n",
        "\t\t\tpush(stack,top(tmpStack))\n",
        "\t\t\tpop(tmpStack)\n",
        "\n",
        "\t\t# push temp in temporary of stack\n",
        "\t\tpush(tmpStack,tmp)\n",
        "\n",
        "\treturn tmpStack\n",
        "\n",
        "# Below is a complete running\n",
        "# program for testing above\n",
        "# function.\n",
        "\n",
        "# Function to create a stack.\n",
        "# It initializes size of stack\n",
        "# as 0\n",
        "def createStack():\n",
        "\tstack = []\n",
        "\treturn stack\n",
        "\n",
        "# Function to check if\n",
        "# the stack is empty\n",
        "def isEmpty( stack ):\n",
        "\treturn len(stack) == 0\n",
        "\n",
        "# Function to push an\n",
        "# item to stack\n",
        "def push( stack, item ):\n",
        "\tstack.append( item )\n",
        "\n",
        "# Function to get top\n",
        "# item of stack\n",
        "def top( stack ):\n",
        "\tp = len(stack)\n",
        "\treturn stack[p-1]\n",
        "\n",
        "# Function to pop an\n",
        "# item from stack\n",
        "def pop( stack ):\n",
        "\n",
        "\t# If stack is empty\n",
        "\t# then error\n",
        "\tif(isEmpty( stack )):\n",
        "\t\tprint(\"Stack Underflow \")\n",
        "\t\texit(1)\n",
        "\n",
        "\treturn stack.pop()\n",
        "\n",
        "# Function to print the stack\n",
        "def prints(stack):\n",
        "\tfor i in range(len(stack)-1, -1, -1):\n",
        "\t\tprint(stack[i], end = ' ')\n",
        "\tprint()\n",
        "\n",
        "# Driver Code\n",
        "stack = createStack()\n",
        "push( stack, str(34) )\n",
        "push( stack, str(3) )\n",
        "push( stack, str(31) )\n",
        "push( stack, str(98) )\n",
        "push( stack, str(92) )\n",
        "push( stack, str(23) )\n",
        "\n",
        "print(\"Sorted numbers are: \")\n",
        "sortedst = sortStack ( stack )\n",
        "prints(sortedst)"
      ],
      "metadata": {
        "colab": {
          "base_uri": "https://localhost:8080/"
        },
        "id": "a8lnzEkRPka8",
        "outputId": "0587ba75-9a5b-495d-e750-c27e156e2544"
      },
      "execution_count": 3,
      "outputs": [
        {
          "output_type": "stream",
          "name": "stdout",
          "text": [
            "Sorted numbers are: \n",
            "3 23 31 34 92 98 \n"
          ]
        }
      ]
    },
    {
      "cell_type": "code",
      "source": [
        "import math\n",
        "\n",
        "st = []\n",
        "st.append('1')\n",
        "st.append('2')\n",
        "st.append('3')\n",
        "st.append('4')\n",
        "st.append('5')\n",
        "st.append('6')\n",
        "st.append('7')\n",
        "\n",
        "v = []\n",
        "\n",
        "while(len(st) > 0):\n",
        "\tv.append(st[0])\n",
        "\tdel st[0]\n",
        "\n",
        "n = len(v)\n",
        "\n",
        "if n%2==0:\n",
        "\ttarget = math.floor(n/2)\n",
        "\tfor i in range(0, n):\n",
        "\t\tif i==target:\n",
        "\t\t\tcontinue\n",
        "\t\tst.append(v[i])\n",
        "else:\n",
        "\ttarget = math.floor(n/2)\n",
        "\tfor i in range(0, n):\n",
        "\t\tif i==target:\n",
        "\t\t\tcontinue\n",
        "\t\tst.append(v[i])\n",
        "\n",
        "print(\"Printing stack after deletion of middle:\", end = \" \")\n",
        "\n",
        "while (len(st) > 0):\n",
        "\tp = st[0]\n",
        "\tdel st[0]\n",
        "\tprint(p, end = \" \")"
      ],
      "metadata": {
        "colab": {
          "base_uri": "https://localhost:8080/"
        },
        "id": "xcVD9VVwPkk7",
        "outputId": "9909bc56-35a3-4312-a830-179f4cc8de7f"
      },
      "execution_count": 4,
      "outputs": [
        {
          "output_type": "stream",
          "name": "stdout",
          "text": [
            "Printing stack after deletion of middle: 1 2 3 5 6 7 "
          ]
        }
      ]
    },
    {
      "cell_type": "code",
      "source": [
        "# Python Program to check if a queue of first\n",
        "# n natural number can be sorted using a stack\n",
        "from queue import Queue\n",
        "\n",
        "# Function to check if given queue element\n",
        "# can be sorted into another queue using a\n",
        "# stack.\n",
        "def checkSorted(n, q):\n",
        "\tst = []\n",
        "\texpected = 1\n",
        "\tfnt = None\n",
        "\n",
        "\t# while given Queue is not empty.\n",
        "\twhile (not q.empty()):\n",
        "\t\tfnt = q.queue[0]\n",
        "\t\tq.get()\n",
        "\n",
        "\t\t# if front element is the\n",
        "\t\t# expected element\n",
        "\t\tif (fnt == expected):\n",
        "\t\t\texpected += 1\n",
        "\n",
        "\t\telse:\n",
        "\n",
        "\t\t\t# if stack is empty, put the element\n",
        "\t\t\tif (len(st) == 0):\n",
        "\t\t\t\tst.append(fnt)\n",
        "\n",
        "\t\t\t# if top element is less than element which\n",
        "\t\t\t# need to be puted, then return false.\n",
        "\t\t\telif (len(st) != 0 and st[-1] < fnt):\n",
        "\t\t\t\treturn False\n",
        "\n",
        "\t\t\t# else put into the stack.\n",
        "\t\t\telse:\n",
        "\t\t\t\tst.append(fnt)\n",
        "\n",
        "\t\t# while expected element are coming\n",
        "\t\t# from stack, pop them out.\n",
        "\t\twhile (len(st) != 0 and\n",
        "\t\t\t\tst[-1] == expected):\n",
        "\t\t\tst.pop()\n",
        "\t\t\texpected += 1\n",
        "\n",
        "\t# if the final expected element value is equal\n",
        "\t# to initial Queue size and the stack is empty.\n",
        "\tif (expected - 1 == n and len(st) == 0):\n",
        "\t\treturn True\n",
        "\n",
        "\treturn False\n",
        "\n",
        "# Driver Code\n",
        "if __name__ == '__main__':\n",
        "\tq = Queue()\n",
        "\tq.put(5)\n",
        "\tq.put(1)\n",
        "\tq.put(2)\n",
        "\tq.put(3)\n",
        "\tq.put(4)\n",
        "\n",
        "\tn = q.qsize()\n",
        "\n",
        "\tif checkSorted(n, q):\n",
        "\t\tprint(\"Yes\")\n",
        "\telse:\n",
        "\t\tprint(\"No\")"
      ],
      "metadata": {
        "colab": {
          "base_uri": "https://localhost:8080/"
        },
        "id": "Qw2QE4UgQFV2",
        "outputId": "7f33130a-bca1-4ce1-80a6-bfcf488087e8"
      },
      "execution_count": 5,
      "outputs": [
        {
          "output_type": "stream",
          "name": "stdout",
          "text": [
            "Yes\n"
          ]
        }
      ]
    },
    {
      "cell_type": "code",
      "source": [
        "# Python3 program to reverse the\n",
        "# number using a stack\n",
        "\n",
        "# Stack to maintain order of digits\n",
        "st = [];\n",
        "\n",
        "# Function to push digits into stack\n",
        "def push_digits(number):\n",
        "\n",
        "\twhile (number != 0):\n",
        "\t\tst.append(number % 10);\n",
        "\t\tnumber = int(number / 10);\n",
        "\n",
        "# Function to reverse the number\n",
        "def reverse_number(number):\n",
        "\n",
        "\t# Function call to push number's\n",
        "\t# digits to stack\n",
        "\tpush_digits(number);\n",
        "\n",
        "\treverse = 0;\n",
        "\ti = 1;\n",
        "\n",
        "\t# Popping the digits and forming\n",
        "\t# the reversed number\n",
        "\twhile (len(st) > 0):\n",
        "\t\treverse = reverse + (st[len(st) - 1] * i);\n",
        "\t\tst.pop();\n",
        "\t\ti = i * 10;\n",
        "\n",
        "\t# Return the reversed number formed\n",
        "\treturn reverse;\n",
        "\n",
        "# Driver Code\n",
        "number = 39997;\n",
        "\n",
        "# Function call to reverse number\n",
        "print(reverse_number(number));"
      ],
      "metadata": {
        "colab": {
          "base_uri": "https://localhost:8080/"
        },
        "id": "AWVgPWMVQYST",
        "outputId": "2a74c41d-1abe-4c7c-d275-75dc52de8a43"
      },
      "execution_count": 6,
      "outputs": [
        {
          "output_type": "stream",
          "name": "stdout",
          "text": [
            "79993\n"
          ]
        }
      ]
    },
    {
      "cell_type": "code",
      "source": [
        "from collections import deque\n",
        "\n",
        "def reverse_first_k(q, k):\n",
        "\tsolve(q, k)\n",
        "\ts = len(q) - k\n",
        "\tfor _ in range(s):\n",
        "\t\tx = q.popleft()\n",
        "\t\tq.append(x)\n",
        "\treturn q\n",
        "\n",
        "def solve(q, k):\n",
        "\tif k == 0:\n",
        "\t\treturn\n",
        "\te = q.popleft()\n",
        "\tsolve(q, k - 1)\n",
        "\tq.append(e)\n",
        "\n",
        "# Driver code\n",
        "queue = deque([10, 20, 30, 40, 50, 60, 70, 80, 90, 100])\n",
        "k = 5\n",
        "queue = reverse_first_k(queue, k)\n",
        "\n",
        "# Printing queue\n",
        "while queue:\n",
        "\tprint(queue.popleft(), end=' ')\n"
      ],
      "metadata": {
        "colab": {
          "base_uri": "https://localhost:8080/"
        },
        "id": "gyK9KyzXRDsd",
        "outputId": "1470c740-b983-4131-f23c-9cadb121d346"
      },
      "execution_count": 7,
      "outputs": [
        {
          "output_type": "stream",
          "name": "stdout",
          "text": [
            "50 40 30 20 10 60 70 80 90 100 "
          ]
        }
      ]
    },
    {
      "cell_type": "code",
      "source": [
        "# Python3 program to remove consecutive\n",
        "# same words\n",
        "\n",
        "# Function to find the size of\n",
        "# manipulated sequence\n",
        "def removeConsecutiveSame(v):\n",
        "\n",
        "\tn = len(v)\n",
        "\n",
        "\t# Start traversing the sequence\n",
        "\ti = 0\n",
        "\twhile(i < n - 1):\n",
        "\n",
        "\t\t# Compare the current string with\n",
        "\t\t# next one Erase both if equal\n",
        "\t\tif ((i + 1) < len(v)) and (v[i] == v[i + 1]):\n",
        "\n",
        "\t\t\t# Erase function delete the element and\n",
        "\t\t\t# also shifts other element that's why\n",
        "\t\t\t# i is not updated\n",
        "\t\t\tv = v[:i]\n",
        "\t\t\tv = v[:i]\n",
        "\n",
        "\t\t\t# Update i, as to check from previous\n",
        "\t\t\t# element again\n",
        "\t\t\tif (i > 0):\n",
        "\t\t\t\ti -= 1\n",
        "\n",
        "\t\t\t# Reduce sequence size\n",
        "\t\t\tn = n - 2\n",
        "\n",
        "\t\t# Increment i, if not equal\n",
        "\t\telse:\n",
        "\t\t\ti += 1\n",
        "\n",
        "\t# Return modified size\n",
        "\treturn len(v[:i - 1])\n",
        "\n",
        "# Driver Code\n",
        "if __name__ == '__main__':\n",
        "\tv = [\"tom\", \"jerry\", \"jerry\", \"tom\"]\n",
        "\tprint(removeConsecutiveSame(v))"
      ],
      "metadata": {
        "colab": {
          "base_uri": "https://localhost:8080/"
        },
        "id": "exhMqpTPRPhE",
        "outputId": "36570b7f-d160-4139-dae8-da2d9b70b85e"
      },
      "execution_count": 8,
      "outputs": [
        {
          "output_type": "stream",
          "name": "stdout",
          "text": [
            "0\n"
          ]
        }
      ]
    }
  ]
}