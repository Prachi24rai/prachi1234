{
  "nbformat": 4,
  "nbformat_minor": 0,
  "metadata": {
    "colab": {
      "provenance": []
    },
    "kernelspec": {
      "name": "python3",
      "display_name": "Python 3"
    },
    "language_info": {
      "name": "python"
    }
  },
  "cells": [
    {
      "cell_type": "code",
      "execution_count": 1,
      "metadata": {
        "id": "W83Ayn2DdJmY"
      },
      "outputs": [],
      "source": [
        "class Solution(object):\n",
        "    def moveZeroes(self, nums):\n",
        "        n=len(nums)\n",
        "        for i in range(0,n):\n",
        "            if nums[i]==0:\n",
        "                nums.remove(nums[i])\n",
        "                nums.append(0)\n",
        "        return nums"
      ]
    }
  ]
}