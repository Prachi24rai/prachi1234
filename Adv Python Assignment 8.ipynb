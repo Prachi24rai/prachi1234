{
  "nbformat": 4,
  "nbformat_minor": 0,
  "metadata": {
    "colab": {
      "provenance": []
    },
    "kernelspec": {
      "name": "python3",
      "display_name": "Python 3"
    },
    "language_info": {
      "name": "python"
    }
  },
  "cells": [
    {
      "cell_type": "code",
      "execution_count": null,
      "metadata": {
        "id": "ofSe6PZnHBSW"
      },
      "outputs": [],
      "source": [
        "Q1. What are the two latest user-defined exception constraints in Python 3.X?"
      ]
    },
    {
      "cell_type": "code",
      "source": [
        "Ans: raise and assert are the two latest user-defined exception constraints in Python 3.X"
      ],
      "metadata": {
        "id": "g6NVGQzlHhEu"
      },
      "execution_count": null,
      "outputs": []
    },
    {
      "cell_type": "code",
      "source": [
        "Q2. How are class-based exceptions that have been raised matched to handlers?"
      ],
      "metadata": {
        "id": "Iiakyqn0HoN9"
      },
      "execution_count": null,
      "outputs": []
    },
    {
      "cell_type": "code",
      "source": [
        "Ans: In python, Users can define custom exceptions by creating a new class. This exception class has to be derived, either directly or indirectly from\n",
        " built-in Exception class. This new exception class like other exceptions can be raised using the raise statement with an optional error message"
      ],
      "metadata": {
        "id": "b8DCakViHpTL"
      },
      "execution_count": null,
      "outputs": []
    },
    {
      "cell_type": "code",
      "source": [
        "class ToYoungException(Exception):\n",
        "    def __init__(self,msg):\n",
        "        self.msg = msg\n",
        "age = 12\n",
        "if age <= 18: raise ToYoungException('To Young For Voting')"
      ],
      "metadata": {
        "id": "fk3xUCZgHwbw"
      },
      "execution_count": null,
      "outputs": []
    },
    {
      "cell_type": "code",
      "source": [
        "Q3. Describe two methods for attaching context information to exception artefacts ?"
      ],
      "metadata": {
        "id": "89dGOA_dH1OQ"
      },
      "execution_count": null,
      "outputs": []
    },
    {
      "cell_type": "code",
      "source": [
        "Ans: The process() method of LoggerAdapter is where the contextual information is added to the logging output. its passes the message and keyword arguments\n",
        " of the logging call, and it passes back modified versions of these to use in the call to the underlying logger.\n",
        "\n",
        "Other method that can be used is exception(), Logs a messgae with level ERROR on this logger. The arguments are interpreted as for debug(). Exception info is\n",
        "added to the logging message."
      ],
      "metadata": {
        "id": "Bg9Qdo7KH6_q"
      },
      "execution_count": null,
      "outputs": []
    },
    {
      "cell_type": "code",
      "source": [
        "Q4. Describe two methods for specifying the text of an exception object's error message ?"
      ],
      "metadata": {
        "id": "ZxMqWHzIIAiI"
      },
      "execution_count": null,
      "outputs": []
    },
    {
      "cell_type": "code",
      "source": [
        "Ans: raise and assert are two methods for specifying the text of an exception object's error message.raise statement is used to trigger explicit exception, if certain\n",
        " condition is not as per requirement of programmer. it helps in triggering exception as per need of programmer and logic.\n",
        "\n",
        "There are few assertions that programmer always want to be True to avoid code failure. This type of requirment is fullfilled by assert statement.\n",
        "This statement takes a Boolean Condition output of which if True, further program executes. if output of assert statement is False it raises an Assertion Error."
      ],
      "metadata": {
        "id": "1SefX0MyIEhz"
      },
      "execution_count": null,
      "outputs": []
    },
    {
      "cell_type": "code",
      "source": [
        "Q5. Why do you no longer use string-based exceptions?"
      ],
      "metadata": {
        "id": "VYfys81bIrwi"
      },
      "execution_count": null,
      "outputs": []
    },
    {
      "cell_type": "code",
      "source": [
        "Ans: String-based Exceptions doesn't inherit from Exceptions. so plain exceptions catch all exceptions and not only system."
      ],
      "metadata": {
        "id": "bbAP2S1mIzHZ"
      },
      "execution_count": null,
      "outputs": []
    }
  ]
}