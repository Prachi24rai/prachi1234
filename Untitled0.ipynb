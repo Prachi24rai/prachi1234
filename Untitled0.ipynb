{
  "nbformat": 4,
  "nbformat_minor": 0,
  "metadata": {
    "colab": {
      "provenance": []
    },
    "kernelspec": {
      "name": "python3",
      "display_name": "Python 3"
    },
    "language_info": {
      "name": "python"
    }
  },
  "cells": [
    {
      "cell_type": "code",
      "execution_count": null,
      "metadata": {
        "id": "eMDrOgOxohcN"
      },
      "outputs": [],
      "source": [
        "What are the two values of the Boolean data type? How do you write them?\n",
        "ANS:- TRUE and FALSE are the two values of the Boolean data type. We have to use capital T and F and with the rest of the word in lowercase"
      ]
    },
    {
      "cell_type": "code",
      "source": [
        "class_starts_at = 3 \n",
        "you_came_at = 2\n",
        "you_understood_all_concepts = you_came_at < class_starts_at\n",
        "\n",
        "print(f\"You understood everything?: {you_understood_all_concepts}\")"
      ],
      "metadata": {
        "colab": {
          "base_uri": "https://localhost:8080/"
        },
        "id": "do8qLdG0sOBm",
        "outputId": "10d79cc4-4118-450b-afa8-18962a6efe48"
      },
      "execution_count": 4,
      "outputs": [
        {
          "output_type": "stream",
          "name": "stdout",
          "text": [
            "You understood everything?: True\n"
          ]
        }
      ]
    },
    {
      "cell_type": "code",
      "source": [
        "2. What are the three different types of Boolean operators?\n",
        "ANS:- Three different types of boolean operators are:-  or , and , not"
      ],
      "metadata": {
        "id": "5Nppfg0Usm58"
      },
      "execution_count": null,
      "outputs": []
    },
    {
      "cell_type": "code",
      "source": [
        "class_started = True\n",
        "\n",
        "if not class_started:\n",
        "    print(\"Since class is not started...\")\n",
        "    print(\"let's revise\")\n",
        "else:\n",
        "    print(\"Since class started...\")\n",
        "    print(\"Lets concentrate\")"
      ],
      "metadata": {
        "colab": {
          "base_uri": "https://localhost:8080/"
        },
        "id": "mU2lkDETtk__",
        "outputId": "19dfc568-fdea-49dc-d29d-98a8ed2c6818"
      },
      "execution_count": 7,
      "outputs": [
        {
          "output_type": "stream",
          "name": "stdout",
          "text": [
            "Since class started...\n",
            "Lets concentrate\n"
          ]
        }
      ]
    },
    {
      "cell_type": "code",
      "source": [
        "vegetable_present = False\n",
        "salt_present = False\n",
        "\n",
        "if vegetable_present and salt_present:\n",
        "    print(\"Its a good dish\")\n",
        "else:\n",
        "    print(\"Its a bad dish\")\n",
        "    print(f\"because vegetable present: {vegetable_present}\")\n",
        "    print(f\"and salt present: {salt_present}\")"
      ],
      "metadata": {
        "colab": {
          "base_uri": "https://localhost:8080/"
        },
        "id": "XUEQdSK6u4Tx",
        "outputId": "92801a58-8f45-4ae3-c7f8-036b727db8b2"
      },
      "execution_count": 8,
      "outputs": [
        {
          "output_type": "stream",
          "name": "stdout",
          "text": [
            "Its a bad dish\n",
            "because vegetable present: False\n",
            "and salt present: False\n"
          ]
        }
      ]
    },
    {
      "cell_type": "code",
      "source": [
        "i_own_car = False\n",
        "i_own_bike = True\n",
        "\n",
        "if i_own_car or i_own_bike:\n",
        "    print(\"I can travel 100 kms in a day!\")\n",
        "else:\n",
        "    print(\"I am stuck as I don't have car or bike!\")"
      ],
      "metadata": {
        "colab": {
          "base_uri": "https://localhost:8080/"
        },
        "id": "sB5RFLqQvROo",
        "outputId": "f265eff1-59f2-41a1-d9a0-15a2a67550c6"
      },
      "execution_count": 9,
      "outputs": [
        {
          "output_type": "stream",
          "name": "stdout",
          "text": [
            "I can travel 100 kms in a day!\n"
          ]
        }
      ]
    },
    {
      "cell_type": "code",
      "source": [
        "3. Make a list of each Boolean operators truth tables (i.e. every possible combination of Boolean\n",
        "values for the operator and what it evaluate ).\n",
        "ANS:- The Truth tables for the boolean tables are as follows:\n",
        "\n",
        "Truth Table for and operaotor\n",
        "True and True is True\n",
        "True and False is False\n",
        "False and True is False\n",
        "False and False is False\n",
        "\n",
        "Truth Table for or operaotor\n",
        "True and True is True\n",
        "True and False is True\n",
        "False and True is True\n",
        "False and False is False\n",
        "\n",
        "Truth Table for not operaotor\n",
        "True not is False False not is True"
      ],
      "metadata": {
        "id": "cgeMxE48wEBL"
      },
      "execution_count": null,
      "outputs": []
    },
    {
      "cell_type": "code",
      "source": [
        "4. What are the values of the following expressions?\n",
        "(5 > 4) and (3 == 5)\n",
        "not (5 > 4)\n",
        "(5 > 4) or (3 == 5)\n",
        "not ((5 > 4) or (3 == 5))\n",
        "(True and True) and (True == False)\n",
        "(not False) or (not True)\n",
        "\n",
        "ANS:- "
      ],
      "metadata": {
        "id": "71WdCHrn5g1E"
      },
      "execution_count": null,
      "outputs": []
    },
    {
      "cell_type": "code",
      "source": [
        "print((5>4)and(3==5)) # False\n",
        "print(not(5>4)) # False\n",
        "print((5>4)or(3==5)) # True\n",
        "print(not((5>4)or(3==5))) # False\n",
        "print((True and True)and(True==False)) # False\n",
        "print((not False)or(not True)) # True"
      ],
      "metadata": {
        "colab": {
          "base_uri": "https://localhost:8080/"
        },
        "id": "jnwtBTfoE3d8",
        "outputId": "3514b1f5-29b6-4d4b-8479-6da983e04f94"
      },
      "execution_count": 6,
      "outputs": [
        {
          "output_type": "stream",
          "name": "stdout",
          "text": [
            "False\n",
            "False\n",
            "True\n",
            "False\n",
            "False\n",
            "True\n"
          ]
        }
      ]
    },
    {
      "cell_type": "code",
      "source": [
        "5. What are the six comparison operators?\n",
        "ANS:-  The Six comparision operators available in python are:\n",
        "== , != , < , > , <= , =>"
      ],
      "metadata": {
        "id": "IbtLI3z0kjp-"
      },
      "execution_count": null,
      "outputs": []
    },
    {
      "cell_type": "code",
      "source": [
        "6. How do you tell the difference between the equal to and assignment operators?Describe a\n",
        "condition and when you would use one.\n",
        "ANS:- == is the equal to operator that compares two values and evaluates to a Boolean, while = is that assignment operator that stores a value in a variable.\n"
      ],
      "metadata": {
        "id": "NGRPICauofyo"
      },
      "execution_count": null,
      "outputs": []
    },
    {
      "cell_type": "code",
      "source": [
        "numA = 5\n",
        "numB = 6\n",
        "numA == numB"
      ],
      "metadata": {
        "colab": {
          "base_uri": "https://localhost:8080/"
        },
        "id": "l1akqsex2HXo",
        "outputId": "10766c27-8d50-4fac-a296-7824e747500a"
      },
      "execution_count": 15,
      "outputs": [
        {
          "output_type": "execute_result",
          "data": {
            "text/plain": [
              "False"
            ]
          },
          "metadata": {},
          "execution_count": 15
        }
      ]
    },
    {
      "cell_type": "code",
      "source": [
        "numA = 5\n",
        "numB = 5\n",
        "numA == numB"
      ],
      "metadata": {
        "colab": {
          "base_uri": "https://localhost:8080/"
        },
        "id": "BGYpbeLB5_h8",
        "outputId": "9ee14f57-a7ee-4b73-a98e-c21b56661457"
      },
      "execution_count": 16,
      "outputs": [
        {
          "output_type": "execute_result",
          "data": {
            "text/plain": [
              "True"
            ]
          },
          "metadata": {},
          "execution_count": 16
        }
      ]
    },
    {
      "cell_type": "code",
      "source": [
        "7. Identify the three blocks in this code:\n",
        "spam = 0\n",
        "if spam == 10:\n",
        "print('eggs')\n",
        "if spam > 5:\n",
        "print('bacon')\n",
        "else:\n",
        "print('ham')\n",
        "print('spam')\n",
        "print('spam')\n",
        "\n",
        "ANS:-  In Python, code block refers to a collection of code that is in the same block or indent. This is most commonly found in classes, functions, and loops."
      ],
      "metadata": {
        "id": "sFX7-hTv6QVs"
      },
      "execution_count": null,
      "outputs": []
    },
    {
      "cell_type": "code",
      "source": [
        "spam = 0  \n",
        "if spam == 10:  \n",
        "    print('eggs')  # block #1\n",
        "if spam > 5:  \n",
        "    print('bacon')  # block #2\n",
        "else:  \n",
        "    print('ham')  # block #3\n",
        "print('spam')  \n",
        "print('spam')"
      ],
      "metadata": {
        "colab": {
          "base_uri": "https://localhost:8080/"
        },
        "id": "girhXL9oFjZe",
        "outputId": "fc7726d6-cf82-41c0-8d89-1ab0e74b06ec"
      },
      "execution_count": 3,
      "outputs": [
        {
          "output_type": "stream",
          "name": "stdout",
          "text": [
            "ham\n",
            "spam\n",
            "spam\n"
          ]
        }
      ]
    },
    {
      "cell_type": "code",
      "source": [
        "8. Write code that prints Hello if 1 is stored in spam, prints Howdy if 2 is stored in spam, and prints Greetings! if anything else is stored in spam."
      ],
      "metadata": {
        "id": "oED5YOzuK0E8"
      },
      "execution_count": null,
      "outputs": []
    },
    {
      "cell_type": "code",
      "source": [
        "def spamCode(spam):\n",
        "    if spam==1:\n",
        "        print('Hello')\n",
        "    elif spam==2:\n",
        "        print('Howdy')\n",
        "    else:\n",
        "        print('Greetings')\n",
        "        \n",
        "spamCode(1) \n",
        "spamCode(2)\n",
        "spamCode(3)"
      ],
      "metadata": {
        "colab": {
          "base_uri": "https://localhost:8080/"
        },
        "id": "bGn8vNnKOhRF",
        "outputId": "fa7549d6-cce9-41f5-e40b-dbdf954c4ea3"
      },
      "execution_count": 2,
      "outputs": [
        {
          "output_type": "stream",
          "name": "stdout",
          "text": [
            "Hello\n",
            "Howdy\n",
            "Greetings\n"
          ]
        }
      ]
    },
    {
      "cell_type": "code",
      "source": [
        "9.If your programme is stuck in an endless loop, what keys you’ll press?\n",
        "\n",
        "ANS:-  Press Ctrl-c to stop a program stuck in an infinite loop"
      ],
      "metadata": {
        "id": "icz3DHmKP31y"
      },
      "execution_count": null,
      "outputs": []
    },
    {
      "cell_type": "code",
      "source": [
        "10. How can you tell the difference between break and continue?\n",
        "\n",
        "ANS:- The break statement will move the execution outside the loop if break condtion is satisfied. Whereas the continue statement will move the execution to the start of the loop."
      ],
      "metadata": {
        "id": "cF8OmR0KQFqk"
      },
      "execution_count": null,
      "outputs": []
    },
    {
      "cell_type": "code",
      "source": [
        "11. In a for loop, what is the difference between range(10), range(0, 10), and range(0, 10, 1)?"
      ],
      "metadata": {
        "id": "UE6U48eITvMh"
      },
      "execution_count": null,
      "outputs": []
    },
    {
      "cell_type": "code",
      "source": [
        "Ans: The Differences are as follows:\n",
        "\n",
        "1. The range(10) call range from 0 to 9 (but not include 10)\n",
        "2. The range (0,10) explicitly tells the loop to start at 0\n",
        "3. The range(0,10,1) explicitly tells the loop to increase the variable by 1 on each iteration"
      ],
      "metadata": {
        "id": "4Zn2ilWET99l"
      },
      "execution_count": null,
      "outputs": []
    },
    {
      "cell_type": "code",
      "source": [
        "12. Write a short program that prints the numbers 1 to 10 using a for loop. Then write an equivalent\n",
        "program that prints the numbers 1 to 10 using a while loop."
      ],
      "metadata": {
        "id": "BWLTBHsd-Pjg"
      },
      "execution_count": null,
      "outputs": []
    },
    {
      "cell_type": "code",
      "source": [
        "print('-'*10,'Using For Loop','-'*10)\n",
        "for i in range(1,11):\n",
        "    print(i, end=\" \")\n",
        "print('\\n')\n",
        "print('-'*10,'Using While Loop','-'*10) \n",
        "i=1\n",
        "while i<=10:\n",
        "    print(i, end=\" \")\n",
        "    i+=1"
      ],
      "metadata": {
        "colab": {
          "base_uri": "https://localhost:8080/"
        },
        "id": "8xTw1xrh_S4Y",
        "outputId": "d408f5fd-4111-40ad-fcfe-70cb3d221545"
      },
      "execution_count": 1,
      "outputs": [
        {
          "output_type": "stream",
          "name": "stdout",
          "text": [
            "---------- Using For Loop ----------\n",
            "1 2 3 4 5 6 7 8 9 10 \n",
            "\n",
            "---------- Using While Loop ----------\n",
            "1 2 3 4 5 6 7 8 9 10 "
          ]
        }
      ]
    },
    {
      "cell_type": "code",
      "source": [
        "13. If you had a function named bacon() inside a module named spam, how would you call it after importing spam ?\n",
        "\n",
        "Ans: This function can be called with spam.bacon()"
      ],
      "metadata": {
        "id": "JuFZ4DGKPXzk"
      },
      "execution_count": null,
      "outputs": []
    }
  ]
}