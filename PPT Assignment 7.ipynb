{
  "nbformat": 4,
  "nbformat_minor": 0,
  "metadata": {
    "colab": {
      "provenance": []
    },
    "kernelspec": {
      "name": "python3",
      "display_name": "Python 3"
    },
    "language_info": {
      "name": "python"
    }
  },
  "cells": [
    {
      "cell_type": "code",
      "execution_count": null,
      "metadata": {
        "id": "c5WBuxUEPFDP"
      },
      "outputs": [],
      "source": [
        "💡 Question 1\n",
        "\n",
        "Given two strings s and t, determine if they are isomorphic.\n",
        "\n",
        "Two strings s and t are isomorphic if the characters in s can be replaced to get t.\n",
        "\n",
        "All occurrences of a character must be replaced with another character while preserving the order of characters. No two characters may map to the\n",
        " same character, but a character may map to itself.\n",
        "\n",
        "Example 1:\n",
        "\n",
        "Input: s = \"egg\", t = \"add\"\n",
        "\n",
        "Output: true"
      ]
    },
    {
      "cell_type": "code",
      "source": [
        "# Python3 program to check if two strings are IsIsomorphic\n",
        "\n",
        "# this function returns true if str1\n",
        "# and str2 are isomorphic\n",
        "\n",
        "\n",
        "def areIsomorphic(str1, str2):\n",
        "\t# initializing a dictionary\n",
        "\t# to store letters from str1 and str2\n",
        "\t# as key value pairs\n",
        "\tcharCount = dict()\n",
        "\t# initially setting c to \"a\"\n",
        "\tc = \"a\"\n",
        "\t# iterating over str1 and str2\n",
        "\tfor i in range(len(str1)):\n",
        "\t\t# if str1[i] is a key in charCount\n",
        "\t\tif str1[i] in charCount:\n",
        "\t\t\tc = charCount[str1[i]]\n",
        "\t\t\tif c != str2[i]:\n",
        "\t\t\t\treturn False\n",
        "\t\t# if str2[i] is not a value in charCount\n",
        "\t\telif str2[i] not in charCount.values():\n",
        "\t\t\tcharCount[str1[i]] = str2[i]\n",
        "\t\telse:\n",
        "\t\t\treturn False\n",
        "\treturn True\n",
        "\n",
        "\n",
        "# Driver Code\n",
        "str1 = \"aac\"\n",
        "str2 = \"xxy\"\n",
        "\n",
        "# Function Call\n",
        "if (len(str1) == len(str2) and areIsomorphic(str1, str2)):\n",
        "\tprint(\"True\")\n",
        "else:\n",
        "\tprint(\"False\")"
      ],
      "metadata": {
        "colab": {
          "base_uri": "https://localhost:8080/"
        },
        "id": "u3rZROIdRG5E",
        "outputId": "08232ec8-3c65-46b0-a5be-40eaa8dee98a"
      },
      "execution_count": 2,
      "outputs": [
        {
          "output_type": "stream",
          "name": "stdout",
          "text": [
            "True\n"
          ]
        }
      ]
    },
    {
      "cell_type": "code",
      "source": [
        "💡 Question 2\n",
        "\n",
        "Given a string num which represents an integer, return true if num is a strobogrammatic number.\n",
        "\n",
        "A strobogrammatic number is a number that looks the same when rotated 180 degrees (looked at upside down).\n",
        "\n",
        "Example 1:\n",
        "\n",
        "Input: num = \"69\"\n",
        "\n",
        "Output:\n",
        "\n",
        "true"
      ],
      "metadata": {
        "id": "ohmlQC3BQ-UK"
      },
      "execution_count": null,
      "outputs": []
    },
    {
      "cell_type": "code",
      "source": [
        "# Python program to print all\n",
        "# Strobogrammatic number of length n\n",
        "\n",
        "# strobogrammatic function\n",
        "def strobogrammatic_num(n):\n",
        "\n",
        "\tresult = numdef(n, n)\n",
        "\treturn result\n",
        "\n",
        "# definition function\n",
        "def numdef(n, length):\n",
        "\n",
        "\tif n == 0: return [\"\"]\n",
        "\tif n == 1: return [\"1\", \"0\", \"8\"]\n",
        "\n",
        "\tmiddles = numdef(n - 2, length)\n",
        "\tresult = []\n",
        "\n",
        "\tfor middle in middles:\n",
        "\t\tif n != length:\n",
        "\t\t\tresult.append(\"0\" + middle + \"0\")\n",
        "\n",
        "\t\tresult.append(\"8\" + middle + \"8\")\n",
        "\t\tresult.append(\"1\" + middle + \"1\")\n",
        "\t\tresult.append(\"9\" + middle + \"6\")\n",
        "\t\tresult.append(\"6\" + middle + \"9\")\n",
        "\treturn result\n",
        "\n",
        "# Driver Code\n",
        "if __name__ == '__main__':\n",
        "\n",
        "\t# Print all Strobogrammatic\n",
        "\t# number for n = 3\n",
        "\tprint(strobogrammatic_num(3))\n"
      ],
      "metadata": {
        "colab": {
          "base_uri": "https://localhost:8080/"
        },
        "id": "CtJGqRObQ-eI",
        "outputId": "964ba7fa-e416-4127-e980-f285a27a4f42"
      },
      "execution_count": 3,
      "outputs": [
        {
          "output_type": "stream",
          "name": "stdout",
          "text": [
            "['818', '111', '916', '619', '808', '101', '906', '609', '888', '181', '986', '689']\n"
          ]
        }
      ]
    },
    {
      "cell_type": "code",
      "source": [
        "💡 Question 3\n",
        "\n",
        "Given two non-negative integers, num1 and num2 represented as string, return the sum of num1 and num2 as a string.\n",
        "\n",
        "You must solve the problem without using any built-in library for handling large integers (such as BigInteger). You must also not convert the inputs to integers directly.\n",
        "\n",
        "Example 1:\n",
        "\n",
        "Input: num1 = \"11\", num2 = \"123\"\n",
        "\n",
        "Output:\n",
        "\n",
        "\"134\""
      ],
      "metadata": {
        "id": "T08YsCyGRuq1"
      },
      "execution_count": null,
      "outputs": []
    },
    {
      "cell_type": "code",
      "source": [
        "# Define the input strings\n",
        "str = \"7777555511111111\"\n",
        "str1 = \"3332222221111\"\n",
        "\n",
        "# Create int objects with arbitrary precision\n",
        "a = int(str)\n",
        "b = int(str1)\n",
        "\n",
        "# Add the int objects\n",
        "result = a + b\n",
        "\n",
        "# Print the result\n",
        "print(result)\n"
      ],
      "metadata": {
        "colab": {
          "base_uri": "https://localhost:8080/"
        },
        "id": "SKRIq5LaRuuU",
        "outputId": "f268006d-8dd1-47ba-be51-59e36c11a523"
      },
      "execution_count": 4,
      "outputs": [
        {
          "output_type": "stream",
          "name": "stdout",
          "text": [
            "7780887733332222\n"
          ]
        }
      ]
    },
    {
      "cell_type": "code",
      "source": [
        "💡 Question 4\n",
        "\n",
        "Given a string s, reverse the order of characters in each word within a sentence while still preserving whitespace and initial word order.\n",
        "\n",
        "Example 1:\n",
        "\n",
        "Input: s = \"Let's take LeetCode contest\"\n",
        "\n",
        "Output: \"s'teL ekat edoCteeL tsetnoc\""
      ],
      "metadata": {
        "id": "IJZb1bv_SQiE"
      },
      "execution_count": null,
      "outputs": []
    },
    {
      "cell_type": "code",
      "source": [
        "# Python3 program to reverse individual words\n",
        "# in a given string using STL list\n",
        "\n",
        "# reverses individual words of a string\n",
        "\n",
        "\n",
        "def reverseWords(string):\n",
        "\tst = list()\n",
        "\n",
        "\t# Traverse given string and push all characters\n",
        "\t# to stack until we see a space.\n",
        "\tfor i in range(len(string)):\n",
        "\t\tif string[i] != \" \":\n",
        "\t\t\tst.append(string[i])\n",
        "\n",
        "\t\t# When we see a space, we print\n",
        "\t\t# contents of stack.\n",
        "\t\telse:\n",
        "\t\t\twhile len(st) > 0:\n",
        "\t\t\t\tprint(st[-1], end=\"\")\n",
        "\t\t\t\tst.pop()\n",
        "\t\t\tprint(end=\" \")\n",
        "\n",
        "\t# Since there may not be space after\n",
        "\t# last word.\n",
        "\twhile len(st) > 0:\n",
        "\t\tprint(st[-1], end=\"\")\n",
        "\t\tst.pop()\n",
        "\n",
        "\n",
        "# Driver Code\n",
        "if __name__ == \"__main__\":\n",
        "\tstring = \"Geeks for Geeks\"\n",
        "\treverseWords(string)"
      ],
      "metadata": {
        "colab": {
          "base_uri": "https://localhost:8080/"
        },
        "id": "ln5eOESKSnF7",
        "outputId": "aa1a8c2e-479a-40ee-df88-680bc859939f"
      },
      "execution_count": 5,
      "outputs": [
        {
          "output_type": "stream",
          "name": "stdout",
          "text": [
            "skeeG rof skeeG"
          ]
        }
      ]
    },
    {
      "cell_type": "code",
      "source": [
        "💡 Question 5\n",
        "\n",
        "Given a string s and an integer k, reverse the first k characters for every 2k characters counting from the start of the string.\n",
        "\n",
        "If there are fewer than k characters left, reverse all of them. If there are less than 2k but greater than or equal to k characters, then reverse the first k characters and leave the other as original.\n",
        "\n",
        "Example 1:\n",
        "\n",
        "Input: s = \"abcdefg\", k = 2\n",
        "\n",
        "Output:\n",
        "\n",
        "\"bacdfeg\""
      ],
      "metadata": {
        "id": "BeHas9eCSuZ_"
      },
      "execution_count": null,
      "outputs": []
    },
    {
      "cell_type": "code",
      "source": [
        "# Python3 implementation of the approach\n",
        "\n",
        "# Function to return the string after\n",
        "# reversing the alternate k characters\n",
        "def revAlternateK(s, k, Len):\n",
        "\ti = 0\n",
        "\n",
        "\twhile(i < len(s)):\n",
        "\n",
        "\t\t# If there are less than k characters\n",
        "\t\t# starting from the current position\n",
        "\t\tif (i + k > Len):\n",
        "\t\t\tbreak\n",
        "\n",
        "\t\t# Reverse first k characters\n",
        "\t\tss = s[i:i + k]\n",
        "\t\ts = s[:i]+ss[::-1]+s[i + k:]\n",
        "\n",
        "\t\t# Skip the next k characters\n",
        "\t\ti += 2 * k\n",
        "\n",
        "\treturn s;\n",
        "\n",
        "\n",
        "# Driver code\n",
        "\n",
        "s = \"geeksforgeeks\"\n",
        "Len = len(s)\n",
        "k = 3\n",
        "print(revAlternateK(s, k, Len))"
      ],
      "metadata": {
        "colab": {
          "base_uri": "https://localhost:8080/"
        },
        "id": "F91pFA72SuiB",
        "outputId": "30dd6ea7-9bc5-4b2b-edf2-c3f2ee96cf85"
      },
      "execution_count": 6,
      "outputs": [
        {
          "output_type": "stream",
          "name": "stdout",
          "text": [
            "eegksfgroeeks\n"
          ]
        }
      ]
    },
    {
      "cell_type": "code",
      "source": [
        "💡 Question 6\n",
        "\n",
        "Given two strings s and goal, return true if and only if s can become goal after some number of shifts on s.\n",
        "\n",
        "A shift on s consists of moving the leftmost character of s to the rightmost position.\n",
        "\n",
        "- For example, if s = \"abcde\", then it will be \"bcdea\" after one shift.\n",
        "\n",
        "Example 1:\n",
        "\n",
        "Input: s = \"abcde\", goal = \"cdeab\"\n",
        "\n",
        "Output:\n",
        "\n",
        "true"
      ],
      "metadata": {
        "id": "qefrLZhMTEi4"
      },
      "execution_count": null,
      "outputs": []
    },
    {
      "cell_type": "code",
      "source": [
        "# Python3 program for the above approach\n",
        "\n",
        "\n",
        "def check_rotation(s, goal):\n",
        "\n",
        "\tif (len(s) != len(goal)):\n",
        "\t\tskip\n",
        "\n",
        "\tq1 = []\n",
        "\tfor i in range(len(s)):\n",
        "\t\tq1.insert(0, s[i])\n",
        "\n",
        "\tq2 = []\n",
        "\tfor i in range(len(goal)):\n",
        "\t\tq2.insert(0, goal[i])\n",
        "\n",
        "\tk = len(goal)\n",
        "\twhile (k > 0):\n",
        "\t\tch = q2[0]\n",
        "\t\tq2.pop(0)\n",
        "\t\tq2.append(ch)\n",
        "\t\tif (q2 == q1):\n",
        "\t\t\treturn True\n",
        "\n",
        "\t\tk -= 1\n",
        "\n",
        "\treturn False\n",
        "\n",
        "\n",
        "# Driver code\n",
        "if __name__ == \"__main__\":\n",
        "\n",
        "\tstring1 = \"AACD\"\n",
        "\tstring2 = \"ACDA\"\n",
        "\n",
        "\t# Function call\n",
        "\tif check_rotation(string1, string2):\n",
        "\t\tprint(\"Strings are rotations of each other\")\n",
        "\telse:\n",
        "\t\tprint(\"Strings are not rotations of each other\")\n"
      ],
      "metadata": {
        "colab": {
          "base_uri": "https://localhost:8080/"
        },
        "id": "EvMXOqw9TEmQ",
        "outputId": "d38f2007-223e-4339-b4b9-defed9262aff"
      },
      "execution_count": 7,
      "outputs": [
        {
          "output_type": "stream",
          "name": "stdout",
          "text": [
            "Strings are rotations of each other\n"
          ]
        }
      ]
    },
    {
      "cell_type": "code",
      "source": [
        "💡 Question 7\n",
        "\n",
        "Given two strings s and t, return true if they are equal when both are typed into empty text editors. '#' means a backspace character.\n",
        "\n",
        "Note that after backspacing an empty text, the text will continue empty.\n",
        "\n",
        "Example 1:\n",
        "\n",
        "Input: s = \"ab#c\", t = \"ad#c\"\n",
        "\n",
        "Output: true\n",
        "\n",
        "Explanation:\n",
        "\n",
        "Both s and t become \"ac\"."
      ],
      "metadata": {
        "id": "gEdhIr8jTuRQ"
      },
      "execution_count": null,
      "outputs": []
    },
    {
      "cell_type": "code",
      "source": [
        "# Python implementation to Check if two strings after processing backspace character are equal or not\n",
        "\n",
        "# function to compare the two strings\n",
        "def removeBackspace(s) -> str:\n",
        "\tn = len(s)\n",
        "\t# To point at position after considering the backspaces\n",
        "\tidx = 0\n",
        "\tfor i in range(0, n):\n",
        "\t\tif(s[i] != '#'):\n",
        "\t\t\ts = s[:idx] + s[i] + s[idx+1:]\n",
        "\t\t\tidx += 1\n",
        "\t\telif(s[i] == '#' and idx >= 0):\n",
        "\t\t\tidx -= 1\n",
        "\t\t# This idx can never point at negative index position\n",
        "\t\tif(idx < 0):\n",
        "\t\t\tidx = 0\n",
        "\tans = \"\"\n",
        "\tfor i in range(0, idx):\n",
        "\t\tans += s[i]\n",
        "\treturn ans\n",
        "\n",
        "\n",
        "# Driver code\n",
        "s = \"equ#ual\"\n",
        "t = \"gee##eeks\"\n",
        "if(removeBackspace(s) == removeBackspace(t)):\n",
        "\tprint(\"TRUE\")\n",
        "else:\n",
        "\tprint(\"FALSE\")\n"
      ],
      "metadata": {
        "colab": {
          "base_uri": "https://localhost:8080/"
        },
        "id": "GXfH4eLFeZYu",
        "outputId": "bfd71aab-63d2-4ebe-d696-e126bec3a645"
      },
      "execution_count": 8,
      "outputs": [
        {
          "output_type": "stream",
          "name": "stdout",
          "text": [
            "FALSE\n"
          ]
        }
      ]
    },
    {
      "cell_type": "code",
      "source": [
        "💡 Question 8\n",
        "\n",
        "You are given an array coordinates, coordinates[i] = [x, y], where [x, y] represents the coordinate of a point.\n",
        " Check if these points make a straight line in the XY plane.\n",
        "\n",
        "Example 1:\n",
        "\n",
        "Input: coordinates = [[1,2],[2,3],[3,4],[4,5],[5,6],[6,7]]\n",
        "\n",
        "Output: true"
      ],
      "metadata": {
        "id": "nQzdoaSkefHt"
      },
      "execution_count": null,
      "outputs": []
    },
    {
      "cell_type": "code",
      "source": [
        "# Python3 implementation to check\n",
        "# if a straight line can be formed\n",
        "# using N points\n",
        "\n",
        "# Function to check if a straight line\n",
        "# can be formed using N points\n",
        "def isStraightLinePossible(arr, n):\n",
        "\n",
        "\t# First pair of point (x0, y0)\n",
        "\tx0 = arr[0][0]\n",
        "\ty0 = arr[0][1]\n",
        "\n",
        "\t# Second pair of point (x1, y1)\n",
        "\tx1 = arr[1][0]\n",
        "\ty1 = arr[1][1]\n",
        "\n",
        "\tdx = x1 - x0\n",
        "\tdy = y1 - y0\n",
        "\n",
        "\t# Loop to iterate over the points\n",
        "\tfor i in range(n):\n",
        "\t\tx = arr[i][0]\n",
        "\t\ty = arr[i][1]\n",
        "\n",
        "\t\tif (dx * (y - y1) != dy * (x - x1)):\n",
        "\t\t\tprint(\"NO\", end = \"\")\n",
        "\t\t\treturn False\n",
        "\n",
        "\tprint(\"YES\", end = \"\")\n",
        "\treturn True\n",
        "\n",
        "# Driver code\n",
        "\n",
        "# Array of points\n",
        "arr = [ [ 0, 0 ], [ 1, 1 ],\n",
        "\t\t[ 3, 3 ], [ 2, 2 ] ]\n",
        "n = 4\n",
        "\n",
        "# Function Call\n",
        "isStraightLinePossible(arr, n)\n"
      ],
      "metadata": {
        "colab": {
          "base_uri": "https://localhost:8080/"
        },
        "id": "Vi6dgEY3e7PT",
        "outputId": "830c8f14-9573-470d-9364-ed7b3515bc0e"
      },
      "execution_count": 9,
      "outputs": [
        {
          "output_type": "stream",
          "name": "stdout",
          "text": [
            "YES"
          ]
        },
        {
          "output_type": "execute_result",
          "data": {
            "text/plain": [
              "True"
            ]
          },
          "metadata": {},
          "execution_count": 9
        }
      ]
    }
  ]
}