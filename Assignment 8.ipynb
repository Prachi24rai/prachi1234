{
  "nbformat": 4,
  "nbformat_minor": 0,
  "metadata": {
    "colab": {
      "provenance": []
    },
    "kernelspec": {
      "name": "python3",
      "display_name": "Python 3"
    },
    "language_info": {
      "name": "python"
    }
  },
  "cells": [
    {
      "cell_type": "code",
      "execution_count": null,
      "metadata": {
        "id": "reRE2DXthV95"
      },
      "outputs": [],
      "source": [
        "1. Is the Python Standard Library included with PyInputPlus?"
      ]
    },
    {
      "cell_type": "code",
      "source": [
        "ANS:-  No, PyInputPlus is not a part of Python Standard Library, it needs to be installed explicitly using the command !pip install PyInputPlus"
      ],
      "metadata": {
        "id": "cw-Vv1z0h4fv"
      },
      "execution_count": null,
      "outputs": []
    },
    {
      "cell_type": "code",
      "source": [
        "2. Why is PyInputPlus commonly imported with import pyinputplus as pypi?"
      ],
      "metadata": {
        "id": "dYcQBapdiIiJ"
      },
      "execution_count": null,
      "outputs": []
    },
    {
      "cell_type": "code",
      "source": [
        "ANS:-  You can import the module with import pyinputplus as pyip so that you can enter a shorter name when calling the module's functions."
      ],
      "metadata": {
        "id": "DvqzwvDQiJqG"
      },
      "execution_count": null,
      "outputs": []
    },
    {
      "cell_type": "code",
      "source": [
        "3. How do you distinguish between inputInt() and inputFloat()?"
      ],
      "metadata": {
        "id": "DP--rAUbiYJl"
      },
      "execution_count": null,
      "outputs": []
    },
    {
      "cell_type": "code",
      "source": [
        "ANS:- inputInt() function Accepts an integer value. This also takes additional parameters min, max, greaterThan and lessThan for bounds. \n",
        "      And it always returns an int.\n",
        "      Whereas inputFloat() function Accepts a floating-point numeric value. this also takes additional min, max, greaterThan and lessThan\n",
        "      parameters. and always returns a float."
      ],
      "metadata": {
        "id": "TEFiD7ltihlf"
      },
      "execution_count": null,
      "outputs": []
    },
    {
      "cell_type": "code",
      "source": [
        "4. Using PyInputPlus, how do you ensure that the user enters a whole number between 0 and 99?"
      ],
      "metadata": {
        "id": "KJzvQapskmmZ"
      },
      "execution_count": null,
      "outputs": []
    },
    {
      "cell_type": "code",
      "source": [
        "ANS:- PyInputPlus module provides a function called as inputInt() which only returns only integer values. inorder to restrict the input between 0 and 99,\n",
        "      i'ii use parameters like min & max to ensure that user enters the values between the defined range only."
      ],
      "metadata": {
        "id": "GLVSd_rkkqQF"
      },
      "execution_count": null,
      "outputs": []
    },
    {
      "cell_type": "code",
      "source": [
        "import pyinputplus as pyip\n",
        "wholenumber = pyip.inputInt(prompt='Enter a number: ', min=0, max=100)\n",
        "print(wholenumber)"
      ],
      "metadata": {
        "id": "dJYmA7vmlFVj"
      },
      "execution_count": null,
      "outputs": []
    },
    {
      "cell_type": "code",
      "source": [
        "5. What is transferred to the keyword arguments allowRegexes and blockRegexes?"
      ],
      "metadata": {
        "id": "f1w3Eb0Ol4On"
      },
      "execution_count": null,
      "outputs": []
    },
    {
      "cell_type": "code",
      "source": [
        "ANS:- we can use allowRegexes and blockRegexes keyword arguments to take list of regular expression strings to determine what the pyinputplus  \n",
        "      function will reject or accept valid input."
      ],
      "metadata": {
        "id": "HiOK80rKmIs7"
      },
      "execution_count": null,
      "outputs": []
    },
    {
      "cell_type": "code",
      "source": [
        "6. If a blank input is entered three times, what does inputStr(limit=3) do?"
      ],
      "metadata": {
        "id": "dXceOfbBpFDO"
      },
      "execution_count": null,
      "outputs": []
    },
    {
      "cell_type": "code",
      "source": [
        "ANS:- The statement inputStr(limit=3) will throw two exceptions ValidationException and RetryLimitException. The first exception is thrown because\n",
        "      blank values are not allowed by inputStr() function by default. it we want to consider blank values as valid input, we have to set blank=True.\n",
        "\n",
        "      The second exception is occured because we have reached the max limit we have specified by using limit parameter. inorder to avoid this \n",
        "      exception we can use default parameter to return a default value when max limit is reached."
      ],
      "metadata": {
        "id": "Y7y1VZlqpbux"
      },
      "execution_count": null,
      "outputs": []
    },
    {
      "cell_type": "code",
      "source": [
        "7. If blank input is entered three times, what does inputStr(limit=3, default='hello') do?"
      ],
      "metadata": {
        "id": "f0ERXTbAqfbQ"
      },
      "execution_count": null,
      "outputs": []
    },
    {
      "cell_type": "code",
      "source": [
        "ANS:- Since the default parameter is set to hello. after blank input is entered three times instead of raising RetryLimitException exception.\n",
        "      the function will return hello as response to the calling function"
      ],
      "metadata": {
        "id": "qhWkeshpqqS0"
      },
      "execution_count": null,
      "outputs": []
    },
    {
      "cell_type": "code",
      "source": [],
      "metadata": {
        "id": "TjRr8vSzpwEf"
      },
      "execution_count": null,
      "outputs": []
    }
  ]
}