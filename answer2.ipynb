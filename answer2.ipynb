{
  "nbformat": 4,
  "nbformat_minor": 0,
  "metadata": {
    "colab": {
      "provenance": []
    },
    "kernelspec": {
      "name": "python3",
      "display_name": "Python 3"
    },
    "language_info": {
      "name": "python"
    }
  },
  "cells": [
    {
      "cell_type": "code",
      "execution_count": 1,
      "metadata": {
        "colab": {
          "base_uri": "https://localhost:8080/"
        },
        "id": "EqgWhMSXp4LK",
        "outputId": "375adb45-c9e9-4d34-daaa-3ea5189994aa"
      },
      "outputs": [
        {
          "output_type": "stream",
          "name": "stdout",
          "text": [
            "a\n",
            "d\n",
            "None\n"
          ]
        }
      ],
      "source": [
        "def first_non_repeating_character(str1):\n",
        "  char_order = []\n",
        "  ctr = {}\n",
        "  for c in str1:\n",
        "    if c in ctr:\n",
        "      ctr[c] += 1\n",
        "    else:\n",
        "      ctr[c] = 1 \n",
        "      char_order.append(c)\n",
        "  for c in char_order:\n",
        "    if ctr[c] == 1:\n",
        "      return c\n",
        "  return None\n",
        "\n",
        "print(first_non_repeating_character('abcdef'))\n",
        "print(first_non_repeating_character('abcabcdef'))\n",
        "print(first_non_repeating_character('aabbcc'))"
      ]
    }
  ]
}