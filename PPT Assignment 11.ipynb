{
  "nbformat": 4,
  "nbformat_minor": 0,
  "metadata": {
    "colab": {
      "provenance": []
    },
    "kernelspec": {
      "name": "python3",
      "display_name": "Python 3"
    },
    "language_info": {
      "name": "python"
    }
  },
  "cells": [
    {
      "cell_type": "code",
      "source": [
        "Q1.) Given a non-negative integer `x`, return *the square root of `x` rounded down to the nearest integer. The returned integer should be non-negative as well.\n",
        "\n",
        "You must not use any built-in exponent function or operator.\n",
        "\n",
        "- For example, do not use `pow(x, 0.5)` in c++ or `x  0.5` in python.\n",
        "\n",
        "Example 1:\n",
        "\n",
        "Input: x = 4\n",
        "Output: 2\n",
        "Explanation: The square root of 4 is 2, so we return 2.\n",
        "\n",
        "Example 2:\n",
        "Input: x = 8\n",
        "Output: 2\n",
        "Explanation: The square root of 8 is 2.82842..., and since we round it down to the nearest integer, 2 is returned."
      ],
      "metadata": {
        "id": "PZMvq1M9a79m"
      },
      "execution_count": null,
      "outputs": []
    },
    {
      "cell_type": "code",
      "execution_count": 1,
      "metadata": {
        "id": "Ud-RXc9-a1lK"
      },
      "outputs": [],
      "source": [
        "class Solution(object):\n",
        "    def mySqrt(self, x):\n",
        "        \"\"\"\n",
        "        :type x: int\n",
        "        :rtype: int\n",
        "        \"\"\"\n",
        "\n",
        "        if x < 2:\n",
        "            return x\n",
        "\n",
        "        start = 0\n",
        "        end = x/2\n",
        "\n",
        "        while (start <= end):\n",
        "\n",
        "            mid = int((start + end) / 2)\n",
        "\n",
        "            square = mid * mid\n",
        "\n",
        "            if square == x:\n",
        "                return mid\n",
        "\n",
        "            if square > x:\n",
        "                end = mid - 1\n",
        "\n",
        "            else:\n",
        "                start = mid + 1\n",
        "\n",
        "        return end\n",
        ""
      ]
    },
    {
      "cell_type": "code",
      "source": [
        "Q2.) A peak element is an element that is strictly greater than its neighbors.\n",
        "\n",
        "Given a 0-indexed integer array `nums`, find a peak element, and return its index. If the array contains multiple peaks, return the index to any of the peaks.\n",
        "\n",
        "You may imagine that `nums[-1] = nums[n] = -∞`. In other words, an element is always considered to be strictly greater than a neighbor that is outside the array.\n",
        "\n",
        "You must write an algorithm that runs in `O(log n)` time.\n",
        "\n",
        "Example 1:\n",
        "Input: nums = [1,2,3,1]\n",
        "Output: 2\n",
        "Explanation: 3 is a peak element and your function should return the index number 2.\n",
        "\n",
        "Example 2:\n",
        "Input: nums = [1,2,1,3,5,6,4]\n",
        "Output: 5\n",
        "Explanation: Your function can return either index number 1 where the peak element is 2, or index number 5 where the peak element is 6."
      ],
      "metadata": {
        "id": "x9Bwe6DebmZ-"
      },
      "execution_count": null,
      "outputs": []
    },
    {
      "cell_type": "code",
      "source": [
        "class Solution(object):\n",
        "    def findPeakElement(self, nums):\n",
        "        start = 0\n",
        "        end = len(nums) - 1\n",
        "        while start < end:\n",
        "            mid = (start + end) // 2\n",
        "            if mid == 0:\n",
        "                return 0 if nums[0] >= nums[1] else 1\n",
        "            if mid == end:\n",
        "                return end - 1 if nums[end - 1] >= nums[end - 2] else end - 2\n",
        "\n",
        "            if nums[mid] > nums[mid + 1] and nums[mid] > nums[mid - 1]:\n",
        "                return mid\n",
        "            if nums[mid] < nums[mid - 1]:\n",
        "                end = mid - 1\n",
        "            else:\n",
        "                start = mid + 1\n",
        "        return start"
      ],
      "metadata": {
        "id": "lTH6LDdNcMhC"
      },
      "execution_count": 2,
      "outputs": []
    },
    {
      "cell_type": "code",
      "source": [
        "Q3.) Given an array nums containing n distinct numbers in the range [0, n], return the only number in the range that is missing from the array.\n",
        "\n",
        "Example 1:\n",
        "Input: nums = [3,0,1]\n",
        "Output: 2\n",
        "Explanation: n = 3 since there are 3 numbers, so all numbers are in the range [0,3]. 2 is the missing number in the range since it does not appear in nums.\n",
        "\n",
        "Example 2:\n",
        "\n",
        "Input: nums = [0,1]\n",
        "Output: 2\n",
        "Explanation: n = 2 since there are 2 numbers, so all numbers are in the range [0,2]. 2 is the missing number in the range since it does not appear in nums.\n",
        "\n",
        "\n",
        "Example 3:\n",
        "\n",
        "Input: nums = [9,6,4,2,3,5,7,0,1]\n",
        "Output: 8\n",
        "Explanation: n = 9 since there are 9 numbers, so all numbers are in the range [0,9]. 8 is the missing number in the range since it does not appear in nums."
      ],
      "metadata": {
        "id": "20W03-nEcpP2"
      },
      "execution_count": null,
      "outputs": []
    },
    {
      "cell_type": "code",
      "source": [],
      "metadata": {
        "id": "stDppSsb9-l2"
      },
      "execution_count": null,
      "outputs": []
    }
  ]
}