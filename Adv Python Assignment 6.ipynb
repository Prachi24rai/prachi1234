{
  "nbformat": 4,
  "nbformat_minor": 0,
  "metadata": {
    "colab": {
      "provenance": []
    },
    "kernelspec": {
      "name": "python3",
      "display_name": "Python 3"
    },
    "language_info": {
      "name": "python"
    }
  },
  "cells": [
    {
      "cell_type": "code",
      "execution_count": null,
      "metadata": {
        "id": "OYN2hvhT-wtE"
      },
      "outputs": [],
      "source": [
        "Q1. Describe three applications for exception processing."
      ]
    },
    {
      "cell_type": "code",
      "source": [
        "Ans: Exception Processing is important to find exceptions that causes the runtime error. As runtime errors Halt the program execution when exception occurs.\n",
        "\n",
        "Exception Processing is used in Various Applications of which few examples are:\n",
        "\n",
        "Checking Appropriate use of input in an application\n",
        "Checking for Arithmetic exceptions in mathematical executions\n",
        "Checking File I/O exceptions during File handling"
      ],
      "metadata": {
        "id": "8K4USOSiBoH7"
      },
      "execution_count": null,
      "outputs": []
    },
    {
      "cell_type": "code",
      "source": [
        "Q2. What happens if you don't do something extra to treat an exception?"
      ],
      "metadata": {
        "id": "r0WBM-FgBo8U"
      },
      "execution_count": null,
      "outputs": []
    },
    {
      "cell_type": "code",
      "source": [
        "Ans: If Exceptions are not handled flow of program will be broken during the run time which might lead to a abnormal termination of the program.\n",
        "Inshort inability of program to handle exceptions will result in crashing of program."
      ],
      "metadata": {
        "id": "qLAcrJH1BtbC"
      },
      "execution_count": null,
      "outputs": []
    },
    {
      "cell_type": "code",
      "source": [
        "Q3. What are your options for recovering from an exception in your script?"
      ],
      "metadata": {
        "id": "YgIDZ-euBzVW"
      },
      "execution_count": null,
      "outputs": []
    },
    {
      "cell_type": "code",
      "source": [
        "Ans: Python provides try and except statements for recovering from an exception in your script."
      ],
      "metadata": {
        "id": "P7QiQ14rB2xA"
      },
      "execution_count": null,
      "outputs": []
    },
    {
      "cell_type": "code",
      "source": [
        "Q4. Describe two methods for triggering exceptions in your script ?"
      ],
      "metadata": {
        "id": "4BsVoGafB6ek"
      },
      "execution_count": null,
      "outputs": []
    },
    {
      "cell_type": "code",
      "source": [
        "Ans: raise and assert are two methods that can be used to trigger manual exceptions in your script.\n",
        "\n",
        "raise method triggers an exception if condition provided to it turns out to be True.\n",
        "assert will let the program to continue execution if condition provided to it turns out to be True else exception will be raised"
      ],
      "metadata": {
        "id": "rg1Klm8XB_A-"
      },
      "execution_count": null,
      "outputs": []
    },
    {
      "cell_type": "code",
      "source": [
        "# Example of raise\n",
        "x = 10\n",
        "raise Exception(f'X Value Should not exceed 5 The Provided Value of X is {x}')"
      ],
      "metadata": {
        "id": "fSqD4smrCnpH"
      },
      "execution_count": null,
      "outputs": []
    },
    {
      "cell_type": "code",
      "source": [
        "# Example of assert\n",
        "assert(2==4), \"2 is not equal to 4\""
      ],
      "metadata": {
        "id": "f1vgvtUcCoGP"
      },
      "execution_count": null,
      "outputs": []
    },
    {
      "cell_type": "code",
      "source": [
        "Q5. Identify two methods for specifying actions to be executed at termination time, regardless of whether or not an exception exists."
      ],
      "metadata": {
        "id": "wds71D-DCPmB"
      },
      "execution_count": null,
      "outputs": []
    },
    {
      "cell_type": "code",
      "source": [
        "Ans: Python Provides else and finally blocks for specifying actions to be executed at termination time, regardless of whether an exceptions exists or not."
      ],
      "metadata": {
        "id": "4jmlC5HXCUfW"
      },
      "execution_count": null,
      "outputs": []
    }
  ]
}