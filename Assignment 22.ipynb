{
  "nbformat": 4,
  "nbformat_minor": 0,
  "metadata": {
    "colab": {
      "provenance": []
    },
    "kernelspec": {
      "name": "python3",
      "display_name": "Python 3"
    },
    "language_info": {
      "name": "python"
    }
  },
  "cells": [
    {
      "cell_type": "code",
      "execution_count": null,
      "metadata": {
        "id": "9Y2Mxo3bTfvf"
      },
      "outputs": [],
      "source": [
        "1. What is the result of the code, and explain?\n",
        ">>> X = 'iNeuron'\n",
        ">>> def func():\n",
        "print(X)\n",
        "\n",
        ">>> func()"
      ]
    },
    {
      "cell_type": "code",
      "source": [
        "Ans: The Result of this code is iNeuron, it's because the function intially looks for the variable X in its local scope,But since there is no local variable X,\n",
        " its returns the value of global variable x ie iNeuron"
      ],
      "metadata": {
        "id": "om_WayN-VkTg"
      },
      "execution_count": null,
      "outputs": []
    },
    {
      "cell_type": "code",
      "source": [
        "X = 'iNeuron'\n",
        "def func():\n",
        "    print(X)\n",
        "func()"
      ],
      "metadata": {
        "colab": {
          "base_uri": "https://localhost:8080/"
        },
        "id": "BzdZ0dwvVsLc",
        "outputId": "572dd604-9d45-4c10-ab27-7abe658fbd85"
      },
      "execution_count": 1,
      "outputs": [
        {
          "output_type": "stream",
          "name": "stdout",
          "text": [
            "iNeuron\n"
          ]
        }
      ]
    },
    {
      "cell_type": "code",
      "source": [
        "2. What is the result of the code, and explain?\n",
        ">>> X = 'iNeuron'\n",
        ">>> def func():\n",
        "X = 'NI!'\n",
        "\n",
        ">>> func()\n",
        ">>> print(X)"
      ],
      "metadata": {
        "id": "qOreAyb5VzJk"
      },
      "execution_count": null,
      "outputs": []
    },
    {
      "cell_type": "code",
      "source": [
        "Ans: The Result of this cide is NI!, because the function initially looks for the variable X in its local scope if X is not available then it checks for\n",
        " variable X in the global scope, Since here the X is present in the local scope. it prints the value NI!"
      ],
      "metadata": {
        "id": "EakUfYcSV22y"
      },
      "execution_count": null,
      "outputs": []
    },
    {
      "cell_type": "code",
      "source": [
        "X = 'iNeuron'\n",
        "def func():\n",
        "    X = 'NI!'\n",
        "    print(X)\n",
        "func()"
      ],
      "metadata": {
        "colab": {
          "base_uri": "https://localhost:8080/"
        },
        "id": "LK5giN4CWA4d",
        "outputId": "c76f3266-dbe1-47c4-a805-2c1435c735b1"
      },
      "execution_count": 2,
      "outputs": [
        {
          "output_type": "stream",
          "name": "stdout",
          "text": [
            "NI!\n"
          ]
        }
      ]
    },
    {
      "cell_type": "code",
      "source": [
        "3. What does this code print, and why?\n",
        ">>> X = 'iNeuron'\n",
        ">>> def func():\n",
        "X = 'NI'\n",
        "print(X)\n",
        "\n",
        ">>> func()\n",
        ">>> print(X)"
      ],
      "metadata": {
        "id": "79PZPyFdWOS4"
      },
      "execution_count": null,
      "outputs": []
    },
    {
      "cell_type": "code",
      "source": [
        "Ans: The output of the code is NI and iNeuron. X=NI is in the local scope of the function func() hence the function prints the x value as NI. X = 'iNeuron' is in\n",
        "the global scope. hence print(X) prints output as iNeuron"
      ],
      "metadata": {
        "id": "ISZ8sLhHWS87"
      },
      "execution_count": null,
      "outputs": []
    },
    {
      "cell_type": "code",
      "source": [
        "X = 'iNeuron'\n",
        "def func():\n",
        "    X = 'NI'\n",
        "    print(X)\n",
        "func()\n",
        "print(X)"
      ],
      "metadata": {
        "colab": {
          "base_uri": "https://localhost:8080/"
        },
        "id": "Zx4o2hV1WdtF",
        "outputId": "5d416131-6347-4b47-c258-1367c83fb8af"
      },
      "execution_count": 3,
      "outputs": [
        {
          "output_type": "stream",
          "name": "stdout",
          "text": [
            "NI\n",
            "iNeuron\n"
          ]
        }
      ]
    },
    {
      "cell_type": "code",
      "source": [
        "4. What output does this code produce? Why?\n",
        ">>> X = 'iNeuron'\n",
        ">>> def func():\n",
        "global X\n",
        "X = 'NI'\n",
        "\n",
        ">>> func()\n",
        ">>> print(X)"
      ],
      "metadata": {
        "id": "fxVaVXsiWdwi"
      },
      "execution_count": null,
      "outputs": []
    },
    {
      "cell_type": "code",
      "source": [
        "Ans: The output of the code is NI. the global keyword allows a variable to be accessible in the current scope. since we are using global keyword inside the\n",
        "function func it directly access the variable in X in global scope. and changes its value to NI. hence the output of the code is NI"
      ],
      "metadata": {
        "id": "lUAyOm4RWdzq"
      },
      "execution_count": null,
      "outputs": []
    },
    {
      "cell_type": "code",
      "source": [
        "X = 'iNeuron'\n",
        "def func():\n",
        "    global X\n",
        "    X = 'NI'\n",
        "func()\n",
        "print(X)"
      ],
      "metadata": {
        "colab": {
          "base_uri": "https://localhost:8080/"
        },
        "id": "27o-B4whWd5S",
        "outputId": "8478a886-d629-47d9-ffa9-30573f6033a0"
      },
      "execution_count": 4,
      "outputs": [
        {
          "output_type": "stream",
          "name": "stdout",
          "text": [
            "NI\n"
          ]
        }
      ]
    },
    {
      "cell_type": "code",
      "source": [
        "5. What about this code—what’s the output, and why?\n",
        ">>> X = 'iNeuron'\n",
        ">>> def func():\n",
        "X = 'NI'\n",
        "def nested():\n",
        "print(X)\n",
        "nested()\n",
        ">>> func()\n",
        ">>> X"
      ],
      "metadata": {
        "id": "I9t-P8cjWd8H"
      },
      "execution_count": null,
      "outputs": []
    },
    {
      "cell_type": "code",
      "source": [
        "Ans: The output of the code is NI. the reason for this output is if a function wants to access a variable, if its not available in its localscope.\n",
        "it looks for the variable in its global scope. similarly here also function nested looks for variable X in its global scope. hence the output of the code is NI"
      ],
      "metadata": {
        "id": "6PjY-eTaWd-t"
      },
      "execution_count": null,
      "outputs": []
    },
    {
      "cell_type": "code",
      "source": [
        "X = 'iNeuron'\n",
        "def func():\n",
        "    X = 'NI'\n",
        "    def nested():\n",
        "        print(X)\n",
        "    nested()\n",
        "func()\n",
        "X"
      ],
      "metadata": {
        "colab": {
          "base_uri": "https://localhost:8080/",
          "height": 53
        },
        "id": "mGigHn1CWeCB",
        "outputId": "89e2b632-4d69-441c-c003-0f975310738d"
      },
      "execution_count": 5,
      "outputs": [
        {
          "output_type": "stream",
          "name": "stdout",
          "text": [
            "NI\n"
          ]
        },
        {
          "output_type": "execute_result",
          "data": {
            "text/plain": [
              "'iNeuron'"
            ],
            "application/vnd.google.colaboratory.intrinsic+json": {
              "type": "string"
            }
          },
          "metadata": {},
          "execution_count": 5
        }
      ]
    },
    {
      "cell_type": "code",
      "source": [
        "6. How about this code: what is its output in Python 3, and explain?\n",
        ">>> def func():\n",
        "X = 'NI'\n",
        "def nested():\n",
        "nonlocal X\n",
        "X = 'Spam'\n",
        "nested()\n",
        "print(X)\n",
        ">>> func()"
      ],
      "metadata": {
        "id": "8hvCTuUyWTJP"
      },
      "execution_count": null,
      "outputs": []
    },
    {
      "cell_type": "code",
      "source": [
        "Ans: The output of the code is Spam. nonlocal keyword in python is used to declare a variable as not local.Hence the statement X = \"Spam\" is modified in the global scope.\n",
        "hence the output of print(X) statement is Spam"
      ],
      "metadata": {
        "id": "ewow3lrbXWl5"
      },
      "execution_count": null,
      "outputs": []
    },
    {
      "cell_type": "code",
      "source": [
        "def func():\n",
        "    X = 'NI'\n",
        "    def nested():\n",
        "        nonlocal X\n",
        "        X = 'Spam'\n",
        "    nested()\n",
        "    print(X)\n",
        "func()"
      ],
      "metadata": {
        "id": "EdcakNkMXbJS",
        "outputId": "1bddad8a-8d71-41ff-e827-fc32ab2f0d10",
        "colab": {
          "base_uri": "https://localhost:8080/"
        }
      },
      "execution_count": 6,
      "outputs": [
        {
          "output_type": "stream",
          "name": "stdout",
          "text": [
            "Spam\n"
          ]
        }
      ]
    },
    {
      "cell_type": "code",
      "source": [],
      "metadata": {
        "id": "0VQScXf0WOa-"
      },
      "execution_count": null,
      "outputs": []
    },
    {
      "cell_type": "code",
      "source": [],
      "metadata": {
        "id": "EprYwwKAWBtz"
      },
      "execution_count": null,
      "outputs": []
    }
  ]
}