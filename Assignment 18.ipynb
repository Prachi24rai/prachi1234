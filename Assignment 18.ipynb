{
  "nbformat": 4,
  "nbformat_minor": 0,
  "metadata": {
    "colab": {
      "provenance": []
    },
    "kernelspec": {
      "name": "python3",
      "display_name": "Python 3"
    },
    "language_info": {
      "name": "python"
    }
  },
  "cells": [
    {
      "cell_type": "code",
      "source": [
        "!cat zoo.py"
      ],
      "metadata": {
        "colab": {
          "base_uri": "https://localhost:8080/"
        },
        "id": "9DC8Lg4W9vh6",
        "outputId": "2e58ae29-8df8-425e-f78d-eb6e24661548"
      },
      "execution_count": 9,
      "outputs": [
        {
          "output_type": "stream",
          "name": "stdout",
          "text": [
            "def hours():\r\n",
            "    print(\"Open 9-5 daily\")"
          ]
        }
      ]
    },
    {
      "cell_type": "code",
      "source": [
        "1. Create a zoo.py file first. Define the hours() function, which prints the string 'Open 9-5 daily'. Then, use the interactive interpreter to import the zoo module and call its hours() function."
      ],
      "metadata": {
        "id": "Bc84N__47-J0"
      },
      "execution_count": null,
      "outputs": []
    },
    {
      "cell_type": "code",
      "source": [
        "import zoo\n",
        "zoo.hours()"
      ],
      "metadata": {
        "colab": {
          "base_uri": "https://localhost:8080/"
        },
        "id": "_2Bo5E7J7YrL",
        "outputId": "d132d437-0c49-4671-eb99-0b13497b0816"
      },
      "execution_count": 2,
      "outputs": [
        {
          "output_type": "stream",
          "name": "stdout",
          "text": [
            "Open 9-5 daily\n"
          ]
        }
      ]
    },
    {
      "cell_type": "code",
      "source": [
        "2. In the interactive interpreter, import the zoo module as menagerie and call its hours() function."
      ],
      "metadata": {
        "id": "AL2V-Qpx787N"
      },
      "execution_count": null,
      "outputs": []
    },
    {
      "cell_type": "code",
      "source": [
        "import zoo as menagerie\n",
        "menagerie.hours()"
      ],
      "metadata": {
        "colab": {
          "base_uri": "https://localhost:8080/"
        },
        "id": "Z-o2vTOn8Tel",
        "outputId": "194b30bb-23bb-4f41-ddbe-391af7506f93"
      },
      "execution_count": 3,
      "outputs": [
        {
          "output_type": "stream",
          "name": "stdout",
          "text": [
            "Open 9-5 daily\n"
          ]
        }
      ]
    },
    {
      "cell_type": "code",
      "source": [
        "3. Using the interpreter, explicitly import and call the hours() function from zoo."
      ],
      "metadata": {
        "id": "1dtDHyRx8cz7"
      },
      "execution_count": null,
      "outputs": []
    },
    {
      "cell_type": "code",
      "source": [
        "from zoo import hours\n",
        "hours()"
      ],
      "metadata": {
        "colab": {
          "base_uri": "https://localhost:8080/"
        },
        "id": "9r0a4jSu8j8s",
        "outputId": "d70d0175-3873-41c4-c34f-a8d5d741f8c4"
      },
      "execution_count": 4,
      "outputs": [
        {
          "output_type": "stream",
          "name": "stdout",
          "text": [
            "Open 9-5 daily\n"
          ]
        }
      ]
    },
    {
      "cell_type": "code",
      "source": [
        "4. Import the hours() function as info and call it."
      ],
      "metadata": {
        "id": "coQ4ZS0p8n4Q"
      },
      "execution_count": null,
      "outputs": []
    },
    {
      "cell_type": "code",
      "source": [
        "from zoo import hours as info\n",
        "info()"
      ],
      "metadata": {
        "colab": {
          "base_uri": "https://localhost:8080/"
        },
        "id": "5AHOzYit8ubx",
        "outputId": "eb853828-5143-4872-f6ae-78b9b9f44cb7"
      },
      "execution_count": 5,
      "outputs": [
        {
          "output_type": "stream",
          "name": "stdout",
          "text": [
            "Open 9-5 daily\n"
          ]
        }
      ]
    },
    {
      "cell_type": "code",
      "source": [
        "5. Create a plain dictionary with the key-value pairs 'a': 1, 'b': 2, and 'c': 3, and print it out."
      ],
      "metadata": {
        "id": "yCENFBWr82FI"
      },
      "execution_count": null,
      "outputs": []
    },
    {
      "cell_type": "code",
      "source": [
        "plain_dict = {'a':1,'b':2,'c':3}\n",
        "print(plain_dict)"
      ],
      "metadata": {
        "colab": {
          "base_uri": "https://localhost:8080/"
        },
        "id": "SgGXfQnR8_Ay",
        "outputId": "5977c2c8-a90c-4195-adc8-0276ae7d9d0a"
      },
      "execution_count": 6,
      "outputs": [
        {
          "output_type": "stream",
          "name": "stdout",
          "text": [
            "{'a': 1, 'b': 2, 'c': 3}\n"
          ]
        }
      ]
    },
    {
      "cell_type": "code",
      "source": [
        "6.Make an OrderedDict called fancy from the same pairs listed in 5 and print it. Did it print in the same order as plain?"
      ],
      "metadata": {
        "id": "fsmCXT1L9HAq"
      },
      "execution_count": null,
      "outputs": []
    },
    {
      "cell_type": "code",
      "source": [
        "from collections import OrderedDict\n",
        "fancy = OrderedDict(plain_dict)\n",
        "print(f'plain_dict -> {plain_dict}')\n",
        "print(f'fancy -> {fancy}')"
      ],
      "metadata": {
        "colab": {
          "base_uri": "https://localhost:8080/"
        },
        "id": "cnBOZfRg9IBC",
        "outputId": "6eb627cf-65a0-41a1-b444-73a5bea14578"
      },
      "execution_count": 7,
      "outputs": [
        {
          "output_type": "stream",
          "name": "stdout",
          "text": [
            "plain_dict -> {'a': 1, 'b': 2, 'c': 3}\n",
            "fancy -> OrderedDict([('a', 1), ('b', 2), ('c', 3)])\n"
          ]
        }
      ]
    },
    {
      "cell_type": "code",
      "source": [
        "7. Make a default dictionary called dict_of_lists and pass it the argument list. Make the list dict_of_lists['a'] and append the value 'something for a' to it in one assignment. Print dict_of_lists['a']."
      ],
      "metadata": {
        "id": "3WjsKnMM9OmX"
      },
      "execution_count": null,
      "outputs": []
    },
    {
      "cell_type": "code",
      "source": [
        "from collections import defaultdict\n",
        "dict_of_lists = defaultdict(list)\n",
        "dict_of_lists['a'].append('something for a')\n",
        "print(dict_of_lists['a'])"
      ],
      "metadata": {
        "colab": {
          "base_uri": "https://localhost:8080/"
        },
        "id": "A76BdLqT9T7k",
        "outputId": "e3d3024c-c9d5-4112-b7cc-8e9ecdffefff"
      },
      "execution_count": 8,
      "outputs": [
        {
          "output_type": "stream",
          "name": "stdout",
          "text": [
            "['something for a']\n"
          ]
        }
      ]
    }
  ]
}