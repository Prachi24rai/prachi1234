{
  "nbformat": 4,
  "nbformat_minor": 0,
  "metadata": {
    "colab": {
      "provenance": []
    },
    "kernelspec": {
      "name": "python3",
      "display_name": "Python 3"
    },
    "language_info": {
      "name": "python"
    }
  },
  "cells": [
    {
      "cell_type": "code",
      "execution_count": null,
      "metadata": {
        "id": "REqKkhxhVt4G"
      },
      "outputs": [],
      "source": [
        "1. How do you distinguish between shutil.copy() and shutil.copytree()?"
      ]
    },
    {
      "cell_type": "code",
      "source": [
        "ANS:- shutil.copy() method is used to copy the contents of a file from one file to another file/folder, it primary takes two arguments src,dest, src\n",
        " represents the file to be copied where as destination refers to the file/folder to where the src data should be copied, if dest  is a folder name\n",
        " the src with exact name will be copied to the dest folder, if its a file then the contents of src will be copied  to dest where dest retains it name.\n",
        "\n",
        "\n",
        " shutil.copytree() function is used to copy the entire contents of a folder to other folder. it also takes two arguments src & dest, it copies all the content\n",
        " recursively and stores it in dest. the important catch here is dest must not exist prior to this and it will be created during the copy operation. Permissions\n",
        " and times of directories are copied with shutil.copystat() and individual files are copied using shutil.copy2()  by default which can be modified using \n",
        " copy_function attribute."
      ],
      "metadata": {
        "id": "YH39yYS-V7DI"
      },
      "execution_count": null,
      "outputs": []
    },
    {
      "cell_type": "code",
      "source": [
        "2. What function is used to rename files??"
      ],
      "metadata": {
        "id": "UL_JN1SLkd9K"
      },
      "execution_count": null,
      "outputs": []
    },
    {
      "cell_type": "code",
      "source": [
        "ANS:- os.rename() function is used to rename files or directories using a python program, this function takes two arguments src and dest, src\n",
        "represents the name file/directory which we want to rename, whereas dest represents the new name of the file/directory."
      ],
      "metadata": {
        "id": "gUhiI_QVkr8u"
      },
      "execution_count": null,
      "outputs": []
    },
    {
      "cell_type": "code",
      "source": [
        "3. What is the difference between the delete functions in the send2trash and shutil modules?"
      ],
      "metadata": {
        "id": "u72MxH-1lqlo"
      },
      "execution_count": null,
      "outputs": []
    },
    {
      "cell_type": "code",
      "source": [
        "ANS:- Shutil module provides a funciton called as shutil.rmtree() which deletes a directory and all its contents. The other functions with similar functionality are\n",
        "os.remove() -> removes a file, os.rmdir() removes a empty directory. The problem with these functions is once a file is deleted. it will be lost\n",
        " permanently, if a file is deleted accidentally using these methods there is no way we can recover the deleted file.\n",
        "\n",
        "\n",
        " \n",
        "Where as send2trash module provides a function called send2trash.send2trash() to delete a file/directory. these methods moves the files/directories \n",
        " to trash folder instead of permanently deleting them. hence if a file/folder is deleted accidentally it can be still recovered from trash folder, \n",
        "  if is deleted using the send2trash.send2trash() function. send2trash is not included with python standard libary like os & shutil modules\n",
        "   it needs to be installed explicitly using the command !pip install send2trash\n",
        "   "
      ],
      "metadata": {
        "id": "h0BEZKZSlvR_"
      },
      "execution_count": null,
      "outputs": []
    },
    {
      "cell_type": "code",
      "source": [
        "4.ZipFile objects have a close() method just like File objects’ close() method. What ZipFile method is equivalent\n",
        "to File objects’ open() method?"
      ],
      "metadata": {
        "id": "5LyOLP5sYRu-"
      },
      "execution_count": null,
      "outputs": []
    },
    {
      "cell_type": "code",
      "source": [
        "ANS:- ZipFile Module provides a method called as zipfile.ZipFile() to read and write to zipFiles. it takes arugments lile\n",
        "filename and mode etc zipfile.ZipFile('filename', mode = 'r')"
      ],
      "metadata": {
        "id": "rmGL5PZkEB7Q"
      },
      "execution_count": null,
      "outputs": []
    },
    {
      "cell_type": "code",
      "source": [
        "5. Create a programme that searches a folder tree for files with a certain file extension (such as .pdf or .jpg). \n",
        "Copy these files from whatever location they are in to a new folder"
      ],
      "metadata": {
        "id": "MffcqbirExMu"
      },
      "execution_count": null,
      "outputs": []
    },
    {
      "cell_type": "code",
      "source": [
        " import os\n",
        "import shutil\n",
        "\n",
        "def search_and_copy(source,destination,extensions):\n",
        "    source = os.path.abspath(source)\n",
        "    destination = os.path.abspath(destination)\n",
        "    for foldername, subfolder, filenames in os.walk(source):\n",
        "        print(f'Folder Name ➞ {foldername}',end='\\n\\n')\n",
        "        print(f'Sub Folders ➞ {subfolder}',end='\\n\\n')\n",
        "        print(f'Files ➞ {filenames}',end='\\n\\n')\n",
        "        for filename in filenames:\n",
        "            fileName,extension = os.path.splitext(filename)\n",
        "            if extension in extensions:\n",
        "                targetFile = foldername+os.path.sep+fileName+extension\n",
        "                shutil.copy(targetFile, destination)\n",
        "        print(f'Files copied successfully from {source} to {destination}')\n",
        "    \n",
        "extensions = ['.pdf','.jpg','.ipynb']\n",
        "source = 'Dummy Source'\n",
        "destination = 'Dummy Destination'\n",
        "search_and_copy(source, destination, extensions)"
      ],
      "metadata": {
        "id": "tqucyNSaFL8A"
      },
      "execution_count": 3,
      "outputs": []
    }
  ]
}