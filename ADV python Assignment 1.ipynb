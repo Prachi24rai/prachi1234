{
  "nbformat": 4,
  "nbformat_minor": 0,
  "metadata": {
    "colab": {
      "provenance": []
    },
    "kernelspec": {
      "name": "python3",
      "display_name": "Python 3"
    },
    "language_info": {
      "name": "python"
    }
  },
  "cells": [
    {
      "cell_type": "code",
      "execution_count": null,
      "metadata": {
        "id": "doy8gd1vc4Nb"
      },
      "outputs": [],
      "source": [
        "Q1. What is the purpose of Python's OOP?"
      ]
    },
    {
      "cell_type": "code",
      "source": [
        "Ans: Object-oriented programming is a programming paradigm that provides a means of structuring programs so that properties and behaviors are bundled into individual objects\n",
        "\n",
        "In Python, object-oriented Programming (OOPs) uses objects and classes in programming.\n",
        "It aims to implement real-world entities like inheritance, polymorphisms, encapsulation, etc. in the programming.\n",
        "The main concept of OOPs is to bind the data and the functions that work on that together as a single unit so that no other part of the code can access this data.\n",
        "It comes up with the following advantages:\n",
        "It helps to divide our over all program into different small segments and thus making it solving easy with the use of objects\n",
        "Helps in easy maintenance and modification of existing program\n",
        "Multiple instances of an object can be made."
      ],
      "metadata": {
        "id": "yMruqjngc8fS"
      },
      "execution_count": null,
      "outputs": []
    },
    {
      "cell_type": "code",
      "source": [
        "Q2. Where does an inheritance search look for an attribute?\n"
      ],
      "metadata": {
        "id": "11GQkM6-dF1L"
      },
      "execution_count": null,
      "outputs": []
    },
    {
      "cell_type": "code",
      "source": [
        "Ans: Python searches for an attribute in an upward tree of attributes. it first searches for the attribute in its instance and then looks in the class\n",
        " it is generated from, to all super classes listed in its class header"
      ],
      "metadata": {
        "id": "-kcts1SydNd6"
      },
      "execution_count": null,
      "outputs": []
    },
    {
      "cell_type": "code",
      "source": [
        "Q3. How do you distinguish between a class object and an instance object?"
      ],
      "metadata": {
        "id": "wTwgLEGWdWex"
      },
      "execution_count": null,
      "outputs": []
    },
    {
      "cell_type": "code",
      "source": [
        "Ans: The differences between a class object and an instance object are:\n",
        "\n",
        "Class is a template for creating objects whereas object is an instance of class\n",
        "Seperate memory is allocated for each object whenever an object is created. but for a class this doesnot happens.\n",
        "A Class is created once. Many objects are created using a class.\n",
        "As Classes have no allocated memory. they can't be manipulated. but objects can be manipulated."
      ],
      "metadata": {
        "id": "AEy-6OrudkzE"
      },
      "execution_count": null,
      "outputs": []
    },
    {
      "cell_type": "code",
      "source": [
        "Q4. What makes the first argument in a class’s method function special?"
      ],
      "metadata": {
        "id": "_4WLzCgxdmdf"
      },
      "execution_count": null,
      "outputs": []
    },
    {
      "cell_type": "code",
      "source": [
        "Ans: Python Classes usually have three types of methods which are:\n",
        "\n",
        "Instance Methods (object level methods)\n",
        "Class Methods (class level methods)\n",
        "Static Methods (general utility methods)\n",
        "self is the first argument for instance methods. which refers to the object itself\n",
        "cls is the first argument for class methods which refers to the class itself"
      ],
      "metadata": {
        "id": "J57h3AGiduyn"
      },
      "execution_count": null,
      "outputs": []
    },
    {
      "cell_type": "code",
      "source": [
        "Q5. What is the purpose of the init method?"
      ],
      "metadata": {
        "id": "pZeNhxFw0UP0"
      },
      "execution_count": null,
      "outputs": []
    },
    {
      "cell_type": "code",
      "source": [
        "Ans: __init__ is a reseved method in python classes. It serves the role of a constructor in object oriented terminology. This method is called when\n",
        " an object is created from a class and it allows the class to initialize the attributes of the class"
      ],
      "metadata": {
        "id": "Z_TCYHNR0hjR"
      },
      "execution_count": null,
      "outputs": []
    },
    {
      "cell_type": "code",
      "source": [
        "Q6. What is the process for creating a class instance?"
      ],
      "metadata": {
        "id": "uSA-J2q50hms"
      },
      "execution_count": null,
      "outputs": []
    },
    {
      "cell_type": "code",
      "source": [
        "Ans: To create a class instance, we need to call the class by its name and pass the arguments to the class, which its init method accepts.\n",
        "\n",
        "Example: my_name = my_class(\"Mano\",\"vishnu\") Here my_name is an instance of class my_class with attributes \"Mano\" and \"Vishnu\"."
      ],
      "metadata": {
        "id": "u22AoxXy0zVS"
      },
      "execution_count": null,
      "outputs": []
    },
    {
      "cell_type": "code",
      "source": [
        "Q7. What is the process for creating a class?"
      ],
      "metadata": {
        "id": "t5g2ztQC0hpo"
      },
      "execution_count": null,
      "outputs": []
    },
    {
      "cell_type": "code",
      "source": [
        "Ans: class keyword is used to created a class in python. The syntax to create a class in python is class <classname>:\n",
        "\n",
        "Example: class Car: ➞ this creates a class called Car"
      ],
      "metadata": {
        "id": "z0xDhGHZ1EfN"
      },
      "execution_count": null,
      "outputs": []
    },
    {
      "cell_type": "code",
      "source": [
        "Q8. How would you define the superclasses of a class?"
      ],
      "metadata": {
        "id": "dBJtL9BQ1HYy"
      },
      "execution_count": null,
      "outputs": []
    },
    {
      "cell_type": "code",
      "source": [
        "Ans Superclass/Parent class is given as a arugment to the child class\n",
        "\n",
        "Example: class Employee(Person): Here child class Employee inherits attributes and methofs from Superclass/Parent Person"
      ],
      "metadata": {
        "id": "SgE1z4j31P75"
      },
      "execution_count": null,
      "outputs": []
    },
    {
      "cell_type": "code",
      "source": [],
      "metadata": {
        "id": "hsGiiItS0hsh"
      },
      "execution_count": null,
      "outputs": []
    },
    {
      "cell_type": "code",
      "source": [],
      "metadata": {
        "id": "5dYy0tUP0hvo"
      },
      "execution_count": null,
      "outputs": []
    },
    {
      "cell_type": "code",
      "source": [],
      "metadata": {
        "id": "WBpq8Ca-0hzL"
      },
      "execution_count": null,
      "outputs": []
    },
    {
      "cell_type": "code",
      "source": [],
      "metadata": {
        "id": "ExWFbmwddlBI"
      },
      "execution_count": null,
      "outputs": []
    }
  ]
}