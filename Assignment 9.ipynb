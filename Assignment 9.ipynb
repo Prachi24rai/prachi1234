{
  "nbformat": 4,
  "nbformat_minor": 0,
  "metadata": {
    "colab": {
      "provenance": []
    },
    "kernelspec": {
      "name": "python3",
      "display_name": "Python 3"
    },
    "language_info": {
      "name": "python"
    }
  },
  "cells": [
    {
      "cell_type": "code",
      "execution_count": null,
      "metadata": {
        "id": "FpmEecQVL0uD"
      },
      "outputs": [],
      "source": [
        "1.To what does a relative path refer ?"
      ]
    },
    {
      "cell_type": "code",
      "source": [
        "ANS:- The relative path is the path to some file with respect to your current working directory (PWD).\n",
        "      For example: if Absolute path to a file called stuff.txt is: C:/users/admin/docs/stuff.txt If my PWD is C:/users/admin/ , then the relative path to stuff.tx\n",
        "      would be: docs/stuff.txt\n",
        "      Note: PWD + relative path = absolute path"
      ],
      "metadata": {
        "id": "N_sFhtC3MulB"
      },
      "execution_count": null,
      "outputs": []
    },
    {
      "cell_type": "code",
      "source": [
        "2.Where does an absolute path start with your Operating System ?\n"
      ],
      "metadata": {
        "id": "kv_2iP24NH3y"
      },
      "execution_count": null,
      "outputs": []
    },
    {
      "cell_type": "code",
      "source": [
        "ANS:-  In Linux based systems the absolute path starts with /. Where as in Windows based systems absolute path starts with C:"
      ],
      "metadata": {
        "id": "xcMaEIHtNiGz"
      },
      "execution_count": null,
      "outputs": []
    },
    {
      "cell_type": "code",
      "source": [
        "3.What does the functions os.getcwd() and os.chdir() do ?"
      ],
      "metadata": {
        "id": "Kr1aShm3NlPm"
      },
      "execution_count": null,
      "outputs": []
    },
    {
      "cell_type": "code",
      "source": [
        "ANS:- os.getcwd() method tells us the location of current working directory (CWD). Whereas os.chdir() method in Python used to change the\n",
        "      current working directory to specified path. These functions are similar to linux commands pwd and cd"
      ],
      "metadata": {
        "id": "taDkYisuNt17"
      },
      "execution_count": null,
      "outputs": []
    },
    {
      "cell_type": "code",
      "source": [
        "4.What are . and .. folders ?"
      ],
      "metadata": {
        "id": "R-Bx1bnUQ6WU"
      },
      "execution_count": null,
      "outputs": []
    },
    {
      "cell_type": "code",
      "source": [
        "ANS:- . Represents the Current Directory Whereas .. Represents the Parent Directory of the Current Directory\n",
        "For Example: if the below path is my absolute path:\n",
        "C:\\\\Users\\\\Prachi\\\\Documents\\\\iNeuron-Assignments\\\\Python Basic Assignment\n",
        "Then . represents the path C:\\\\Users\\Prachi\\\\Documents\\\\iNeuron-Assignments\\\\Python Basic Assignment\n",
        "Where as .. represents the path C:\\\\Users\\\\Prachi\\\\Documents\\\\iNeuron-Assignments"
      ],
      "metadata": {
        "id": "Luogsc5rRC9l"
      },
      "execution_count": null,
      "outputs": []
    },
    {
      "cell_type": "code",
      "source": [
        "5.In C:\\bacon\\eggs\\spam.txt which part is the dir name and which part is the base name ?"
      ],
      "metadata": {
        "id": "mW_ro57WR-xl"
      },
      "execution_count": null,
      "outputs": []
    },
    {
      "cell_type": "code",
      "source": [
        "ANS:-  For C:\\bacon\\eggs\\spam.txt\n",
        "The dir name is C:\\\\bacon\\\\eggs\n",
        "The Base name is spam.txt"
      ],
      "metadata": {
        "id": "LGrzKPP7SGXE"
      },
      "execution_count": null,
      "outputs": []
    },
    {
      "cell_type": "code",
      "source": [
        "import os\n",
        "path = r'C:\\bacon\\eggs\\spam.txt'\n",
        "print(os.path.dirname(path))\n",
        "print(os.path.basename(path))"
      ],
      "metadata": {
        "colab": {
          "base_uri": "https://localhost:8080/"
        },
        "id": "2NLYB4CzSSTX",
        "outputId": "a39885ca-94c1-49f8-8800-c18938715da1"
      },
      "execution_count": 4,
      "outputs": [
        {
          "output_type": "stream",
          "name": "stdout",
          "text": [
            "\n",
            "C:\\bacon\\eggs\\spam.txt\n"
          ]
        }
      ]
    },
    {
      "cell_type": "code",
      "source": [
        "6.What are the three mode arguments that can be passed to the open() function ?"
      ],
      "metadata": {
        "id": "iQKh_O6DSdHL"
      },
      "execution_count": null,
      "outputs": []
    },
    {
      "cell_type": "code",
      "source": [
        "ANS:-  A file can be Accessed in python using open() function. open function takes two arguments filename and mode of operation (optional). \n",
        "       if mode is not provided the default mode of opening is read mode\n",
        "\n",
        "       So, the syntax being: open(filename, mode)\n",
        "\n",
        " ‘r’ – Read Mode: This is the default mode for open(). The file is opened and a pointer is positioned at the beginning of the file’s content.\n",
        "‘w’ – Write Mode: Using this mode will overwrite any existing content in a file. If the given file does not exist, a new one will be created.\n",
        "‘r+’ – Read/Write Mode: Use this mode if you need to simultaneously read and write to a file.\n",
        "‘a’ – Append Mode: With this mode the user can append the data without overwriting any already existing data in the file.\n",
        "‘a+’ – Append and Read Mode: In this mode you can read and append the data without overwriting the original file.\n",
        "‘x’ – Exclusive Creating Mode: This mode is for the sole purpose of creating new files. Use this mode if you know the file to be written doesn’t exist beforehand."
      ],
      "metadata": {
        "id": "IRN6t_1AVsjD"
      },
      "execution_count": null,
      "outputs": []
    },
    {
      "cell_type": "code",
      "source": [
        "7.What happens if an existing file is opened in write mode ?"
      ],
      "metadata": {
        "id": "0YTM-n7pWtWb"
      },
      "execution_count": null,
      "outputs": []
    },
    {
      "cell_type": "code",
      "source": [
        "ANS:-  Using this mode will overwrite any existing content in a file. If the given file does not exist, a new one will be created."
      ],
      "metadata": {
        "id": "t4u9QG5SWu8i"
      },
      "execution_count": null,
      "outputs": []
    },
    {
      "cell_type": "code",
      "source": [
        "8.How do you tell the difference between read() and readlines() ?"
      ],
      "metadata": {
        "id": "KnKQ4QTJXFpj"
      },
      "execution_count": null,
      "outputs": []
    },
    {
      "cell_type": "code",
      "source": [
        "ANS:- The main difference is that read() will read the whole file at once and then print out the first characters that take up as many bytes \n",
        "      as you specify in the parenthesis\n",
        "\n",
        "      Whereas the readline() that will read and print out only the first characters that take up as many bytes as you specify in the parenthesis. \n",
        "      You may want to use readline() when you're reading files that are too big for your RAM.\n",
        "\n",
        "      The read() would treat each character in the file separately, meaning that the iteration would happen for every character.\n",
        "\n",
        "      The readline() function, on the other hand, only reads a single line of the file. This means that if the first line of the file were three lines long, \n",
        "      the readline() function would only parse (or iterate/operate) on the first line of the file.\n",
        "\n"
      ],
      "metadata": {
        "id": "PsYNyd00XaNo"
      },
      "execution_count": null,
      "outputs": []
    },
    {
      "cell_type": "code",
      "source": [
        "9.What data structure does a shelf value resemble ?"
      ],
      "metadata": {
        "id": "UnK2LYf9YcWa"
      },
      "execution_count": null,
      "outputs": []
    },
    {
      "cell_type": "code",
      "source": [
        "ANS:- it contains key and values it represents dictionary."
      ],
      "metadata": {
        "id": "yavoHzdiYota"
      },
      "execution_count": null,
      "outputs": []
    }
  ]
}