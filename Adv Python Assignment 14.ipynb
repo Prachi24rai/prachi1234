{
  "nbformat": 4,
  "nbformat_minor": 0,
  "metadata": {
    "colab": {
      "provenance": []
    },
    "kernelspec": {
      "name": "python3",
      "display_name": "Python 3"
    },
    "language_info": {
      "name": "python"
    }
  },
  "cells": [
    {
      "cell_type": "code",
      "execution_count": null,
      "metadata": {
        "id": "xSPGdhjGibMz"
      },
      "outputs": [],
      "source": [
        "Q1. Is an assignment operator like += only for show? Is it possible that it would lead to faster results at the runtime ?"
      ]
    },
    {
      "cell_type": "code",
      "source": [
        "Ans: A=A+1 evaluates to finding A, adding 1 to it. Then storing the value again in variable A. This expression makes Python to look for memory holder of a\n",
        "twice. But A+=1 simply means value of A is to incremented by 1. As memory address has to be identified once, += leads to faster operation."
      ],
      "metadata": {
        "id": "xNRi21o5ioOs"
      },
      "execution_count": null,
      "outputs": []
    },
    {
      "cell_type": "code",
      "source": [
        "Q2. What is the smallest no of statements you'd have to write in most programming languages to replace the Python expr a, b = a + b, a ?"
      ],
      "metadata": {
        "id": "DxUwlIs8is-H"
      },
      "execution_count": null,
      "outputs": []
    },
    {
      "cell_type": "code",
      "source": [
        "Ans: Minimum number of lines required to write above code in languages other Python will be 4, two for assigning initial values for variables a and b,\n",
        " and two for reassignment i.e. a=a+b and b=a."
      ],
      "metadata": {
        "id": "2kCyznaDixiV"
      },
      "execution_count": null,
      "outputs": []
    },
    {
      "cell_type": "code",
      "source": [
        "Q3. In Python, what is the most effective way to set a list of 100 integers to 0?"
      ],
      "metadata": {
        "id": "alzelFIsi2AI"
      },
      "execution_count": null,
      "outputs": []
    },
    {
      "cell_type": "code",
      "source": [
        "Ans: The Most effective way to set a list of 100 integers to 0 in python is by using repition operator(*) or by using list comprehension."
      ],
      "metadata": {
        "id": "2PIy9YuJi6n4"
      },
      "execution_count": null,
      "outputs": []
    },
    {
      "cell_type": "code",
      "source": [
        "# Method 1\n",
        "list_zero=[0]*100\n",
        "print(list_zero)\n",
        "# Method 2\n",
        "zero_list = [0 for x in range(100)]\n",
        "print(zero_list)"
      ],
      "metadata": {
        "colab": {
          "base_uri": "https://localhost:8080/"
        },
        "id": "6yrHvOSZjAEr",
        "outputId": "ac1b4e58-763e-45fa-a64f-2e4dfd5634e8"
      },
      "execution_count": 1,
      "outputs": [
        {
          "output_type": "stream",
          "name": "stdout",
          "text": [
            "[0, 0, 0, 0, 0, 0, 0, 0, 0, 0, 0, 0, 0, 0, 0, 0, 0, 0, 0, 0, 0, 0, 0, 0, 0, 0, 0, 0, 0, 0, 0, 0, 0, 0, 0, 0, 0, 0, 0, 0, 0, 0, 0, 0, 0, 0, 0, 0, 0, 0, 0, 0, 0, 0, 0, 0, 0, 0, 0, 0, 0, 0, 0, 0, 0, 0, 0, 0, 0, 0, 0, 0, 0, 0, 0, 0, 0, 0, 0, 0, 0, 0, 0, 0, 0, 0, 0, 0, 0, 0, 0, 0, 0, 0, 0, 0, 0, 0, 0, 0]\n",
            "[0, 0, 0, 0, 0, 0, 0, 0, 0, 0, 0, 0, 0, 0, 0, 0, 0, 0, 0, 0, 0, 0, 0, 0, 0, 0, 0, 0, 0, 0, 0, 0, 0, 0, 0, 0, 0, 0, 0, 0, 0, 0, 0, 0, 0, 0, 0, 0, 0, 0, 0, 0, 0, 0, 0, 0, 0, 0, 0, 0, 0, 0, 0, 0, 0, 0, 0, 0, 0, 0, 0, 0, 0, 0, 0, 0, 0, 0, 0, 0, 0, 0, 0, 0, 0, 0, 0, 0, 0, 0, 0, 0, 0, 0, 0, 0, 0, 0, 0, 0]\n"
          ]
        }
      ]
    },
    {
      "cell_type": "code",
      "source": [
        "Q4. What is the most effective way to initialise a list of 99 integers that repeats the sequence 1, 2, 3? S If necessary, show step-by-step instructions on how to accomplish this."
      ],
      "metadata": {
        "id": "uw3XTKcKjE8I"
      },
      "execution_count": null,
      "outputs": []
    },
    {
      "cell_type": "code",
      "source": [
        "my_list = [1,2,3]*33\n",
        "print(my_list)"
      ],
      "metadata": {
        "colab": {
          "base_uri": "https://localhost:8080/"
        },
        "id": "gYCsq-s4jGFp",
        "outputId": "cd2735b3-75fc-4945-fd49-f22765d9b3d5"
      },
      "execution_count": 2,
      "outputs": [
        {
          "output_type": "stream",
          "name": "stdout",
          "text": [
            "[1, 2, 3, 1, 2, 3, 1, 2, 3, 1, 2, 3, 1, 2, 3, 1, 2, 3, 1, 2, 3, 1, 2, 3, 1, 2, 3, 1, 2, 3, 1, 2, 3, 1, 2, 3, 1, 2, 3, 1, 2, 3, 1, 2, 3, 1, 2, 3, 1, 2, 3, 1, 2, 3, 1, 2, 3, 1, 2, 3, 1, 2, 3, 1, 2, 3, 1, 2, 3, 1, 2, 3, 1, 2, 3, 1, 2, 3, 1, 2, 3, 1, 2, 3, 1, 2, 3, 1, 2, 3, 1, 2, 3, 1, 2, 3, 1, 2, 3]\n"
          ]
        }
      ]
    },
    {
      "cell_type": "code",
      "source": [
        "Q5. If you're using IDLE to run a Python application, explain how to print a multidimensional list as efficiently?"
      ],
      "metadata": {
        "id": "lDkUZUM2jK43"
      },
      "execution_count": null,
      "outputs": []
    },
    {
      "cell_type": "code",
      "source": [
        "my_list = [[1,1],[2,2],[3,3],[4,4],[5,5]] # 2 dimensional List\n",
        "for x in range(len(my_list)):\n",
        "    for y in range(len(my_list[x])):\n",
        "        print(my_list[x][y],end=\" \")"
      ],
      "metadata": {
        "colab": {
          "base_uri": "https://localhost:8080/"
        },
        "id": "zugdQZrajQ13",
        "outputId": "21540633-3c9c-45ad-f1c1-5c37c2a692e2"
      },
      "execution_count": 3,
      "outputs": [
        {
          "output_type": "stream",
          "name": "stdout",
          "text": [
            "1 1 2 2 3 3 4 4 5 5 "
          ]
        }
      ]
    },
    {
      "cell_type": "code",
      "source": [
        "Q6. Is it possible to use list comprehension with a string? If so, how can you go about doing it?"
      ],
      "metadata": {
        "id": "wg6uLLIyjUG4"
      },
      "execution_count": null,
      "outputs": []
    },
    {
      "cell_type": "code",
      "source": [
        "Ans: List comprehension with string is possible."
      ],
      "metadata": {
        "id": "kDVJrR42jXiV"
      },
      "execution_count": null,
      "outputs": []
    },
    {
      "cell_type": "code",
      "source": [
        "my_list = [ele for ele in 'iNeuron']\n",
        "print(my_list)"
      ],
      "metadata": {
        "colab": {
          "base_uri": "https://localhost:8080/"
        },
        "id": "92K2yZsNjK-Z",
        "outputId": "5c89e687-8792-4d22-8a87-8d6355210b81"
      },
      "execution_count": 4,
      "outputs": [
        {
          "output_type": "stream",
          "name": "stdout",
          "text": [
            "['i', 'N', 'e', 'u', 'r', 'o', 'n']\n"
          ]
        }
      ]
    },
    {
      "cell_type": "code",
      "source": [
        "Q7. From the command line, how do you get support with a user-written Python programme? Is this possible from inside IDLE?"
      ],
      "metadata": {
        "id": "ygxDNYdxjhVD"
      },
      "execution_count": null,
      "outputs": []
    },
    {
      "cell_type": "code",
      "source": [
        "Ans: Get support with a user-written Python Programme: Start a command prompt (Windows) or terminal window (Linux/Mac). If the current working directory\n",
        " is the same as the location in which you saved the file, you can simply specify the filename as a command-line argument to the Python interpreter.\n",
        "\n",
        "Get support with a User-written Python Program from IDLE: You can also create script files and run them in IDLE. From the Shell window menu,\n",
        "select File → New File. That should open an additional editing window. Type in the code to be executed. From the menu in that window, select\n",
        "File → Save or File → Save As… and save the file to disk. Then select Run → Run Module. The output should appear back in the interpreter"
      ],
      "metadata": {
        "id": "_qYqioo0jhbn"
      },
      "execution_count": null,
      "outputs": []
    },
    {
      "cell_type": "code",
      "source": [
        "Q8. Functions are said to be “first-class objects” in Python but not in most other languages, such as C++ or Java. What can you do in Python with a function\n",
        " (callable object) that you can't do in C or C++?"
      ],
      "metadata": {
        "id": "6cwBBGEujs2Z"
      },
      "execution_count": null,
      "outputs": []
    },
    {
      "cell_type": "code",
      "source": [
        "Ans: The tasks which can be performed with the functions in python are:\n",
        "\n",
        "A function is an instance of the Object type.\n",
        "You can store the function in a variable.\n",
        "You can pass the function as a parameter to another function.\n",
        "You can return the function from a function.\n",
        "You can store them in data structures such as hash tables, lists,"
      ],
      "metadata": {
        "id": "ehaCch4Kjs7O"
      },
      "execution_count": null,
      "outputs": []
    },
    {
      "cell_type": "code",
      "source": [
        "Q9. How do you distinguish between a wrapper, a wrapped feature, and a decorator?"
      ],
      "metadata": {
        "id": "m2ELb9gmj0Vd"
      },
      "execution_count": null,
      "outputs": []
    },
    {
      "cell_type": "code",
      "source": [
        "Ans: Wrappers Around the functions are known as Decrators."
      ],
      "metadata": {
        "id": "WKN0Sj84j1h2"
      },
      "execution_count": null,
      "outputs": []
    },
    {
      "cell_type": "code",
      "source": [
        "Q10. If a function is a generator function, what does it return?"
      ],
      "metadata": {
        "id": "llFr8A7Tj4H0"
      },
      "execution_count": null,
      "outputs": []
    },
    {
      "cell_type": "code",
      "source": [
        "Ans: Generator functions are a special kind of function that return a lazy iterator. These are objects that you can loop over like a list. However, unlike\n",
        " lists, lazy iterators do not store their contents in memory."
      ],
      "metadata": {
        "id": "r88T-QeRj7Rv"
      },
      "execution_count": null,
      "outputs": []
    },
    {
      "cell_type": "code",
      "source": [
        "Q11. What is the one improvement that must be made to a function in order for it to become a generator function in the Python language?"
      ],
      "metadata": {
        "id": "loq4znsRkCND"
      },
      "execution_count": null,
      "outputs": []
    },
    {
      "cell_type": "code",
      "source": [
        "Ans: Generator is a written as normal function but uses yield keyword to return values instead of return keyword."
      ],
      "metadata": {
        "id": "hzyqRXdVkCQf"
      },
      "execution_count": null,
      "outputs": []
    },
    {
      "cell_type": "code",
      "source": [
        "Q12. Identify at least one benefit of generators."
      ],
      "metadata": {
        "id": "NBCPZ8ooj0Y5"
      },
      "execution_count": null,
      "outputs": []
    },
    {
      "cell_type": "code",
      "source": [
        "Ans: return statement sends a specified value back to its caller whereas yield statment can produce a sequence of values.\n",
        " We should use generator when we want to iterate over a sequence, but don’t want to store the entire sequence in memory."
      ],
      "metadata": {
        "id": "mhM1EzUnkOGC"
      },
      "execution_count": null,
      "outputs": []
    }
  ]
}