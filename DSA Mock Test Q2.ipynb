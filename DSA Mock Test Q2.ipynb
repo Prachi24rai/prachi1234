{
  "nbformat": 4,
  "nbformat_minor": 0,
  "metadata": {
    "colab": {
      "provenance": []
    },
    "kernelspec": {
      "name": "python3",
      "display_name": "Python 3"
    },
    "language_info": {
      "name": "python"
    }
  },
  "cells": [
    {
      "cell_type": "code",
      "source": [
        "Implement a queue using a list in Python. Include the necessary methods such as enqueue, dequeue, and isEmpty."
      ],
      "metadata": {
        "id": "POmBWYwbxhOx"
      },
      "execution_count": null,
      "outputs": []
    },
    {
      "cell_type": "code",
      "execution_count": null,
      "metadata": {
        "id": "TiKsEHiNxaMq"
      },
      "outputs": [],
      "source": [
        "# Python program to\n",
        "# demonstrate queue implementation\n",
        "# using list\n",
        "\n",
        "# Initializing a queue\n",
        "queue = []\n",
        "\n",
        "# Adding elements to the queue\n",
        "queue.append('a')\n",
        "queue.append('b')\n",
        "queue.append('c')\n",
        "\n",
        "print(\"Initial queue\")\n",
        "print(queue)\n",
        "\n",
        "# Removing elements from the queue\n",
        "print(\"\\nElements dequeued from queue\")\n",
        "print(queue.pop(0))\n",
        "print(queue.pop(0))\n",
        "print(queue.pop(0))\n",
        "\n",
        "print(\"\\nQueue after removing elements\")\n",
        "print(queue)\n",
        "\n",
        "# Uncommenting print(queue.pop(0))\n",
        "# will raise and IndexError\n",
        "# as the queue is now empty\n"
      ]
    }
  ]
}