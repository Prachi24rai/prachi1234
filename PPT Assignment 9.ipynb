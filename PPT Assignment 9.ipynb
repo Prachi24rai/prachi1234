{
  "nbformat": 4,
  "nbformat_minor": 0,
  "metadata": {
    "colab": {
      "provenance": []
    },
    "kernelspec": {
      "name": "python3",
      "display_name": "Python 3"
    },
    "language_info": {
      "name": "python"
    }
  },
  "cells": [
    {
      "cell_type": "code",
      "execution_count": null,
      "metadata": {
        "id": "VsNa8XDnfpw1"
      },
      "outputs": [],
      "source": [
        "Q1.) Given an integer `n`, return `true` if it is a power of two. Otherwise, return `false`.\n",
        "\n",
        "An integer `n` is a power of two, if there exists an integer `x` such that `n == 2x`.\n",
        "\n",
        "Example 1:\n",
        "Input: n = 1 \n",
        "\n",
        "Output: true\n",
        "\n",
        "Example 2:\n",
        "Input: n = 16 \n",
        "\n",
        "Output: true\n",
        "\n",
        "Example 3:\n",
        "Input: n = 3 \n",
        "\n",
        "Output: false"
      ]
    },
    {
      "cell_type": "code",
      "source": [
        "class Solution(object):\n",
        "    def isPowerOfTwo(self, n):\n",
        "        return n and not (n & n - 1)"
      ],
      "metadata": {
        "id": "2AICEZLGapgF"
      },
      "execution_count": 1,
      "outputs": []
    },
    {
      "cell_type": "code",
      "source": [
        "Q2.) Given a number n, find the sum of the first natural numbers.\n",
        "\n",
        "Example 1:\n",
        "\n",
        "Input: n = 3 \n",
        "\n",
        "Output: 6\n",
        "\n",
        "Example 2:\n",
        "\n",
        "Input  : 5 \n",
        "\n",
        "Output : 15"
      ],
      "metadata": {
        "id": "7RU0r5QVbY4d"
      },
      "execution_count": null,
      "outputs": []
    },
    {
      "cell_type": "code",
      "source": [
        "matrixOne = [[6,9,11],\n",
        "    [2 ,3,8]]\n",
        "\n",
        "matrixTwo = [[15,18,11],\n",
        "    [26,16,19]]\n",
        "\n",
        "result = [[0,0,0],\n",
        "         [0,0,0]]\n",
        "\n",
        "# First iterate rows\n",
        "for i in range(len(matrixOne)):\n",
        "   # Second iterate columns\n",
        "   for j in range(len(matrixOne[0])):\n",
        "       result[i][j] = matrixOne[i][j] + matrixTwo[i][j]\n",
        "print(\"Addition of two Matrix In Python\")\n",
        "for res in result:\n",
        "   print(res)"
      ],
      "metadata": {
        "colab": {
          "base_uri": "https://localhost:8080/"
        },
        "id": "HKX4eAG_cpTj",
        "outputId": "c1a4d502-4ee3-444c-f853-ce0b9cf026a9"
      },
      "execution_count": 3,
      "outputs": [
        {
          "output_type": "stream",
          "name": "stdout",
          "text": [
            "Addition of two Matrix In Python\n",
            "[21, 27, 22]\n",
            "[28, 19, 27]\n"
          ]
        }
      ]
    },
    {
      "cell_type": "code",
      "source": [
        "Q3.) Given a positive integer, N. Find the factorial of N. \n",
        "\n",
        "Example 1:\n",
        "\n",
        "Input: N = 5 \n",
        "\n",
        "Output: 120\n",
        "\n",
        "Example 2:\n",
        "\n",
        "Input: N = 4\n",
        "\n",
        "Output: 24"
      ],
      "metadata": {
        "id": "oCI8gdsNcsWK"
      },
      "execution_count": null,
      "outputs": []
    },
    {
      "cell_type": "code",
      "source": [
        "# Python program to find the factorial of a number provided by the user.\n",
        "\n",
        "# change the value for a different result\n",
        "num = 5\n",
        "\n",
        "# To take input from the user\n",
        "#num = int(input(\"Enter a number: \"))\n",
        "\n",
        "factorial = 1\n",
        "\n",
        "# check if the number is negative, positive or zero\n",
        "if num < 0:\n",
        "   print(\"Sorry, factorial does not exist for negative numbers\")\n",
        "elif num == 0:\n",
        "   print(\"The factorial of 0 is 1\")\n",
        "else:\n",
        "   for i in range(1,num + 1):\n",
        "       factorial = factorial*i\n",
        "   print(\"The factorial of\",num,\"is\",factorial)\n"
      ],
      "metadata": {
        "colab": {
          "base_uri": "https://localhost:8080/"
        },
        "id": "c5siwaonc53o",
        "outputId": "383415b0-1cec-4156-de37-8772a32224cb"
      },
      "execution_count": 5,
      "outputs": [
        {
          "output_type": "stream",
          "name": "stdout",
          "text": [
            "The factorial of 5 is 120\n"
          ]
        }
      ]
    },
    {
      "cell_type": "code",
      "source": [
        "Q4.) Given a number N and a power P, the task is to find the exponent of this number raised to the given power, i.e. N^P.\n",
        "\n",
        "Example 1 : \n",
        "\n",
        "Input: N = 5, P = 2\n",
        "\n",
        "Output: 25\n",
        "\n",
        "Example 2 :\n",
        "Input: N = 2, P = 5\n",
        "\n",
        "Output: 32"
      ],
      "metadata": {
        "id": "5x2XFmYwcsev"
      },
      "execution_count": null,
      "outputs": []
    },
    {
      "cell_type": "code",
      "source": [
        "def power(a, b):\n",
        "    ans = a\n",
        "    for i in range(b - 1):\n",
        "        ans = a * ans\n",
        "    return ans\n",
        "\n",
        "\n",
        "a = 5\n",
        "b = 2\n",
        "print(a, \"to the power\", b, \"is\", power(a, b))"
      ],
      "metadata": {
        "colab": {
          "base_uri": "https://localhost:8080/"
        },
        "id": "QILJkumfe-C7",
        "outputId": "541bdbd4-9451-4712-a722-896ca1e1b344"
      },
      "execution_count": 7,
      "outputs": [
        {
          "output_type": "stream",
          "name": "stdout",
          "text": [
            "5 to the power 2 is 25\n"
          ]
        }
      ]
    },
    {
      "cell_type": "code",
      "source": [
        "Q5.) Given an array of integers **arr**, the task is to find maximum element of that array using recursion.\n",
        "\n",
        "Example 1:\n",
        "\n",
        "Input: arr = {1, 4, 3, -5, -4, 8, 6};\n",
        "Output: 8\n",
        "\n",
        "Example 2:\n",
        "\n",
        "Input: arr = {1, 4, 45, 6, 10, -8};\n",
        "Output: 45"
      ],
      "metadata": {
        "id": "z-89dAkNfFf4"
      },
      "execution_count": null,
      "outputs": []
    },
    {
      "cell_type": "code",
      "source": [
        "def findMaxRec(A, n):\n",
        "    if (n == 1):\n",
        "        return A[0]\n",
        "    return max(A[n - 1], findMaxRec(A, n - 1))\n",
        " \n",
        "# Driver Code\n",
        "if __name__ == \"__main__\":\n",
        "     \n",
        "    A = [1, 4, 3, -5, -4, 8, 6]\n",
        "    n = len(A)\n",
        "    print(findMaxRec(A, n))"
      ],
      "metadata": {
        "colab": {
          "base_uri": "https://localhost:8080/"
        },
        "id": "R1eOecoGfQId",
        "outputId": "57eb3485-abef-43ba-bce4-5baec8c48adb"
      },
      "execution_count": 8,
      "outputs": [
        {
          "output_type": "stream",
          "name": "stdout",
          "text": [
            "8\n"
          ]
        }
      ]
    },
    {
      "cell_type": "code",
      "source": [
        "Q6.) Given first term (a), common difference (d) and a integer N of the Arithmetic Progression series, the task is to find Nth term of the series.\n",
        "\n",
        "Example 1:\n",
        "\n",
        "Input : a = 2 d = 1 N = 5\n",
        "Output : 6\n",
        "The 5th term of the series is : 6\n",
        "\n",
        "Example 2:\n",
        "\n",
        "Input : a = 5 d = 2 N = 10\n",
        "Output : 23\n",
        "The 10th term of the series is : 23"
      ],
      "metadata": {
        "id": "Fs_a-RQ8iq5y"
      },
      "execution_count": null,
      "outputs": []
    },
    {
      "cell_type": "code",
      "source": [
        "def display_arithmetic_progression(a, d, n):\n",
        "    current_value = a\n",
        "\n",
        "    for i in range(0, n):\n",
        "        print(current_value, end=' ')\n",
        "        current_value = current_value + d\n",
        "\n",
        "\n",
        "x = int(input('Enter the start number: '))\n",
        "d = int(input('Enter the common difference: '))\n",
        "n = int(input('Enter total numbers to print: '))\n",
        "display_arithmetic_progression(x, d, n)"
      ],
      "metadata": {
        "colab": {
          "base_uri": "https://localhost:8080/"
        },
        "id": "XUe4rBNei2KT",
        "outputId": "e4c9ce39-264e-448e-8563-f1197b6c6725"
      },
      "execution_count": 9,
      "outputs": [
        {
          "output_type": "stream",
          "name": "stdout",
          "text": [
            "Enter the start number: 2\n",
            "Enter the common difference: 1\n",
            "Enter total numbers to print: 5\n",
            "2 3 4 5 6 "
          ]
        }
      ]
    },
    {
      "cell_type": "code",
      "source": [
        "Q7.) Given a string S, the task is to write a program to print all permutations of a given string.\n",
        "\n",
        "Example 1:\n",
        "\n",
        "Input:\n",
        "\n",
        "S = “ABC”\n",
        "\n",
        "Output:\n",
        "\n",
        "“ABC”, “ACB”, “BAC”, “BCA”, “CBA”, “CAB”\n",
        "\n",
        "Example 2:\n",
        "\n",
        "Input:\n",
        "\n",
        "S = “XY”\n",
        "\n",
        "Output:\n",
        "\n",
        "“XY”, “YX”"
      ],
      "metadata": {
        "id": "O3FhH6qikQVy"
      },
      "execution_count": null,
      "outputs": []
    },
    {
      "cell_type": "code",
      "source": [
        "def get_permutation(string, i=0):\n",
        "\n",
        "    if i == len(string):   \t \n",
        "        print(\"\".join(string))\n",
        "\n",
        "    for j in range(i, len(string)):\n",
        "\n",
        "        words = [c for c in string]\n",
        "   \n",
        "        # swap\n",
        "        words[i], words[j] = words[j], words[i]\n",
        "   \t \n",
        "        get_permutation(words, i + 1)\n",
        "\n",
        "print(get_permutation('ABC'))"
      ],
      "metadata": {
        "colab": {
          "base_uri": "https://localhost:8080/"
        },
        "id": "3yn_z4TmkkmH",
        "outputId": "6cfbed86-3cb2-48ad-a679-af9d8f19ba40"
      },
      "execution_count": 11,
      "outputs": [
        {
          "output_type": "stream",
          "name": "stdout",
          "text": [
            "ABC\n",
            "ACB\n",
            "BAC\n",
            "BCA\n",
            "CBA\n",
            "CAB\n",
            "None\n"
          ]
        }
      ]
    },
    {
      "cell_type": "code",
      "source": [
        "Q8.) Given an array, find a product of all array elements.\n",
        "\n",
        "Example 1:\n",
        "\n",
        "Input  : arr[] = {1, 2, 3, 4, 5}\n",
        "Output : 120\n",
        "Example 2:\n",
        "\n",
        "Input  : arr[] = {1, 6, 3}\n",
        "Output : 18"
      ],
      "metadata": {
        "id": "R9CNfTZNlBkn"
      },
      "execution_count": null,
      "outputs": []
    },
    {
      "cell_type": "code",
      "source": [
        "arr = [1, 2, 3, 4, 5]\n",
        "product = 1\n",
        "\n",
        "# for loop\n",
        "for num in arr:\n",
        "    product = product * num\n",
        "# display the result\n",
        "print(product)"
      ],
      "metadata": {
        "colab": {
          "base_uri": "https://localhost:8080/"
        },
        "id": "rJRm8NrqmEwf",
        "outputId": "14f164f1-7bd8-4787-e7ab-698a90ac1baf"
      },
      "execution_count": 12,
      "outputs": [
        {
          "output_type": "stream",
          "name": "stdout",
          "text": [
            "120\n"
          ]
        }
      ]
    }
  ]
}