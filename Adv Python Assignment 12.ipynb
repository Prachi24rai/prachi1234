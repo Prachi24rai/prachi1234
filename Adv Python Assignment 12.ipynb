{
  "nbformat": 4,
  "nbformat_minor": 0,
  "metadata": {
    "colab": {
      "provenance": []
    },
    "kernelspec": {
      "name": "python3",
      "display_name": "Python 3"
    },
    "language_info": {
      "name": "python"
    }
  },
  "cells": [
    {
      "cell_type": "code",
      "execution_count": null,
      "metadata": {
        "id": "N3Ihq0J1dTra"
      },
      "outputs": [],
      "source": [
        "Q1. Does assigning a value to a string's indexed character violate Python's string immutability ?"
      ]
    },
    {
      "cell_type": "code",
      "source": [
        "Ans: String’s indexed character cannot to be assigned a New value , as Strings are immutable.\n",
        "Example:\n",
        "name = \"Reinforcement\"\n",
        "print(id(name)) #73472\n",
        "name[0] = \"V\" # Raises TypeError"
      ],
      "metadata": {
        "id": "ZYR2q7scdwyV"
      },
      "execution_count": null,
      "outputs": []
    },
    {
      "cell_type": "code",
      "source": [
        "Q2. Does using the += operator to concatenate strings violate Python's string immutability? Why or why not ?"
      ],
      "metadata": {
        "id": "7LvTxWwOd46-"
      },
      "execution_count": null,
      "outputs": []
    },
    {
      "cell_type": "code",
      "source": [
        "Ans: += operator is used to concatenate strings, it does not violate Python’s string immutability Property. Because doing so new creates a new association\n",
        " with data and variable. E.g. str_1=\"a\" and str_1+=\"b. effect of this statements to create string ab and reassign it to variable str_1, any string data\n",
        "  is not actually modified."
      ],
      "metadata": {
        "id": "XSPi7NJad5BX"
      },
      "execution_count": null,
      "outputs": []
    },
    {
      "cell_type": "code",
      "source": [
        "str_1 = 'a'\n",
        "print(id(str_1))\n",
        "str_1 += 'b'\n",
        "print(id(str_1)) # Does not Modify existing string, Creates a New String Object"
      ],
      "metadata": {
        "colab": {
          "base_uri": "https://localhost:8080/"
        },
        "id": "7ut2R9EeeERP",
        "outputId": "be7537a6-9bdf-4fa4-9058-311cddee374e"
      },
      "execution_count": 1,
      "outputs": [
        {
          "output_type": "stream",
          "name": "stdout",
          "text": [
            "140473010847152\n",
            "140472591078384\n"
          ]
        }
      ]
    },
    {
      "cell_type": "code",
      "source": [
        "Q3. In Python, how many different ways are there to index a character?"
      ],
      "metadata": {
        "id": "NtxiIrb5eHTc"
      },
      "execution_count": null,
      "outputs": []
    },
    {
      "cell_type": "code",
      "source": [
        "Ans: A Character in string can be indexed using string name followed by index number of character in square bracket. Positive Indexing i.e. first index\n",
        " is 0 an so on, or Negative Indexing i.e. last letter is -1 and so on can be used to index a character"
      ],
      "metadata": {
        "id": "ltOaKgMdeKu0"
      },
      "execution_count": null,
      "outputs": []
    },
    {
      "cell_type": "code",
      "source": [
        "in_string = \"iNeuron Full Stack Data Science\"\n",
        "print(in_string[9],in_string[10],in_string[2]) # Positive Indexing\n",
        "print(in_string[-1],in_string[-5],in_string[-2]) # Negative Indexing"
      ],
      "metadata": {
        "colab": {
          "base_uri": "https://localhost:8080/"
        },
        "id": "FWjVzvbYeM7x",
        "outputId": "950e1cc9-7164-4289-9f2d-7c6dad4c2e5e"
      },
      "execution_count": 2,
      "outputs": [
        {
          "output_type": "stream",
          "name": "stdout",
          "text": [
            "u l e\n",
            "e i c\n"
          ]
        }
      ]
    },
    {
      "cell_type": "code",
      "source": [
        "Q4. What is the relationship between indexing and slicing?"
      ],
      "metadata": {
        "id": "cmaJAmL2eW2Q"
      },
      "execution_count": null,
      "outputs": []
    },
    {
      "cell_type": "code",
      "source": [
        "Ans: We can access elements of sequence datatypes by using slicing and indexing. Indexing is used to obtaining individual element while slicing for sequence of elements."
      ],
      "metadata": {
        "id": "kiy4w_TkeXAo"
      },
      "execution_count": null,
      "outputs": []
    },
    {
      "cell_type": "code",
      "source": [
        "in_string = \"iNeuron Full Stack Data Science\"\n",
        "print(in_string[1],in_string[3],in_string[5]) # Indexing\n",
        "print(in_string[1:15]) # Slicing"
      ],
      "metadata": {
        "id": "pnO6oZU4ed9S"
      },
      "execution_count": null,
      "outputs": []
    },
    {
      "cell_type": "code",
      "source": [
        "Q5. What is an indexed character's exact data type? What is the data form of a slicing-generated substring?"
      ],
      "metadata": {
        "id": "jpykvdquehHS"
      },
      "execution_count": null,
      "outputs": []
    },
    {
      "cell_type": "code",
      "source": [
        "Ans: Indexed characters and sliced substrings have datatype String."
      ],
      "metadata": {
        "id": "LqZXtIkCehKw"
      },
      "execution_count": null,
      "outputs": []
    },
    {
      "cell_type": "code",
      "source": [
        "in_string = \"iNeuron Full Stack Data Science\"\n",
        "print(type(in_string[3])) # Indexing -> str\n",
        "print(type(in_string[1:10])) # Indexing -> str"
      ],
      "metadata": {
        "id": "u9S4PwhqehPd"
      },
      "execution_count": null,
      "outputs": []
    },
    {
      "cell_type": "code",
      "source": [
        "Q6. What is the relationship between string and character \"types\" in Python?"
      ],
      "metadata": {
        "id": "2QtY_mnNesvk"
      },
      "execution_count": null,
      "outputs": []
    },
    {
      "cell_type": "code",
      "source": [
        "Ans: Object that contains sequence of character datatypes are called String."
      ],
      "metadata": {
        "id": "k3NCqwvReszG"
      },
      "execution_count": null,
      "outputs": []
    },
    {
      "cell_type": "code",
      "source": [
        "Q7. Identify at least two operators & one method that allow you to combine one or more smaller strings to create a larger string ?"
      ],
      "metadata": {
        "id": "-19jTZ9meh2G"
      },
      "execution_count": null,
      "outputs": []
    },
    {
      "cell_type": "code",
      "source": [
        "Ans: +, += and * allow to combine one or more smaller strings to create a larger string. <string>.join(<sep>) method joins element of iterable type\n",
        " like list and tuple to get a combined string."
      ],
      "metadata": {
        "id": "ltHAE1SzfDcy"
      },
      "execution_count": null,
      "outputs": []
    },
    {
      "cell_type": "code",
      "source": [
        "in_string = 'iNeuron '\n",
        "in_string += 'Full Stack Data Science'\n",
        "print(in_string + ' FSDS')\n",
        "print('FSDS '*3)\n",
        "print(\" \".join(['I','N','E','U','R','O','N'])) # List Iterable\n",
        "print(\" \".join(('I','N','E','U','R','O','N')).lower()) # Tuple Iterable"
      ],
      "metadata": {
        "colab": {
          "base_uri": "https://localhost:8080/"
        },
        "id": "lEgKjXUSfDfr",
        "outputId": "4f117537-5f6d-4359-f701-f27713d0aa21"
      },
      "execution_count": 3,
      "outputs": [
        {
          "output_type": "stream",
          "name": "stdout",
          "text": [
            "iNeuron Full Stack Data Science FSDS\n",
            "FSDS FSDS FSDS \n",
            "I N E U R O N\n",
            "i n e u r o n\n"
          ]
        }
      ]
    },
    {
      "cell_type": "code",
      "source": [
        "Q8. What is the benefit of first checking the target string with in or not in before using the index method to find a substring ?"
      ],
      "metadata": {
        "id": "T4ltLxwufLXq"
      },
      "execution_count": null,
      "outputs": []
    },
    {
      "cell_type": "code",
      "source": [
        "Checking the target string with in or not Operators before using the index method to find a substring just helps confirming availability of substring and thus avoid raising of ValueError.\n",
        "Example:\n",
        "in_string = \"ineuron\"\n",
        "in_string.index('x') # Raises ValueError\n",
        "in_string.index('u') # 3"
      ],
      "metadata": {
        "id": "olCJIP2GfLb7"
      },
      "execution_count": null,
      "outputs": []
    },
    {
      "cell_type": "code",
      "source": [
        "Q9. Which operators and built-in string methods produce simple Boolean (true/false) results?"
      ],
      "metadata": {
        "id": "MBcZYmCFfLfZ"
      },
      "execution_count": null,
      "outputs": []
    },
    {
      "cell_type": "code",
      "source": [
        "Ans: The String Operators and built-in methods to Produce Simple Boolean (True/False) Results are:\n",
        "\n",
        "in\n",
        "not\n",
        "<string>.isalpha()\n",
        "<string>.isalnum()\n",
        "<string>.isdecimal()\n",
        "<string>.isdigit()\n",
        "<string>.islower()\n",
        "<string>.isnumeric()\n",
        "<string>.isprintable()\n",
        "<string>.isspace()\n",
        "<string>.istitle()"
      ],
      "metadata": {
        "id": "hD-J2OPsfLjA"
      },
      "execution_count": null,
      "outputs": []
    }
  ]
}