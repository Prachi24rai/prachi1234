{
  "nbformat": 4,
  "nbformat_minor": 0,
  "metadata": {
    "colab": {
      "provenance": []
    },
    "kernelspec": {
      "name": "python3",
      "display_name": "Python 3"
    },
    "language_info": {
      "name": "python"
    }
  },
  "cells": [
    {
      "cell_type": "code",
      "execution_count": null,
      "metadata": {
        "id": "1lhGB3g9Pz9g"
      },
      "outputs": [],
      "source": [
        "1.Write a Python Program to find sum of elements in a list ?"
      ]
    },
    {
      "cell_type": "code",
      "source": [
        "def sumofList():\n",
        "    in_ele = int(input('Enter the No of Entries in a List: '))\n",
        "    in_list = []\n",
        "    for itr in range(in_ele):\n",
        "        in_list.append(int(input('Enter a element: ')))\n",
        "    print(f'Sum of Elements: {sum(in_list)}')\n",
        "\n",
        "sumofList()"
      ],
      "metadata": {
        "colab": {
          "base_uri": "https://localhost:8080/"
        },
        "id": "o4TWh-wPuUUA",
        "outputId": "ddff25d9-b60f-44c1-8c4e-84c816cf64fa"
      },
      "execution_count": 1,
      "outputs": [
        {
          "output_type": "stream",
          "name": "stdout",
          "text": [
            "Enter the No of Entries in a List: 5\n",
            "Enter a element: 1\n",
            "Enter a element: 2\n",
            "Enter a element: 3\n",
            "Enter a element: 4\n",
            "Enter a element: 5\n",
            "Sum of Elements: 15\n"
          ]
        }
      ]
    },
    {
      "cell_type": "code",
      "source": [
        "2.Write a Python Program to multiply all numbers in the list ?"
      ],
      "metadata": {
        "id": "AuBm7wArudYn"
      },
      "execution_count": null,
      "outputs": []
    },
    {
      "cell_type": "code",
      "source": [
        "def mulofList():\n",
        "    in_ele = int(input('Enter the No of Entries in a List: '))\n",
        "    in_list = []\n",
        "    mul = 1\n",
        "    for itr in range(in_ele):\n",
        "        in_list.append(int(input('Enter a element: ')))\n",
        "    for ele in in_list:\n",
        "        mul = mul * ele\n",
        "    print(mul)\n",
        "\n",
        "mulofList()"
      ],
      "metadata": {
        "colab": {
          "base_uri": "https://localhost:8080/"
        },
        "id": "7LvDd_pQukHK",
        "outputId": "f4a8095f-67e2-4940-9ab8-1f97304c3587"
      },
      "execution_count": 2,
      "outputs": [
        {
          "output_type": "stream",
          "name": "stdout",
          "text": [
            "Enter the No of Entries in a List: 5\n",
            "Enter a element: 1\n",
            "Enter a element: 2\n",
            "Enter a element: 3\n",
            "Enter a element: 4\n",
            "Enter a element: 5\n",
            "120\n"
          ]
        }
      ]
    },
    {
      "cell_type": "code",
      "source": [
        "3.Write a Python Program to find smallest number in the list ?"
      ],
      "metadata": {
        "id": "3EDeaQ7su2Mm"
      },
      "execution_count": null,
      "outputs": []
    },
    {
      "cell_type": "code",
      "source": [
        "def smallEleInList():\n",
        "    in_ele = int(input('Enter the No of elements in a list: '))\n",
        "    in_list = []\n",
        "    for ele in range(in_ele):\n",
        "        in_list.append(int(input('Enter a Element: ')))\n",
        "    print(f'The Smallest Element in {in_list} is {sorted(in_list)[0]}')\n",
        "smallEleInList()"
      ],
      "metadata": {
        "colab": {
          "base_uri": "https://localhost:8080/"
        },
        "id": "lsDukkq2u9le",
        "outputId": "9cf03f5d-89f0-4f7d-cae5-21af4cd8991d"
      },
      "execution_count": 3,
      "outputs": [
        {
          "output_type": "stream",
          "name": "stdout",
          "text": [
            "Enter the No of elements in a list: 5\n",
            "Enter a Element: 20\n",
            "Enter a Element: 42\n",
            "Enter a Element: 36\n",
            "Enter a Element: 45\n",
            "Enter a Element: 12\n",
            "The Smallest Element in [20, 42, 36, 45, 12] is 12\n"
          ]
        }
      ]
    },
    {
      "cell_type": "code",
      "source": [
        "4.Write a Python Program to find largest number in the list ?"
      ],
      "metadata": {
        "id": "yRNXEEJFvHyn"
      },
      "execution_count": null,
      "outputs": []
    },
    {
      "cell_type": "code",
      "source": [
        "def largestEleInList():\n",
        "    in_ele = int(input('Enter the No of elements in a list: '))\n",
        "    in_list = []\n",
        "    for ele in range(in_ele):\n",
        "        in_list.append(int(input('Enter a Element: ')))\n",
        "    print(f'The Largest Element in {in_list} is {sorted(in_list, reverse=True)[0]}')\n",
        "\n",
        "largestEleInList()"
      ],
      "metadata": {
        "colab": {
          "base_uri": "https://localhost:8080/"
        },
        "id": "hf-zm26XvVEr",
        "outputId": "cb938b1b-f3d2-430b-944f-9f296352a20f"
      },
      "execution_count": 5,
      "outputs": [
        {
          "output_type": "stream",
          "name": "stdout",
          "text": [
            "Enter the No of elements in a list: 12\n",
            "Enter a Element: 90\n",
            "Enter a Element: 42\n",
            "Enter a Element: 45\n",
            "Enter a Element: 64\n",
            "Enter a Element: 78\n",
            "Enter a Element: 81\n",
            "Enter a Element: 24\n",
            "Enter a Element: 56\n",
            "Enter a Element: 78\n",
            "Enter a Element: 62\n",
            "Enter a Element: 87\n",
            "Enter a Element: 12\n",
            "The Largest Element in [90, 42, 45, 64, 78, 81, 24, 56, 78, 62, 87, 12] is 90\n"
          ]
        }
      ]
    },
    {
      "cell_type": "code",
      "source": [
        "5.Write a Python Program to find second largest number in the list ?"
      ],
      "metadata": {
        "id": "fuOTbBzOvmZf"
      },
      "execution_count": null,
      "outputs": []
    },
    {
      "cell_type": "code",
      "source": [
        "def secondLargestEleInList():\n",
        "    in_ele = int(input('Enter the No of elements in a list: '))\n",
        "    in_list = []\n",
        "    for ele in range(in_ele):\n",
        "        in_list.append(int(input('Enter a Element: ')))\n",
        "    print(f'The Second Largest Element in {in_list} is {sorted(in_list, reverse=True)[1]}')\n",
        "\n",
        "secondLargestEleInList()1"
      ],
      "metadata": {
        "colab": {
          "base_uri": "https://localhost:8080/"
        },
        "id": "bT61ga-ivqtj",
        "outputId": "2b30b692-1cc3-43b4-c6fe-26263d0d0d23"
      },
      "execution_count": 6,
      "outputs": [
        {
          "output_type": "stream",
          "name": "stdout",
          "text": [
            "Enter the No of elements in a list: 5\n",
            "Enter a Element: 12\n",
            "Enter a Element: 4\n",
            "Enter a Element: 18\n",
            "Enter a Element: 20\n",
            "Enter a Element: 22\n",
            "The Second Largest Element in [12, 4, 18, 20, 22] is 20\n"
          ]
        }
      ]
    },
    {
      "cell_type": "code",
      "source": [
        "6.Write a Python Program to find N largest elements in the list ?"
      ],
      "metadata": {
        "id": "rAcpfOV-v3kQ"
      },
      "execution_count": null,
      "outputs": []
    },
    {
      "cell_type": "code",
      "source": [
        "def nLargestEleInList(k):\n",
        "    in_ele = int(input('Enter the No of elements in a list: '))\n",
        "    in_list = []\n",
        "    for ele in range(in_ele):\n",
        "        in_list.append(int(input('Enter a Element: ')))\n",
        "    print(f'The {k} Largest Element in {in_list} is {sorted(in_list, reverse=True)[0:k]}')\n",
        "\n",
        "nLargestEleInList(4)"
      ],
      "metadata": {
        "colab": {
          "base_uri": "https://localhost:8080/"
        },
        "id": "L9M3O-9bwKQR",
        "outputId": "f65adf89-0e23-4d0e-9b99-a056a1d4c589"
      },
      "execution_count": 8,
      "outputs": [
        {
          "output_type": "stream",
          "name": "stdout",
          "text": [
            "Enter the No of elements in a list: 10\n",
            "Enter a Element: 1\n",
            "Enter a Element: 2\n",
            "Enter a Element: 3\n",
            "Enter a Element: 4\n",
            "Enter a Element: 5\n",
            "Enter a Element: 6\n",
            "Enter a Element: 7\n",
            "Enter a Element: 8\n",
            "Enter a Element: 9\n",
            "Enter a Element: 10\n",
            "The 4 Largest Element in [1, 2, 3, 4, 5, 6, 7, 8, 9, 10] is [10, 9, 8, 7]\n"
          ]
        }
      ]
    },
    {
      "cell_type": "code",
      "source": [
        "7.Write a Python Program to find even numbers in the list ?"
      ],
      "metadata": {
        "id": "QTjuoRd6wQ6E"
      },
      "execution_count": null,
      "outputs": []
    },
    {
      "cell_type": "code",
      "source": [
        "def evenNoInList():\n",
        "    in_ele = int(input('Enter the No of elements in a list: '))\n",
        "    in_list = []\n",
        "    even_list = []\n",
        "    for ele in range(in_ele):\n",
        "        in_list.append(int(input('Enter a Element: ')))\n",
        "    for ele in in_list:\n",
        "        if ele%2 == 0:\n",
        "            even_list.append(ele)\n",
        "    print(f'The Even Elements in {in_list} are {even_list}')\n",
        "\n",
        "evenNoInList()"
      ],
      "metadata": {
        "colab": {
          "base_uri": "https://localhost:8080/"
        },
        "id": "ffXZ_jBVwac0",
        "outputId": "68d6be88-dcd3-4fe4-b8c3-1badc9dea1d4"
      },
      "execution_count": 9,
      "outputs": [
        {
          "output_type": "stream",
          "name": "stdout",
          "text": [
            "Enter the No of elements in a list: 6\n",
            "Enter a Element: 1\n",
            "Enter a Element: 2\n",
            "Enter a Element: 3\n",
            "Enter a Element: 4\n",
            "Enter a Element: 5\n",
            "Enter a Element: 6\n",
            "The Even Elements in [1, 2, 3, 4, 5, 6] are [2, 4, 6]\n"
          ]
        }
      ]
    },
    {
      "cell_type": "code",
      "source": [
        "8.Write a Python Program to find odd numbers in the list ?"
      ],
      "metadata": {
        "id": "qC6DlXlpwlNH"
      },
      "execution_count": null,
      "outputs": []
    },
    {
      "cell_type": "code",
      "source": [
        "def oddNoInList():\n",
        "    in_ele = int(input('Enter the No of elements in a list: '))\n",
        "    in_list = []\n",
        "    odd_list = []\n",
        "    for ele in range(in_ele):\n",
        "        in_list.append(int(input('Enter a Element: ')))\n",
        "    for ele in in_list:\n",
        "        if ele%2 != 0:\n",
        "            odd_list.append(ele)\n",
        "    print(f'The Even Elements in {in_list} are {odd_list}')\n",
        "\n",
        "oddNoInList()"
      ],
      "metadata": {
        "colab": {
          "base_uri": "https://localhost:8080/"
        },
        "id": "Gr-drFylwpgS",
        "outputId": "3225a2d6-df66-4da6-f57b-b7a385947d89"
      },
      "execution_count": 10,
      "outputs": [
        {
          "output_type": "stream",
          "name": "stdout",
          "text": [
            "Enter the No of elements in a list: 6\n",
            "Enter a Element: 1\n",
            "Enter a Element: 2\n",
            "Enter a Element: 3\n",
            "Enter a Element: 4\n",
            "Enter a Element: 5\n",
            "Enter a Element: 6\n",
            "The Even Elements in [1, 2, 3, 4, 5, 6] are [1, 3, 5]\n"
          ]
        }
      ]
    },
    {
      "cell_type": "code",
      "source": [
        "9.Write a Python Program to remove empty list from list ?"
      ],
      "metadata": {
        "id": "an0LQ8tywwOX"
      },
      "execution_count": null,
      "outputs": []
    },
    {
      "cell_type": "code",
      "source": [
        "def checkEmptyList():\n",
        "    in_list = eval(input('Enter all elements of the list: '))\n",
        "    if [] in in_list:\n",
        "        print(f'There is an Empty list in {in_list} at Position {in_list.index([])}')\n",
        "        in_list.remove([])\n",
        "        print(f'The List after removing [] is {in_list}')\n",
        "    else:\n",
        "        print(f'There is no [] List in the list {in_list}')\n",
        "\n",
        "checkEmptyList()"
      ],
      "metadata": {
        "colab": {
          "base_uri": "https://localhost:8080/"
        },
        "id": "PiWKUsUwxC8Q",
        "outputId": "3f0474a9-c073-42c7-9e97-fa9b9527b706"
      },
      "execution_count": 11,
      "outputs": [
        {
          "output_type": "stream",
          "name": "stdout",
          "text": [
            "Enter all elements of the list: [1,2,3,4,5,[],6,7,8,9,0]\n",
            "There is an Empty list in [1, 2, 3, 4, 5, [], 6, 7, 8, 9, 0] at Position 5\n",
            "The List after removing [] is [1, 2, 3, 4, 5, 6, 7, 8, 9, 0]\n"
          ]
        }
      ]
    },
    {
      "cell_type": "code",
      "source": [
        "10.Write a Python Program to Cloning or Copying a list ?"
      ],
      "metadata": {
        "id": "xhRAHAc6xLPl"
      },
      "execution_count": null,
      "outputs": []
    },
    {
      "cell_type": "code",
      "source": [
        "import copy\n",
        "\n",
        "def cloneList():\n",
        "    in_list = eval(input('Enter a list'))\n",
        "    print(in_list, id(in_list))\n",
        "    cloned_list = in_list.copy()\n",
        "    print(cloned_list, id(cloned_list))\n",
        "\n",
        "cloneList()"
      ],
      "metadata": {
        "colab": {
          "base_uri": "https://localhost:8080/"
        },
        "id": "ub0sVZ_8xViv",
        "outputId": "84f40e49-fed9-4acb-b313-8f072f2d0a19"
      },
      "execution_count": 12,
      "outputs": [
        {
          "output_type": "stream",
          "name": "stdout",
          "text": [
            "Enter a list[1,2,3,4,5,6,7,8,9,0]\n",
            "[1, 2, 3, 4, 5, 6, 7, 8, 9, 0] 139671560874432\n",
            "[1, 2, 3, 4, 5, 6, 7, 8, 9, 0] 139671560994752\n"
          ]
        }
      ]
    },
    {
      "cell_type": "code",
      "source": [
        "11.Write a Python Program to count occurences of an element in a list ?"
      ],
      "metadata": {
        "id": "8IPHf2pcxd6i"
      },
      "execution_count": null,
      "outputs": []
    },
    {
      "cell_type": "code",
      "source": [
        "def checkOccurence():\n",
        "    in_list = eval(input('Enter the elements of the list: '))\n",
        "    in_num = eval(input('Enter the element to find: '))\n",
        "    count = 0\n",
        "    if in_num in in_list:\n",
        "        for ele in in_list:\n",
        "            if ele == in_num:\n",
        "                count = count+1\n",
        "    print(f'There are {count} occurences of {in_num} in {in_list}')\n",
        "\n",
        "checkOccurence()"
      ],
      "metadata": {
        "colab": {
          "base_uri": "https://localhost:8080/"
        },
        "id": "5RCuRicWxpeG",
        "outputId": "adecd02a-5612-4f0d-d943-644a1ac78acd"
      },
      "execution_count": 13,
      "outputs": [
        {
          "output_type": "stream",
          "name": "stdout",
          "text": [
            "Enter the elements of the list: [1,2,3,1,2,3,1,2,3,4,5,6,4,5,6]\n",
            "Enter the element to find: 6\n",
            "There are 2 occurences of 6 in [1, 2, 3, 1, 2, 3, 1, 2, 3, 4, 5, 6, 4, 5, 6]\n"
          ]
        }
      ]
    },
    {
      "cell_type": "code",
      "source": [],
      "metadata": {
        "id": "-PFjA6dYxynK"
      },
      "execution_count": null,
      "outputs": []
    }
  ]
}