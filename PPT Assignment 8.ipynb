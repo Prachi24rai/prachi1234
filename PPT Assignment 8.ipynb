{
  "nbformat": 4,
  "nbformat_minor": 0,
  "metadata": {
    "colab": {
      "provenance": []
    },
    "kernelspec": {
      "name": "python3",
      "display_name": "Python 3"
    },
    "language_info": {
      "name": "python"
    }
  },
  "cells": [
    {
      "cell_type": "code",
      "execution_count": null,
      "metadata": {
        "id": "SCHasN-N1fyN"
      },
      "outputs": [],
      "source": [
        "Q1.) Given two strings s1 and s2, return the lowest ASCII sum of deleted characters to make two strings equal.\n",
        "\n",
        "Example 1:\n",
        "\n",
        "Input: s1 = \"sea\", s2 = \"eat\"\n",
        "\n",
        "Output: 231\n",
        "\n",
        "Explanation: Deleting \"s\" from \"sea\" adds the ASCII value of \"s\" (115) to the sum.\n",
        "\n",
        "Deleting \"t\" from \"eat\" adds 116 to the sum.\n",
        "\n",
        "At the end, both strings are equal, and 115 + 116 = 231 is the minimum sum possible to achieve this."
      ]
    },
    {
      "cell_type": "code",
      "source": [
        "class Solution:\n",
        "    def minimumDeleteSum(self, s1: str, s2: str) -> int:\n",
        "        m = len(s1)\n",
        "        n = len(s2)\n",
        "        \n",
        "        dp = [[0 for i in range(len(s1) + 1)] for j in range(len(s2) + 1)]\n",
        "\n",
        "        for i in range(len(s2) + 1):\n",
        "            for j in range(len(s1) + 1):\n",
        "                if i == 0 and j == 0: \n",
        "                    continue\n",
        "                elif i == 0:\n",
        "                    dp[i][j] += dp[i][j-1] + ord(s1[j-1])\n",
        "                elif j  == 0:\n",
        "                    dp[i][j] += dp[i-1][j] + ord(s2[i-1])\n",
        "                elif s1[j-1] == s2[i-1]:\n",
        "                    dp[i][j] = dp[i-1][j-1]\n",
        "                else:\n",
        "                    dp[i][j] = min(ord(s1[j-1]) + dp[i][j-1], ord(s2[i-1]) + dp[i-1][j])\n",
        "        \n",
        "        return dp[n][m]\n",
        "        "
      ],
      "metadata": {
        "id": "zWmq--Y64fPV"
      },
      "execution_count": 1,
      "outputs": []
    },
    {
      "cell_type": "code",
      "source": [
        "Q2.) Given a string s containing only three types of characters: '(', ')' and '*', return true if s is valid.\n",
        "\n",
        "The following rules define a valid string:\n",
        "\n",
        "- Any left parenthesis '(' must have a corresponding right parenthesis ')'.\n",
        "- Any right parenthesis ')' must have a corresponding left parenthesis '('.\n",
        "- Left parenthesis '(' must go before the corresponding right parenthesis ')'.\n",
        "- '*' could be treated as a single right parenthesis ')' or a single left parenthesis '(' or an empty string \"\".\n",
        "\n",
        "Example 1:\n",
        "\n",
        "Input: s = \"()\"\n",
        "\n",
        "Output:\n",
        "\n",
        "true"
      ],
      "metadata": {
        "id": "peyB_NRn5su2"
      },
      "execution_count": null,
      "outputs": []
    },
    {
      "cell_type": "code",
      "source": [
        "def checkValidString(self, s):\n",
        "        cmin = cmax = 0\n",
        "        for i in s:\n",
        "            if i == '(':\n",
        "                cmax += 1\n",
        "                cmin += 1\n",
        "            if i == ')':\n",
        "                cmax -= 1\n",
        "                cmin = max(cmin - 1, 0)\n",
        "            if i == '*':\n",
        "                cmax += 1\n",
        "                cmin = max(cmin - 1, 0)\n",
        "            if cmax < 0:\n",
        "                return False\n",
        "        return cmin == 0"
      ],
      "metadata": {
        "id": "d40sCHyw6dLB"
      },
      "execution_count": 2,
      "outputs": []
    },
    {
      "cell_type": "code",
      "source": [
        "Q3.) Given two strings word1 and word2, return the minimum number of steps required to make word1 and word2 the same.\n",
        "\n",
        "In one step, you can delete exactly one character in either string.\n",
        "\n",
        "Example 1:\n",
        "\n",
        "Input: word1 = \"sea\", word2 = \"eat\"\n",
        "\n",
        "Output: 2\n",
        "\n",
        "Explanation: You need one step to make \"sea\" to \"ea\" and another step to make \"eat\" to \"ea\"."
      ],
      "metadata": {
        "id": "tpFtL9PW8yQE"
      },
      "execution_count": null,
      "outputs": []
    },
    {
      "cell_type": "code",
      "source": [
        "def minDistance(self, word1: str, word2: str) -> int:\n",
        "\tdef solve(w1, w2, i, j):\n",
        "\t\tif i == L1 and j == L2 : return 0\n",
        "\t\tif i == L1 or j == L2 : \n",
        "\t\t\treturn max(L1 - i, L2 - j)\n",
        "\t\tif w1[i] == w2[j] : \n",
        "\t\t\treturn solve(w1, w2, i + 1, j + 1)                \n",
        "\t\treturn 1 + min(solve(w1, w2, i + 1, j), solve(w1, w2, i, j + 1))\n",
        "\tL1, L2 = len(word1), len(word2)\n",
        "\treturn solve(word1, word2, 0, 0)   "
      ],
      "metadata": {
        "id": "flAxc75bIsFK"
      },
      "execution_count": 1,
      "outputs": []
    },
    {
      "cell_type": "code",
      "source": [
        "Q4.) You need to construct a binary tree from a string consisting of parenthesis and integers.\n",
        "\n",
        "The whole input represents a binary tree. It contains an integer followed by zero, one or two pairs of parenthesis. The integer represents the root's value\n",
        " and a pair of parenthesis contains a child binary tree with the same structure.\n",
        "You always start to construct the **left** child node of the parent first if it exists.\n",
        "\n",
        "           4\n",
        "         /   \\\n",
        "        2     6\n",
        "       / \\   / \n",
        "      3   1 5 \n",
        "\n",
        "      Input: s = \"4(2(3)(1))(6(5))\"\n",
        "      Output: [4,2,6,3,1,5]\n"
      ],
      "metadata": {
        "id": "onit1VL5I76l"
      },
      "execution_count": null,
      "outputs": []
    },
    {
      "cell_type": "code",
      "source": [
        "class newNode:\n",
        "\tdef __init__(self, data):\n",
        "\t\tself.data = data\n",
        "\t\tself.left = self.right = None\n",
        "\n",
        "# This function is here just to test\n",
        "\n",
        "\n",
        "def preOrder(node):\n",
        "\tif (node == None):\n",
        "\t\treturn\n",
        "\tprint(node.data, end=' ')\n",
        "\tpreOrder(node.left)\n",
        "\tpreOrder(node.right)\n",
        "\n",
        "# function to return the index of\n",
        "# close parenthesis\n",
        "\n",
        "\n",
        "def findIndex(Str, si, ei):\n",
        "\tif (si > ei):\n",
        "\t\treturn -1\n",
        "\n",
        "\t# Inbuilt stack\n",
        "\ts = []\n",
        "\tfor i in range(si, ei + 1):\n",
        "\n",
        "\t\t# if open parenthesis, push it\n",
        "\t\tif (Str[i] == '('):\n",
        "\t\t\ts.append(Str[i])\n",
        "\n",
        "\t\t# if close parenthesis\n",
        "\t\telif (Str[i] == ')'):\n",
        "\t\t\tif (s[-1] == '('):\n",
        "\t\t\t\ts.pop(-1)\n",
        "\n",
        "\t\t\t\t# if stack is empty, this is\n",
        "\t\t\t\t# the required index\n",
        "\t\t\t\tif len(s) == 0:\n",
        "\t\t\t\t\treturn i\n",
        "\t# if not found return -1\n",
        "\treturn -1\n",
        "\n",
        "# function to conStruct tree from String\n",
        "\n",
        "\n",
        "def treeFromString(Str, si, ei):\n",
        "\n",
        "\t# Base case\n",
        "\tif (si > ei):\n",
        "\t\treturn None\n",
        "\n",
        "\t# new root\n",
        "\troot = newNode(ord(Str[si]) - ord('0'))\n",
        "\tindex = -1\n",
        "\n",
        "\t# if next char is '(' find the\n",
        "\t# index of its complement ')'\n",
        "\tif (si + 1 <= ei and Str[si + 1] == '('):\n",
        "\t\tindex = findIndex(Str, si + 1, ei)\n",
        "\n",
        "\t# if index found\n",
        "\tif (index != -1):\n",
        "\n",
        "\t\t# call for left subtree\n",
        "\t\troot.left = treeFromString(Str, si + 2,\n",
        "\t\t\t\t\t\t\t\tindex - 1)\n",
        "\n",
        "\t\t# call for right subtree\n",
        "\t\troot.right = treeFromString(Str, index + 2,\n",
        "\t\t\t\t\t\t\t\t\tei - 1)\n",
        "\treturn root\n",
        "\n",
        "\n",
        "# Driver Code\n",
        "if __name__ == '__main__':\n",
        "\tStr = \"4(2(3)(1))(6(5))\"\n",
        "\troot = treeFromString(Str, 0, len(Str) - 1)\n",
        "\tpreOrder(root)\n",
        "\n"
      ],
      "metadata": {
        "colab": {
          "base_uri": "https://localhost:8080/"
        },
        "id": "JfP6YeE1MSuf",
        "outputId": "9be44933-03ac-4eff-e120-2f127d0d23c8"
      },
      "execution_count": 2,
      "outputs": [
        {
          "output_type": "stream",
          "name": "stdout",
          "text": [
            "4 2 3 1 6 5 "
          ]
        }
      ]
    },
    {
      "cell_type": "code",
      "source": [
        "Q5.)Given an array of characters chars, compress it using the following algorithm:\n",
        "\n",
        "Begin with an empty string s. For each group of consecutive repeating characters in chars:\n",
        "\n",
        "- If the group's length is 1, append the character to s.\n",
        "- Otherwise, append the character followed by the group's length.\n",
        "\n",
        "The compressed string s should not be returned separately, but instead, be stored in the input character array chars. Note that group lengths \n",
        "that are 10 or longer will be split into multiple characters in chars.\n",
        "\n",
        "After you are done modifying the input array, return the new length of the array.\n",
        "\n",
        "You must write an algorithm that uses only constant extra space.\n",
        "\n",
        "Example 1:\n",
        "\n",
        "Input: chars = [\"a\",\"a\",\"b\",\"b\",\"c\",\"c\",\"c\"]\n",
        "\n",
        "Output: Return 6, and the first 6 characters of the input array should be: [\"a\",\"2\",\"b\",\"2\",\"c\",\"3\"]\n",
        "\n",
        "Explanation:\n",
        "\n",
        "The groups are \"aa\", \"bb\", and \"ccc\". This compresses to \"a2b2c3\".\n"
      ],
      "metadata": {
        "id": "9nfq5xp7Nrxn"
      },
      "execution_count": null,
      "outputs": []
    },
    {
      "cell_type": "code",
      "source": [
        "def compress(self, chars: List[str]) -> int:\n",
        "        i = 0\n",
        "        while i < len(chars):\n",
        "            count = 0\n",
        "            for char in chars[i:]:\n",
        "                if char != chars[i]:\n",
        "                    break\n",
        "                count += 1\n",
        "            if count != 1:\n",
        "              list_appending = list(str(count))\n",
        "              chars[i+1:i+count] = list_appending\n",
        "              i += 1 + len(list_appending)  \n",
        "            else:\n",
        "              i += 1\n",
        "            \n",
        "        return len(chars)"
      ],
      "metadata": {
        "colab": {
          "base_uri": "https://localhost:8080/",
          "height": 235
        },
        "id": "zR3jKWD3Sgkn",
        "outputId": "03152d28-4971-4f61-bcfe-e6bfeee34a1b"
      },
      "execution_count": 8,
      "outputs": [
        {
          "output_type": "error",
          "ename": "NameError",
          "evalue": "ignored",
          "traceback": [
            "\u001b[0;31m---------------------------------------------------------------------------\u001b[0m",
            "\u001b[0;31mNameError\u001b[0m                                 Traceback (most recent call last)",
            "\u001b[0;32m<ipython-input-8-084871168a79>\u001b[0m in \u001b[0;36m<cell line: 1>\u001b[0;34m()\u001b[0m\n\u001b[0;32m----> 1\u001b[0;31m \u001b[0;32mdef\u001b[0m \u001b[0mcompress\u001b[0m\u001b[0;34m(\u001b[0m\u001b[0mself\u001b[0m\u001b[0;34m,\u001b[0m \u001b[0mchars\u001b[0m\u001b[0;34m:\u001b[0m \u001b[0mList\u001b[0m\u001b[0;34m[\u001b[0m\u001b[0mstr\u001b[0m\u001b[0;34m]\u001b[0m\u001b[0;34m)\u001b[0m \u001b[0;34m->\u001b[0m \u001b[0mint\u001b[0m\u001b[0;34m:\u001b[0m\u001b[0;34m\u001b[0m\u001b[0;34m\u001b[0m\u001b[0m\n\u001b[0m\u001b[1;32m      2\u001b[0m         \u001b[0mi\u001b[0m \u001b[0;34m=\u001b[0m \u001b[0;36m0\u001b[0m\u001b[0;34m\u001b[0m\u001b[0;34m\u001b[0m\u001b[0m\n\u001b[1;32m      3\u001b[0m         \u001b[0;32mwhile\u001b[0m \u001b[0mi\u001b[0m \u001b[0;34m<\u001b[0m \u001b[0mlen\u001b[0m\u001b[0;34m(\u001b[0m\u001b[0mchars\u001b[0m\u001b[0;34m)\u001b[0m\u001b[0;34m:\u001b[0m\u001b[0;34m\u001b[0m\u001b[0;34m\u001b[0m\u001b[0m\n\u001b[1;32m      4\u001b[0m             \u001b[0mcount\u001b[0m \u001b[0;34m=\u001b[0m \u001b[0;36m0\u001b[0m\u001b[0;34m\u001b[0m\u001b[0;34m\u001b[0m\u001b[0m\n\u001b[1;32m      5\u001b[0m             \u001b[0;32mfor\u001b[0m \u001b[0mchar\u001b[0m \u001b[0;32min\u001b[0m \u001b[0mchars\u001b[0m\u001b[0;34m[\u001b[0m\u001b[0mi\u001b[0m\u001b[0;34m:\u001b[0m\u001b[0;34m]\u001b[0m\u001b[0;34m:\u001b[0m\u001b[0;34m\u001b[0m\u001b[0;34m\u001b[0m\u001b[0m\n",
            "\u001b[0;31mNameError\u001b[0m: name 'List' is not defined"
          ]
        }
      ]
    },
    {
      "cell_type": "code",
      "source": [
        "Q6.)Given two strings s and p, return an array of all the start indices of p's anagrams in s. You may return the answer in any order.\n",
        "\n",
        "An Anagram is a word or phrase formed by rearranging the letters of a different word or phrase, typically using all the original letters exactly once.\n",
        "\n",
        "Example 1:\n",
        "\n",
        "Input: s = \"cbaebabacd\", p = \"abc\"\n",
        "\n",
        "Output: [0,6]\n",
        "\n",
        "Explanation:\n",
        "\n",
        "The substring with start index = 0 is \"cba\", which is an anagram of \"abc\".\n",
        "\n",
        "The substring with start index = 6 is \"bac\", which is an anagram of \"abc\".\n",
        "\n"
      ],
      "metadata": {
        "id": "YJ9I6FHcTG1m"
      },
      "execution_count": null,
      "outputs": []
    },
    {
      "cell_type": "code",
      "source": [
        "class Solution:\n",
        "    def findAnagrams(self, s: str, p: str) -> List[int]:\n",
        "        window = len(p)\n",
        "        mapper = {}\n",
        "        def __mapper():\n",
        "            nonlocal mapper\n",
        "            for i in p:\n",
        "                if i in mapper.keys(): mapper[i] += 1\n",
        "                else: mapper[i] = 1\n",
        "        __mapper()\n",
        "        ans = []\n",
        "        st = 0\n",
        "        ed = 0\n",
        "        while ed < len(s):\n",
        "            if s[ed] in mapper.keys():\n",
        "                mapper[s[ed]] -= 1\n",
        "                if mapper[s[ed]] == 0:\n",
        "                    del mapper[s[ed]]\n",
        "                if not bool(mapper):\n",
        "                    ans.append(st)\n",
        "                    mapper[s[st]] = 1\n",
        "                    st += 1\n",
        "                ed += 1\n",
        "            else:\n",
        "                if st == ed:\n",
        "                    st = ed = ed + 1\n",
        "                else:\n",
        "                    if s[st] in mapper.keys():\n",
        "                        mapper[s[st]] += 1\n",
        "                    else:\n",
        "                        mapper[s[st]] = 1\n",
        "                    st += 1\n",
        "        return ans           "
      ],
      "metadata": {
        "colab": {
          "base_uri": "https://localhost:8080/",
          "height": 356
        },
        "id": "KFxqrbh5VHVI",
        "outputId": "16a73058-95bd-4921-fbdc-b04d58fdad49"
      },
      "execution_count": 9,
      "outputs": [
        {
          "output_type": "error",
          "ename": "NameError",
          "evalue": "ignored",
          "traceback": [
            "\u001b[0;31m---------------------------------------------------------------------------\u001b[0m",
            "\u001b[0;31mNameError\u001b[0m                                 Traceback (most recent call last)",
            "\u001b[0;32m<ipython-input-9-778588041a83>\u001b[0m in \u001b[0;36m<cell line: 1>\u001b[0;34m()\u001b[0m\n\u001b[0;32m----> 1\u001b[0;31m \u001b[0;32mclass\u001b[0m \u001b[0mSolution\u001b[0m\u001b[0;34m:\u001b[0m\u001b[0;34m\u001b[0m\u001b[0;34m\u001b[0m\u001b[0m\n\u001b[0m\u001b[1;32m      2\u001b[0m     \u001b[0;32mdef\u001b[0m \u001b[0mfindAnagrams\u001b[0m\u001b[0;34m(\u001b[0m\u001b[0mself\u001b[0m\u001b[0;34m,\u001b[0m \u001b[0ms\u001b[0m\u001b[0;34m:\u001b[0m \u001b[0mstr\u001b[0m\u001b[0;34m,\u001b[0m \u001b[0mp\u001b[0m\u001b[0;34m:\u001b[0m \u001b[0mstr\u001b[0m\u001b[0;34m)\u001b[0m \u001b[0;34m->\u001b[0m \u001b[0mList\u001b[0m\u001b[0;34m[\u001b[0m\u001b[0mint\u001b[0m\u001b[0;34m]\u001b[0m\u001b[0;34m:\u001b[0m\u001b[0;34m\u001b[0m\u001b[0;34m\u001b[0m\u001b[0m\n\u001b[1;32m      3\u001b[0m         \u001b[0mwindow\u001b[0m \u001b[0;34m=\u001b[0m \u001b[0mlen\u001b[0m\u001b[0;34m(\u001b[0m\u001b[0mp\u001b[0m\u001b[0;34m)\u001b[0m\u001b[0;34m\u001b[0m\u001b[0;34m\u001b[0m\u001b[0m\n\u001b[1;32m      4\u001b[0m         \u001b[0mmapper\u001b[0m \u001b[0;34m=\u001b[0m \u001b[0;34m{\u001b[0m\u001b[0;34m}\u001b[0m\u001b[0;34m\u001b[0m\u001b[0;34m\u001b[0m\u001b[0m\n\u001b[1;32m      5\u001b[0m         \u001b[0;32mdef\u001b[0m \u001b[0m__mapper\u001b[0m\u001b[0;34m(\u001b[0m\u001b[0;34m)\u001b[0m\u001b[0;34m:\u001b[0m\u001b[0;34m\u001b[0m\u001b[0;34m\u001b[0m\u001b[0m\n",
            "\u001b[0;32m<ipython-input-9-778588041a83>\u001b[0m in \u001b[0;36mSolution\u001b[0;34m()\u001b[0m\n\u001b[1;32m      1\u001b[0m \u001b[0;32mclass\u001b[0m \u001b[0mSolution\u001b[0m\u001b[0;34m:\u001b[0m\u001b[0;34m\u001b[0m\u001b[0;34m\u001b[0m\u001b[0m\n\u001b[0;32m----> 2\u001b[0;31m     \u001b[0;32mdef\u001b[0m \u001b[0mfindAnagrams\u001b[0m\u001b[0;34m(\u001b[0m\u001b[0mself\u001b[0m\u001b[0;34m,\u001b[0m \u001b[0ms\u001b[0m\u001b[0;34m:\u001b[0m \u001b[0mstr\u001b[0m\u001b[0;34m,\u001b[0m \u001b[0mp\u001b[0m\u001b[0;34m:\u001b[0m \u001b[0mstr\u001b[0m\u001b[0;34m)\u001b[0m \u001b[0;34m->\u001b[0m \u001b[0mList\u001b[0m\u001b[0;34m[\u001b[0m\u001b[0mint\u001b[0m\u001b[0;34m]\u001b[0m\u001b[0;34m:\u001b[0m\u001b[0;34m\u001b[0m\u001b[0;34m\u001b[0m\u001b[0m\n\u001b[0m\u001b[1;32m      3\u001b[0m         \u001b[0mwindow\u001b[0m \u001b[0;34m=\u001b[0m \u001b[0mlen\u001b[0m\u001b[0;34m(\u001b[0m\u001b[0mp\u001b[0m\u001b[0;34m)\u001b[0m\u001b[0;34m\u001b[0m\u001b[0;34m\u001b[0m\u001b[0m\n\u001b[1;32m      4\u001b[0m         \u001b[0mmapper\u001b[0m \u001b[0;34m=\u001b[0m \u001b[0;34m{\u001b[0m\u001b[0;34m}\u001b[0m\u001b[0;34m\u001b[0m\u001b[0;34m\u001b[0m\u001b[0m\n\u001b[1;32m      5\u001b[0m         \u001b[0;32mdef\u001b[0m \u001b[0m__mapper\u001b[0m\u001b[0;34m(\u001b[0m\u001b[0;34m)\u001b[0m\u001b[0;34m:\u001b[0m\u001b[0;34m\u001b[0m\u001b[0;34m\u001b[0m\u001b[0m\n",
            "\u001b[0;31mNameError\u001b[0m: name 'List' is not defined"
          ]
        }
      ]
    },
    {
      "cell_type": "code",
      "source": [
        "Q7.) Given an encoded string, return its decoded string.\n",
        "\n",
        "The encoding rule is: k[encoded_string], where the encoded_string inside the square brackets is being repeated exactly k times. \n",
        "Note that k is guaranteed to be a positive integer.\n",
        "\n",
        "You may assume that the input string is always valid; there are no extra white spaces, square brackets are well-formed, etc. Furthermore, you may assume\n",
        " that the original data does not contain any digits and that digits are only for those repeat numbers, k. For example, there will not be input like 3a or 2[4].\n",
        "\n",
        "The test cases are generated so that the length of the output will never exceed 105.\n",
        "\n",
        "Example 1:\n",
        "\n",
        "Input: s = \"3[a]2[bc]\"\n",
        "\n",
        "Output: \"aaabcbc\""
      ],
      "metadata": {
        "id": "lpJTUR2sWTGb"
      },
      "execution_count": null,
      "outputs": []
    },
    {
      "cell_type": "code",
      "source": [
        "class Solution(object):\n",
        "    def decodeString(self, s):\n",
        "        stack = []; curNum = 0; curString = ''\n",
        "        for c in s:\n",
        "            if c == '[':\n",
        "                stack.append(curString)\n",
        "                stack.append(curNum)\n",
        "                curString = ''\n",
        "                curNum = 0\n",
        "            elif c == ']':\n",
        "                num = stack.pop()\n",
        "                prevString = stack.pop()\n",
        "                curString = prevString + num*curString\n",
        "            elif c.isdigit():\n",
        "                curNum = curNum*10 + int(c)\n",
        "            else:\n",
        "                curString += c\n",
        "        return curString"
      ],
      "metadata": {
        "id": "yM4ruZGSWRZ5"
      },
      "execution_count": 10,
      "outputs": []
    },
    {
      "cell_type": "code",
      "source": [
        "Q8.) Given two strings s and goal, return true if you can swap two letters in s so the result is equal to goal, otherwise, return false.\n",
        "\n",
        "Swapping letters is defined as taking two indices i and j (0-indexed) such that i != j and swapping the characters at s[i] and s[j].\n",
        "\n",
        "- For example, swapping at indices 0 and 2 in \"abcd\" results in \"cbad\".\n",
        "\n",
        "Example 1:\n",
        "\n",
        "Input: s = \"ab\", goal = \"ba\"\n",
        "\n",
        "Output: true\n",
        "\n",
        "Explanation: You can swap s[0] = 'a' and s[1] = 'b' to get \"ba\", which is equal to goal."
      ],
      "metadata": {
        "id": "q9S-aR_aWx-f"
      },
      "execution_count": null,
      "outputs": []
    },
    {
      "cell_type": "code",
      "source": [
        "class Solution(object):\n",
        "    def buddyStrings(self, A, B):\n",
        "        if len(A) != len(B): return False\n",
        "        diff1, diff2 = -1, -1\n",
        "        A_letters = set()\n",
        "        for i in range(len(A)):\n",
        "            if A[i] != B[i]:\n",
        "                if diff1 == -1:\n",
        "                    diff1 = i\n",
        "                elif diff2 == -1:\n",
        "                    diff2 = i\n",
        "                else:\n",
        "                    return False # More than 2 different places between A & B\n",
        "            A_letters.add(A[i])\n",
        "        if diff1 != -1 and diff2 != -1: # There are 2 different places\n",
        "            return A[diff1] == B[diff2] and A[diff2] == B[diff1]\n",
        "        if diff1 != -1: # Only have 1 different place\n",
        "            return False\n",
        "        return len(A_letters) < len(A) # No different between A & B, check if A contains at least 1 duplicate letters."
      ],
      "metadata": {
        "id": "xSaChDblW8vT"
      },
      "execution_count": 11,
      "outputs": []
    }
  ]
}