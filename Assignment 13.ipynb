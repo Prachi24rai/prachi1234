{
  "nbformat": 4,
  "nbformat_minor": 0,
  "metadata": {
    "colab": {
      "provenance": []
    },
    "kernelspec": {
      "name": "python3",
      "display_name": "Python 3"
    },
    "language_info": {
      "name": "python"
    }
  },
  "cells": [
    {
      "cell_type": "code",
      "execution_count": null,
      "metadata": {
        "id": "_E8CjoPuuyB8"
      },
      "outputs": [],
      "source": [
        "1. What advantages do Excel spreadsheets have over CSV spreadsheets?"
      ]
    },
    {
      "cell_type": "code",
      "source": [
        "ANS:-  The Advantages of Excel over CSV are:\n",
        "\n",
        "1. Excel (XLS and XLSX) file formats are better for storing and analysing complex data.\n",
        "2. An Excel not only stores data but can also do operations on the data using macros, formulas etc\n",
        "3. CSV files are plain-text files, Does not contain formatting, formulas, macros, etc. It is also known as flat files"
      ],
      "metadata": {
        "id": "kKrsSvmUv7C-"
      },
      "execution_count": null,
      "outputs": []
    },
    {
      "cell_type": "code",
      "source": [
        "2.What do you pass to csv.reader() and csv.writer() to create reader and writer objects?"
      ],
      "metadata": {
        "id": "EaRNempWxjo1"
      },
      "execution_count": null,
      "outputs": []
    },
    {
      "cell_type": "code",
      "source": [
        "import csv\n",
        "with open('text.csv','r') as file:\n",
        "    csv_file = csv.reader(file,delimiter=',')\n",
        "    for ele in csv_file:\n",
        "        print(ele)"
      ],
      "metadata": {
        "id": "F7hLSS0-yCbO"
      },
      "execution_count": null,
      "outputs": []
    },
    {
      "cell_type": "code",
      "source": [
        "3. What modes do File objects for reader and writer objects need to be opened in?"
      ],
      "metadata": {
        "id": "cxIp4qe_18cQ"
      },
      "execution_count": null,
      "outputs": []
    },
    {
      "cell_type": "code",
      "source": [
        "ANS:-  For csv.reader(iterable_file_object), the file objects needed to be opened in read mode mode='r' Whereas for\n",
        "       csv.writer(iterable_file_object) the file objects needed to be opened in write mode mode='w'"
      ],
      "metadata": {
        "id": "kd7i0VAl2og_"
      },
      "execution_count": null,
      "outputs": []
    },
    {
      "cell_type": "code",
      "source": [
        "4. What method takes a list argument and writes it to a CSV file?"
      ],
      "metadata": {
        "id": "zLWpBgJu-BzK"
      },
      "execution_count": null,
      "outputs": []
    },
    {
      "cell_type": "code",
      "source": [
        "ANS:- csv.writer class provides two methods for writing to CSV. They are writerow() and writerows(). writerow() method writes a \n",
        "      single row at a time. Whereas writerows() method is used to write multiple rows at a time."
      ],
      "metadata": {
        "id": "gHfshZjB-CyV"
      },
      "execution_count": null,
      "outputs": []
    },
    {
      "cell_type": "code",
      "source": [
        "# Example Program\n",
        "import csv      \n",
        "fields = ['Name', 'Branch', 'Year', 'CGPA'] #column names \n",
        "rows = [ \n",
        "            ['Nikhil', 'COE', '2', '9.0'],  # data rows of csv file \n",
        "            ['Sanchit', 'COE', '2', '9.1'], \n",
        "            ['Ravi', 'IT', '2', '9.3']\n",
        "       ] \n",
        "with open(\"university_records.csv\", 'w') as csvfile: \n",
        "    csvwriter = csv.writer(csvfile) # creating a csv writer object \n",
        "    csvwriter.writerow(fields) # writing the fields \n",
        "    csvwriter.writerows(rows) # writing the data rows "
      ],
      "metadata": {
        "id": "BDZHc6qqFi68"
      },
      "execution_count": 1,
      "outputs": []
    },
    {
      "cell_type": "code",
      "source": [
        "5. What do the keyword arguments delimiter and line terminator do?"
      ],
      "metadata": {
        "id": "hF3GnFWYGBBG"
      },
      "execution_count": null,
      "outputs": []
    },
    {
      "cell_type": "code",
      "source": [
        "ANS:-  Lets take the example of a csv file:\n",
        "First Name, Last Name, Age\n",
        "Mano, Vishnu, 24\n",
        "Vishnu, Vardhan, 21\n",
        "Here ',' is Delimiter. We can use any Character as per our needs if required. Similarly Line Terminator comes at end of line by \n",
        "default it is newline and can be changed accourding to Requirement."
      ],
      "metadata": {
        "id": "QAyOZuhMGbhO"
      },
      "execution_count": null,
      "outputs": []
    },
    {
      "cell_type": "code",
      "source": [
        "6. What function takes a string of JSON data and returns a Python data structure?"
      ],
      "metadata": {
        "id": "XhX3E0nuG5hf"
      },
      "execution_count": null,
      "outputs": []
    },
    {
      "cell_type": "code",
      "source": [
        "ANS:- loads() method takes a string of JSON data and returns a Python data structure"
      ],
      "metadata": {
        "id": "u340BG_xMfrC"
      },
      "execution_count": null,
      "outputs": []
    },
    {
      "cell_type": "code",
      "source": [
        "# Example of json.loads() method\n",
        "import json\n",
        "my_details_json ='''{\n",
        "    \"Name\": \"Prachi\",\n",
        "    \"Qualification\": \"Bachelor of Technology\",\n",
        "    \"Stream\": \"Computer Science and Engineering\"\n",
        "}'''\n",
        "print(my_details_json)\n",
        "print(f'Type of my_details_json is {type(my_details_json)}')\n",
        "my_details = json.loads(my_details_json)\n",
        "print(my_details)\n",
        "print(f'Type of my_details is {type(my_details)}')"
      ],
      "metadata": {
        "colab": {
          "base_uri": "https://localhost:8080/"
        },
        "id": "DS59acgpNpcq",
        "outputId": "fb3ffe50-d554-4581-e83b-902ef33d49d6"
      },
      "execution_count": 3,
      "outputs": [
        {
          "output_type": "stream",
          "name": "stdout",
          "text": [
            "{\n",
            "    \"Name\": \"Prachi\",\n",
            "    \"Qualification\": \"Bachelor of Technology\",\n",
            "    \"Stream\": \"Computer Science and Engineering\"\n",
            "}\n",
            "Type of my_details_json is <class 'str'>\n",
            "{'Name': 'Prachi', 'Qualification': 'Bachelor of Technology', 'Stream': 'Computer Science and Engineering'}\n",
            "Type of my_details is <class 'dict'>\n"
          ]
        }
      ]
    },
    {
      "cell_type": "code",
      "source": [
        "7. What function takes a Python data structure and returns a string of JSON data?"
      ],
      "metadata": {
        "id": "bebFiqDROzfh"
      },
      "execution_count": null,
      "outputs": []
    },
    {
      "cell_type": "code",
      "source": [
        "ANS:- dumps() method takes a python data structure and returns a string of JSON data"
      ],
      "metadata": {
        "id": "BbnVvbVaO8TN"
      },
      "execution_count": null,
      "outputs": []
    },
    {
      "cell_type": "code",
      "source": [
        "# Example of json.dumps() method\n",
        "import json\n",
        "my_details = {\n",
        "    'Name':'Prachi',\n",
        "    'Stream':'Computer Science and Engineering',\n",
        "    'Qualification':'Bachelor of Technology'\n",
        "}\n",
        "print(my_details)\n",
        "print(f'Type of my_details is {type(my_details)}')\n",
        "my_details_json = json.dumps(my_details, indent=4, sort_keys=True)\n",
        "print(my_details_json)\n",
        "print(f'Type of my_details_json is {type(my_details_json)}')"
      ],
      "metadata": {
        "colab": {
          "base_uri": "https://localhost:8080/"
        },
        "id": "PBz8FjUSPD3Q",
        "outputId": "a0896be4-ac0b-49a0-f25a-5743ce36e897"
      },
      "execution_count": 4,
      "outputs": [
        {
          "output_type": "stream",
          "name": "stdout",
          "text": [
            "{'Name': 'Prachi', 'Stream': 'Computer Science and Engineering', 'Qualification': 'Bachelor of Technology'}\n",
            "Type of my_details is <class 'dict'>\n",
            "{\n",
            "    \"Name\": \"Prachi\",\n",
            "    \"Qualification\": \"Bachelor of Technology\",\n",
            "    \"Stream\": \"Computer Science and Engineering\"\n",
            "}\n",
            "Type of my_details_json is <class 'str'>\n"
          ]
        }
      ]
    }
  ]
}