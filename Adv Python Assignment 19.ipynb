{
  "nbformat": 4,
  "nbformat_minor": 0,
  "metadata": {
    "colab": {
      "provenance": []
    },
    "kernelspec": {
      "name": "python3",
      "display_name": "Python 3"
    },
    "language_info": {
      "name": "python"
    }
  },
  "cells": [
    {
      "cell_type": "code",
      "execution_count": null,
      "metadata": {
        "id": "6bTXW21W66Pt"
      },
      "outputs": [],
      "source": [
        "Q1. Define the relationship between a class and its instances. Is it a one-to-one or a one-to-many partnership, for example?"
      ]
    },
    {
      "cell_type": "code",
      "source": [
        "Ans: Relationship between a class and its instances is a one to many partnership."
      ],
      "metadata": {
        "id": "TEfZavGk7Pci"
      },
      "execution_count": null,
      "outputs": []
    },
    {
      "cell_type": "code",
      "source": [
        "Q2. What kind of data is held only in an instance?"
      ],
      "metadata": {
        "id": "CO48VOS77Pnh"
      },
      "execution_count": null,
      "outputs": []
    },
    {
      "cell_type": "code",
      "source": [
        "Ans: Instance objects contains the Instance variables which are specific to that specific Instance object."
      ],
      "metadata": {
        "id": "RmWrF_Zt7Pyw"
      },
      "execution_count": null,
      "outputs": []
    },
    {
      "cell_type": "code",
      "source": [
        "Q3. What kind of knowledge is stored in a class?"
      ],
      "metadata": {
        "id": "6vIxP5Z07fIb"
      },
      "execution_count": null,
      "outputs": []
    },
    {
      "cell_type": "code",
      "source": [
        "Ans: Class creates a user-defined data structure, which holds its own data members and member functions, which can be accessed and used by creating an\n",
        " instance of that class. A class is like a blueprint for an object."
      ],
      "metadata": {
        "id": "q9FJSWFx7P1W"
      },
      "execution_count": null,
      "outputs": []
    },
    {
      "cell_type": "code",
      "source": [
        "Q4. What exactly is a method, and how is it different from a regular function?"
      ],
      "metadata": {
        "id": "zjJGxouj7P4B"
      },
      "execution_count": null,
      "outputs": []
    },
    {
      "cell_type": "code",
      "source": [
        "Ans: The methods with a class can be used to access the insatnce variables of its instance. So,the object's state can be modified by its method.\n",
        "Function can't access the attributes of an instance of a class or can't modify the state of the object."
      ],
      "metadata": {
        "id": "1Fjj4zIS7P7g"
      },
      "execution_count": null,
      "outputs": []
    },
    {
      "cell_type": "code",
      "source": [
        "Q5. Is inheritance supported in Python, and if so, what is the syntax?"
      ],
      "metadata": {
        "id": "z7WLb_Sw7sLC"
      },
      "execution_count": null,
      "outputs": []
    },
    {
      "cell_type": "code",
      "source": [
        "Ans: Yes,Python supports inheritance. The Types of Inheritence Supported by Python are:\n",
        "\n",
        "Simple Inheritence\n",
        "Multiple Inheritence\n",
        "Multilevel lInheritence\n",
        "Hybrid Inheritence\n",
        "Hierracial Inheritence"
      ],
      "metadata": {
        "id": "a3yJAI4R7vUV"
      },
      "execution_count": null,
      "outputs": []
    },
    {
      "cell_type": "code",
      "source": [
        "class Person:\n",
        "    def __init__(self, fname, lname):\n",
        "        self.first_name = fname\n",
        "        self.last_name = lname\n",
        "class Student(Person):\n",
        "    pass"
      ],
      "metadata": {
        "id": "I8zWnM0G70Ej"
      },
      "execution_count": null,
      "outputs": []
    },
    {
      "cell_type": "code",
      "source": [
        "Q6. How much encapsulation (making instance or class variables private) does Python support?"
      ],
      "metadata": {
        "id": "DKexhAYr73mi"
      },
      "execution_count": null,
      "outputs": []
    },
    {
      "cell_type": "code",
      "source": [
        "Ans: Encapsulation describes the idea of wrapping data and the methods that work on data within one unit. This puts restrictions on accessing variables\n",
        " and methods directly and can prevent the accidental modification of data. To prevent accidental change, an objects variable can only be changed by an objects method."
      ],
      "metadata": {
        "id": "fQxuGGxi73rZ"
      },
      "execution_count": null,
      "outputs": []
    },
    {
      "cell_type": "code",
      "source": [
        "Q7. How do you distinguish between a class variable and an instance variable?"
      ],
      "metadata": {
        "id": "5ABzZfdD8ZU5"
      },
      "execution_count": null,
      "outputs": []
    },
    {
      "cell_type": "code",
      "source": [
        "Ans: The Class Attribute is available to all the instance objects of that class. whereas Instance Attributes are accessible only to the object or Instance of that class.\n",
        "\n",
        "A single copy of Class attributes is maintained by pvm at the class level. Whereas difference copies of instance attributes are maintained by pvm at objects/instance level."
      ],
      "metadata": {
        "id": "VU9aIMsu8ZYM"
      },
      "execution_count": null,
      "outputs": []
    },
    {
      "cell_type": "code",
      "source": [
        "Q8. When, if ever, can self be included in a class's method definitions?"
      ],
      "metadata": {
        "id": "9TeR_cng8Zfj"
      },
      "execution_count": null,
      "outputs": []
    },
    {
      "cell_type": "code",
      "source": [
        "Ans: Yes, self can included in class method definations to access the instance variables inside class methods."
      ],
      "metadata": {
        "id": "tX24xeaS8Zix"
      },
      "execution_count": null,
      "outputs": []
    },
    {
      "cell_type": "code",
      "source": [
        "Q9. What is the difference between the __add__ and the __radd__ methods ?"
      ],
      "metadata": {
        "id": "ZvjS_29-8Zmu"
      },
      "execution_count": null,
      "outputs": []
    },
    {
      "cell_type": "code",
      "source": [
        "Ans: Entering __radd__ Python will first try __add__(), and if that returns Not Implemented Python will check if the right-hand operand implements __radd__,\n",
        " and if it does, it will call __radd__() rather than raising a TypeError"
      ],
      "metadata": {
        "id": "EQVLC7Rx8ZzY"
      },
      "execution_count": null,
      "outputs": []
    },
    {
      "cell_type": "code",
      "source": [
        "Q10. When is it necessary to use a reflection method? When do you not need it, even though you support the operation in question?"
      ],
      "metadata": {
        "id": "K4w3jIXh8aAx"
      },
      "execution_count": null,
      "outputs": []
    },
    {
      "cell_type": "code",
      "source": [
        "Ans: Reflection method we often encounter the requirement that a method in the executing object, or a variable in the calling object, or a field\n",
        " of the object should be assigned, while the method name or field name can not be determined when encoding the code, and need to be input in the form\n",
        "  passing strings through parameters."
      ],
      "metadata": {
        "id": "ZCNbMjqI8_ZY"
      },
      "execution_count": null,
      "outputs": []
    },
    {
      "cell_type": "code",
      "source": [
        "Q11. What is the __iadd__ method called?"
      ],
      "metadata": {
        "id": "-cw1n9-V9TUI"
      },
      "execution_count": null,
      "outputs": []
    },
    {
      "cell_type": "code",
      "source": [
        "Ans: __iadd__ method is called when we use implementation like a+=b which is a.__iadd__(b)"
      ],
      "metadata": {
        "id": "e9VGMYOl_RPz"
      },
      "execution_count": null,
      "outputs": []
    },
    {
      "cell_type": "code",
      "source": [
        "Q12. Is the _ _init_ _ method inherited by subclasses? What do you do if you need to customize its behavior within a subclass ?"
      ],
      "metadata": {
        "id": "pywlWiE7_bsd"
      },
      "execution_count": null,
      "outputs": []
    },
    {
      "cell_type": "code",
      "source": [
        "Ans: Yes, __init__ method will be inherited by subclasses. if we want to customize its behaviour within a subclass we can use super() method."
      ],
      "metadata": {
        "id": "UhkdMCx9_bzE"
      },
      "execution_count": null,
      "outputs": []
    }
  ]
}