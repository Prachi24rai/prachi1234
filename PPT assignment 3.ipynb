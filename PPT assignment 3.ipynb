{
  "nbformat": 4,
  "nbformat_minor": 0,
  "metadata": {
    "colab": {
      "provenance": []
    },
    "kernelspec": {
      "name": "python3",
      "display_name": "Python 3"
    },
    "language_info": {
      "name": "python"
    }
  },
  "cells": [
    {
      "cell_type": "code",
      "source": [
        "Question 1\n",
        "Given an integer array nums of length n and an integer target, find three integers\n",
        "in nums such that the sum is closest to the target.\n",
        "Return the sum of the three integers.\n",
        "\n",
        "You may assume that each input would have exactly one solution.\n",
        "\n",
        "Example 1:\n",
        "Input: nums = [-1,2,1,-4], target = 1\n",
        "Output: 2\n",
        "\n",
        "Explanation: The sum that is closest to the target is 2. (-1 + 2 + 1 = 2)."
      ],
      "metadata": {
        "id": "US49EU_K2dJe"
      },
      "execution_count": null,
      "outputs": []
    },
    {
      "cell_type": "code",
      "source": [
        "class Solution(object):\n",
        "    def threeSumClosest(self, nums, target):\n",
        "        nums.sort()\n",
        "        n = len(nums)\n",
        "        closest_sum = nums[0] + nums[1] + nums[2] # initialize closest sum\n",
        "        for i in range(n - 2):\n",
        "            left, right = i + 1, n - 1\n",
        "            while left < right: # two-pointer approach\n",
        "                sum = nums[i] + nums[left] + nums[right]\n",
        "                if sum == target: # sum equals target, return immediately\n",
        "                    return sum\n",
        "                elif sum < target:\n",
        "                    left += 1\n",
        "                else:\n",
        "                    right -= 1\n",
        "                if abs(sum - target) < abs(closest_sum - target): # update closest sum\n",
        "                    closest_sum = sum\n",
        "        return closest_sum"
      ],
      "metadata": {
        "id": "MJtpvE7C2oG8"
      },
      "execution_count": 1,
      "outputs": []
    },
    {
      "cell_type": "code",
      "source": [
        "Question 2\n",
        "Given an array nums of n integers, return an array of all the unique quadruplets\n",
        "[nums[a], nums[b], nums[c], nums[d]] such that:\n",
        "           ● 0 <= a, b, c, d < n\n",
        "           ● a, b, c, and d are distinct.\n",
        "           ● nums[a] + nums[b] + nums[c] + nums[d] == target\n",
        "\n",
        "You may return the answer in any order.\n",
        "\n",
        "Example 1:\n",
        "Input: nums = [1,0,-1,0,-2,2], target = 0\n",
        "Output: [[-2,-1,1,2],[-2,0,0,2],[-1,0,0,1]]"
      ],
      "metadata": {
        "id": "aqcU9t6G2rI-"
      },
      "execution_count": null,
      "outputs": []
    },
    {
      "cell_type": "code",
      "source": [
        "class Solution(object):\n",
        "    def fourSum(self, nums, target):\n",
        "        quadruplets = []\n",
        "        n = len(nums)\n",
        "        # Sorting the array\n",
        "        nums.sort()\n",
        "        for i in range(n - 3):\n",
        "            # Skip duplicates\n",
        "            if i > 0 and nums[i] == nums[i - 1]:\n",
        "                continue\n",
        "            for j in range(i + 1, n - 2):\n",
        "                # Skip duplicates\n",
        "                if j > i + 1 and nums[j] == nums[j - 1]:\n",
        "                    continue\n",
        "                left = j + 1\n",
        "                right = n - 1\n",
        "                while left < right:\n",
        "                    sum = nums[i] + nums[j] + nums[left] + nums[right]\n",
        "                    if sum < target:\n",
        "                        left += 1\n",
        "                    elif sum > target:\n",
        "                        right -= 1\n",
        "                    else:\n",
        "                        quadruplets.append([nums[i], nums[j], nums[left], nums[right]])\n",
        "                        # Skip duplicates\n",
        "                        while left < right and nums[left] == nums[left + 1]:\n",
        "                            left += 1\n",
        "                        while left < right and nums[right] == nums[right - 1]:\n",
        "                            right -= 1\n",
        "                        left += 1\n",
        "                        right -= 1\n",
        "        return quadruplets"
      ],
      "metadata": {
        "id": "Z8y9Sa4Z26Bs"
      },
      "execution_count": null,
      "outputs": []
    },
    {
      "cell_type": "code",
      "source": [
        "💡 Question 3\n",
        "A permutation of an array of integers is an arrangement of its members into a\n",
        "sequence or linear order.\n",
        "\n",
        "For example, for arr = [1,2,3], the following are all the permutations of arr:\n",
        "[1,2,3], [1,3,2], [2, 1, 3], [2, 3, 1], [3,1,2], [3,2,1].\n",
        "\n",
        "The next permutation of an array of integers is the next lexicographically greater\n",
        "permutation of its integer. More formally, if all the permutations of the array are\n",
        "sorted in one container according to their lexicographical order, then the next\n",
        "permutation of that array is the permutation that follows it in the sorted container.\n",
        "\n",
        "If such an arrangement is not possible, the array must be rearranged as the\n",
        "lowest possible order (i.e., sorted in ascending order).\n",
        "\n",
        "● For example, the next permutation of arr = [1,2,3] is [1,3,2].\n",
        "● Similarly, the next permutation of arr = [2,3,1] is [3,1,2].\n",
        "● While the next permutation of arr = [3,2,1] is [1,2,3] because [3,2,1] does not\n",
        "have a lexicographical larger rearrangement.\n",
        "\n",
        "Given an array of integers nums, find the next permutation of nums.\n",
        "The replacement must be in place and use only constant extra memory.\n",
        "\n",
        "Example 1:\n",
        "Input: nums = [1,2,3]\n",
        "Output: [1,3,2]\n",
        "\n"
      ],
      "metadata": {
        "id": "hiodlcir7DaF"
      },
      "execution_count": null,
      "outputs": []
    },
    {
      "cell_type": "code",
      "source": [
        "class Solution(object):\n",
        "    def nextPermutation(self, nums):\n",
        "        n = len(nums)\n",
        "        k, l = n - 2, n - 1\n",
        "        while k >= 0 and nums[k] >= nums[k + 1]:\n",
        "            k -= 1\n",
        "        if k < 0:\n",
        "            nums.reverse()\n",
        "        else:\n",
        "            while l > k and nums[l] <= nums[k]:\n",
        "                l -= 1\n",
        "            nums[k], nums[l] = nums[l], nums[k]\n",
        "            nums[k + 1:n] = reversed(nums[k + 1:n])"
      ],
      "metadata": {
        "id": "KHt8ZuUg7VFP"
      },
      "execution_count": 2,
      "outputs": []
    },
    {
      "cell_type": "code",
      "source": [
        "Question 4\n",
        "Given a sorted array of distinct integers and a target value, return the index if the\n",
        "target is found. If not, return the index where it would be if it were inserted in\n",
        "order.\n",
        "\n",
        "You must write an algorithm with O(log n) runtime complexity.\n",
        "\n",
        "Example 1:\n",
        "Input: nums = [1,3,5,6], target = 5\n",
        "Output: 2"
      ],
      "metadata": {
        "id": "taZEiTsK8yVq"
      },
      "execution_count": null,
      "outputs": []
    },
    {
      "cell_type": "code",
      "source": [
        "class Solution(object):\n",
        "    def searchInsert(self, nums, target):\n",
        "        start, end = 0, len(nums) - 1\n",
        "        ans = len(nums) # Default answer when target is greater than all elements\n",
        "        \n",
        "        while start <= end:\n",
        "            mid = (start + end) / 2\n",
        "            \n",
        "            if nums[mid] == target:\n",
        "                return mid\n",
        "            elif nums[mid] < target:\n",
        "                start = mid + 1\n",
        "            else:\n",
        "                ans = mid # Update the answer to the current index\n",
        "                end = mid - 1\n",
        "                \n",
        "        return ans"
      ],
      "metadata": {
        "id": "TLCwZCMb8zXV"
      },
      "execution_count": 1,
      "outputs": []
    },
    {
      "cell_type": "code",
      "source": [
        "💡 Question 5\n",
        "You are given a large integer represented as an integer array digits, where each\n",
        "digits[i] is the ith digit of the integer. The digits are ordered from most significant\n",
        "to least significant in left-to-right order. The large integer does not contain any\n",
        "leading 0's.\n",
        "\n",
        "Increment the large integer by one and return the resulting array of digits.\n",
        "\n",
        "Example 1:\n",
        "Input: digits = [1,2,3]\n",
        "Output: [1,2,4]\n",
        "\n",
        "Explanation: The array represents the integer 123.\n",
        "Incrementing by one gives 123 + 1 = 124.\n",
        "Thus, the result should be [1,2,4]."
      ],
      "metadata": {
        "id": "DGD_W4mZuKyB"
      },
      "execution_count": null,
      "outputs": []
    },
    {
      "cell_type": "code",
      "source": [
        "class Solution(object):\n",
        "    def plusOne(self, digits):\n",
        "        \"\"\"\n",
        "        :type digits: List[int]\n",
        "        :rtype: List[int]\n",
        "        \"\"\"\n",
        "        digits=[str(i) for i in digits]\n",
        "        s=''.join(digits)\n",
        "        a=int(s)+1\n",
        "        l=list(str(a))\n",
        "        l=[int(i) for i in l]\n",
        "        return l"
      ],
      "metadata": {
        "id": "IfqN6wtcyNSt"
      },
      "execution_count": 2,
      "outputs": []
    },
    {
      "cell_type": "code",
      "source": [
        "Question 6\n",
        "Given a non-empty array of integers nums, every element appears twice except\n",
        "for one. Find that single one.\n",
        "\n",
        "You must implement a solution with a linear runtime complexity and use only\n",
        "constant extra space.\n",
        "\n",
        "Example 1:\n",
        "Input: nums = [2,2,1]\n",
        "Output: 1"
      ],
      "metadata": {
        "id": "TEWVDYa7yROj"
      },
      "execution_count": null,
      "outputs": []
    },
    {
      "cell_type": "code",
      "source": [],
      "metadata": {
        "id": "H2V2JnVy0K8d"
      },
      "execution_count": null,
      "outputs": []
    },
    {
      "cell_type": "code",
      "source": [
        "Question 7\n",
        "You are given an inclusive range [lower, upper] and a sorted unique integer array\n",
        "nums, where all elements are within the inclusive range.\n",
        "\n",
        "A number x is considered missing if x is in the range [lower, upper] and x is not in\n",
        "nums.\n",
        "\n",
        "Return the shortest sorted list of ranges that exactly covers all the missing\n",
        "numbers. That is, no element of nums is included in any of the ranges, and each\n",
        "missing number is covered by one of the ranges.\n",
        "\n",
        "Example 1:\n",
        "Input: nums = [0,1,3,50,75], lower = 0, upper = 99\n",
        "Output: [[2,2],[4,49],[51,74],[76,99]]\n",
        "\n",
        "Explanation: The ranges are:\n",
        "[2,2]\n",
        "[4,49]\n",
        "[51,74]\n",
        "[76,99]"
      ],
      "metadata": {
        "id": "Pa_fu6Wd1mzA"
      },
      "execution_count": null,
      "outputs": []
    },
    {
      "cell_type": "code",
      "source": [],
      "metadata": {
        "id": "QE0bnRca2LPg"
      },
      "execution_count": null,
      "outputs": []
    },
    {
      "cell_type": "code",
      "source": [
        "💡 Question 8\n",
        "Given an array of meeting time intervals where intervals[i] = [starti, endi],\n",
        "determine if a person could attend all meetings.\n",
        "\n",
        "Example 1:\n",
        "Input: intervals = [[0,30],[5,10],[15,20]]\n",
        "Output: false"
      ],
      "metadata": {
        "id": "rBge8Xfc2OZP"
      },
      "execution_count": null,
      "outputs": []
    },
    {
      "cell_type": "code",
      "source": [
        "def canAttendMeetings(intervals):\n",
        "        \n",
        "    intervals.sort(key=lambda a: a.start)\n",
        "    for i in range(len(intervals)-1):\n",
        "        if intervals[i].end > intervals[i+1].start:\n",
        "            return False\n",
        "    return True"
      ],
      "metadata": {
        "id": "PJ4KtXQT2Yi_"
      },
      "execution_count": 1,
      "outputs": []
    }
  ]
}