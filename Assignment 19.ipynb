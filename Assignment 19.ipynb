{
  "nbformat": 4,
  "nbformat_minor": 0,
  "metadata": {
    "colab": {
      "provenance": []
    },
    "kernelspec": {
      "name": "python3",
      "display_name": "Python 3"
    },
    "language_info": {
      "name": "python"
    }
  },
  "cells": [
    {
      "cell_type": "code",
      "execution_count": null,
      "metadata": {
        "id": "-Rsbj5QY0uYm"
      },
      "outputs": [],
      "source": [
        "1. Make a class called Thing with no contents and print it. Then, create an object called example from this class and also print it.\n",
        " Are the printed values the same or different?"
      ]
    },
    {
      "cell_type": "code",
      "source": [
        "class Thing:\n",
        "    pass\n",
        "\n",
        "print(Thing)\n",
        "\n",
        "example = Thing()\n",
        "print(example)"
      ],
      "metadata": {
        "colab": {
          "base_uri": "https://localhost:8080/"
        },
        "id": "YHen0aAr1OOB",
        "outputId": "efa323e1-da12-49d9-ace4-d018763fc2d8"
      },
      "execution_count": 1,
      "outputs": [
        {
          "output_type": "stream",
          "name": "stdout",
          "text": [
            "<class '__main__.Thing'>\n",
            "<__main__.Thing object at 0x7fb2365b5c30>\n"
          ]
        }
      ]
    },
    {
      "cell_type": "code",
      "source": [
        "2. Create a new class called Thing2 and add the value 'abc' to the letters class attribute. Letters should be printed."
      ],
      "metadata": {
        "id": "NgjDnNpK1RJF"
      },
      "execution_count": null,
      "outputs": []
    },
    {
      "cell_type": "code",
      "source": [
        "class Thing2:\n",
        "    letters = 'abc'\n",
        "\n",
        "print(Thing2.letters)"
      ],
      "metadata": {
        "colab": {
          "base_uri": "https://localhost:8080/"
        },
        "id": "yzdMHOIh8s0L",
        "outputId": "f4b46b9d-1d8a-433b-f31c-d4f52b2fa501"
      },
      "execution_count": 2,
      "outputs": [
        {
          "output_type": "stream",
          "name": "stdout",
          "text": [
            "abc\n"
          ]
        }
      ]
    },
    {
      "cell_type": "code",
      "source": [
        "3. Make yet another class called, of course, Thing3. This time, assign the value 'xyz' to an instance (object) attribute called letters. Print letters.\n",
        " Do you need to make an object from the class to do this?"
      ],
      "metadata": {
        "id": "WmxSgMoY8wvo"
      },
      "execution_count": null,
      "outputs": []
    },
    {
      "cell_type": "code",
      "source": [
        "class Thing3:\n",
        "    def __init__(self):\n",
        "        self.letters = 'xyz'\n",
        "\n",
        "try:\n",
        "    print(Thing3.letters) # Will raise a syntax Error\n",
        "except:\n",
        "    my_thing = Thing3()\n",
        "    print(my_thing.letters)"
      ],
      "metadata": {
        "colab": {
          "base_uri": "https://localhost:8080/"
        },
        "id": "YFTi4tGf89j-",
        "outputId": "46ef3837-4bb4-44fa-8db5-e01d1f9191ce"
      },
      "execution_count": 3,
      "outputs": [
        {
          "output_type": "stream",
          "name": "stdout",
          "text": [
            "xyz\n"
          ]
        }
      ]
    },
    {
      "cell_type": "code",
      "source": [
        "4. Create an Element class with the instance attributes name, symbol, and number. Create a class object with the values 'Hydrogen,' 'H,' and 1."
      ],
      "metadata": {
        "id": "wXd4Okvl8_S7"
      },
      "execution_count": null,
      "outputs": []
    },
    {
      "cell_type": "code",
      "source": [
        "class Element:\n",
        "    def __init__(self, name, symbol, number):\n",
        "        self.name = name\n",
        "        self.symbol = symbol\n",
        "        self.number = number\n",
        "\n",
        "my_elements = Element('Hydrogen','H',1)"
      ],
      "metadata": {
        "id": "YZzp9bd69F9z"
      },
      "execution_count": 11,
      "outputs": []
    },
    {
      "cell_type": "code",
      "source": [
        "5. Make a dictionary with these keys and values: 'name': 'Hydrogen', 'symbol': 'H', 'number': 1. Then, create an object called hydrogen from class Element using this dictionary."
      ],
      "metadata": {
        "id": "2noi7EW39JUl"
      },
      "execution_count": null,
      "outputs": []
    },
    {
      "cell_type": "code",
      "source": [
        "custom_dict = {'name':'Hydrogen','symbol':'H','number':1}\n",
        "print(custom_dict)\n",
        "\n",
        "# Method 1\n",
        "hydrogen = Element(*custom_dict.values())\n",
        "print('Using Method #1 ->',hydrogen.name,hydrogen.symbol,hydrogen.number, sep='\\t')\n",
        "\n",
        "# Method 2\n",
        "hydrogen = Element(**custom_dict)\n",
        "print('Using Method #2 ->',hydrogen.name,hydrogen.symbol,hydrogen.number, sep='\\t')"
      ],
      "metadata": {
        "colab": {
          "base_uri": "https://localhost:8080/"
        },
        "id": "stYHaOxc9pxa",
        "outputId": "9584cc67-c266-4c59-b882-ac89925393d1"
      },
      "execution_count": 12,
      "outputs": [
        {
          "output_type": "stream",
          "name": "stdout",
          "text": [
            "{'name': 'Hydrogen', 'symbol': 'H', 'number': 1}\n",
            "Using Method #1 ->\tHydrogen\tH\t1\n",
            "Using Method #2 ->\tHydrogen\tH\t1\n"
          ]
        }
      ]
    },
    {
      "cell_type": "code",
      "source": [
        "6. For the Element class, define a method called dump() that prints the values of the object’s attributes (name, symbol, and number).\n",
        "Create the hydrogen object from this new definition and use dump() to print its attributes."
      ],
      "metadata": {
        "id": "ufbZwzFg-GEK"
      },
      "execution_count": null,
      "outputs": []
    },
    {
      "cell_type": "code",
      "source": [
        "class Element:\n",
        "    def __init__(self, name, symbol, number):\n",
        "        self.name = name\n",
        "        self.symbol = symbol\n",
        "        self.number = number\n",
        "    def dump(self):\n",
        "        print(self.name, self.symbol, self.number)\n",
        "\n",
        "hydrogen = Element('Hydrogen','H',1)\n",
        "hydrogen.dump()"
      ],
      "metadata": {
        "colab": {
          "base_uri": "https://localhost:8080/"
        },
        "id": "KvPRaOvO-ZT2",
        "outputId": "ac133ba8-e533-4959-e73f-e5992180f507"
      },
      "execution_count": 6,
      "outputs": [
        {
          "output_type": "stream",
          "name": "stdout",
          "text": [
            "Hydrogen H 1\n"
          ]
        }
      ]
    },
    {
      "cell_type": "code",
      "source": [
        "7. Call print(hydrogen). In the definition of Element, change the name of method dump to __str__, create a new hydrogen object, and call print(hydrogen) again."
      ],
      "metadata": {
        "id": "Ui35GT6D-iEG"
      },
      "execution_count": null,
      "outputs": []
    },
    {
      "cell_type": "code",
      "source": [
        "print(hydrogen)\n",
        "\n",
        "class Element:\n",
        "    def __init__(self, name, symbol, number):\n",
        "        self.name = name\n",
        "        self.symbol = symbol\n",
        "        self.number = number\n",
        "    def __str__(self):\n",
        "        return f'{self.name} {self.symbol} {self.number}'\n",
        "\n",
        "Hydrogen = Element('Hydrogen','H',1)\n",
        "print(Hydrogen)"
      ],
      "metadata": {
        "colab": {
          "base_uri": "https://localhost:8080/"
        },
        "id": "mQI0xXnh-l7Q",
        "outputId": "4c487252-b693-4662-aaab-eef7e4d98b0f"
      },
      "execution_count": 7,
      "outputs": [
        {
          "output_type": "stream",
          "name": "stdout",
          "text": [
            "<__main__.Element object at 0x7fb2365b5e40>\n",
            "Hydrogen H 1\n"
          ]
        }
      ]
    },
    {
      "cell_type": "code",
      "source": [
        "8. Modify Element to make the attributes name, symbol, and number private. Define a getter property for each to return its value."
      ],
      "metadata": {
        "id": "-u4ouQZE-sGl"
      },
      "execution_count": null,
      "outputs": []
    },
    {
      "cell_type": "code",
      "source": [
        "class Element:\n",
        "    def __init__(self,name,symbol,number):\n",
        "        self.__name = name\n",
        "        self.__symbol = symbol\n",
        "        self.__number = number\n",
        "\n",
        "    @property\n",
        "    def get_name(self):\n",
        "        return self.__name\n",
        "\n",
        "    @property\n",
        "    def get_symbol(self):\n",
        "        return self.__symbol\n",
        "\n",
        "    @property\n",
        "    def get_number(self):\n",
        "        return self.__number\n",
        "\n",
        "hydrogen = Element('Hydrogen','H',1)\n",
        "print(hydrogen.get_name)\n",
        "print(hydrogen.get_symbol)\n",
        "print(hydrogen.get_number)"
      ],
      "metadata": {
        "colab": {
          "base_uri": "https://localhost:8080/"
        },
        "id": "APzk3lVG-wEZ",
        "outputId": "7c689d8b-6f5d-4952-fc0a-41118a5b7abb"
      },
      "execution_count": 8,
      "outputs": [
        {
          "output_type": "stream",
          "name": "stdout",
          "text": [
            "Hydrogen\n",
            "H\n",
            "1\n"
          ]
        }
      ]
    },
    {
      "cell_type": "code",
      "source": [
        "9. Define three classes: Bear, Rabbit, and Octothorpe. For each, define only one method: eats(). This should return 'berries' (Bear), 'clover' (Rabbit), or\n",
        " 'campers' (Octothorpe). Create one object from each and print what it eats."
      ],
      "metadata": {
        "id": "0TRqmsSB-3GM"
      },
      "execution_count": null,
      "outputs": []
    },
    {
      "cell_type": "code",
      "source": [
        "class Bear:\n",
        "    def eats(self):\n",
        "        print('berries')\n",
        "class Rabbit:\n",
        "    def eats(self):\n",
        "        print('clover')\n",
        "class Octothorpe:\n",
        "    def eats(self):\n",
        "        print('campers')\n",
        "\n",
        "bear = Bear()\n",
        "rabbit = Rabbit()\n",
        "octothrope = Octothorpe()\n",
        "\n",
        "bear.eats()\n",
        "rabbit.eats()\n",
        "octothrope.eats()"
      ],
      "metadata": {
        "colab": {
          "base_uri": "https://localhost:8080/"
        },
        "id": "hvA1fqos-4N-",
        "outputId": "a9c58afa-3217-4281-9c3e-3c4fb782c037"
      },
      "execution_count": 9,
      "outputs": [
        {
          "output_type": "stream",
          "name": "stdout",
          "text": [
            "berries\n",
            "clover\n",
            "campers\n"
          ]
        }
      ]
    },
    {
      "cell_type": "code",
      "source": [
        "10. Define these classes: Laser, Claw, and SmartPhone. Each has only one method: does(). This returns 'disintegrate' (Laser), 'crush' (Claw), or\n",
        "'ring' (SmartPhone). Then, define the class Robot that has one instance (object) of each of these. Define a does() method for\n",
        " the Robot that prints what its component objects do."
      ],
      "metadata": {
        "id": "Ompne6bv_QTC"
      },
      "execution_count": null,
      "outputs": []
    },
    {
      "cell_type": "code",
      "source": [
        "class Laser:\n",
        "    def does(self):\n",
        "        return 'disintegrate'\n",
        "class Claw:\n",
        "    def does(self):\n",
        "        return 'crush'\n",
        "class Smartphone:\n",
        "    def does(self):\n",
        "        return 'ring'\n",
        "class Robot:\n",
        "    def __init__(self):\n",
        "        self.laser = Laser()\n",
        "        self.claw = Claw()\n",
        "        self.smartphone = Smartphone()\n",
        "    def does(self):\n",
        "        print(self.laser.does(),self.claw.does(),self.smartphone.does())\n",
        "\n",
        "r2d2 = Robot()\n",
        "r2d2.does()"
      ],
      "metadata": {
        "colab": {
          "base_uri": "https://localhost:8080/"
        },
        "id": "5XQu3g4R_ZO-",
        "outputId": "0483cebc-1d33-4931-dc02-b371ab1ec8ee"
      },
      "execution_count": 10,
      "outputs": [
        {
          "output_type": "stream",
          "name": "stdout",
          "text": [
            "disintegrate crush ring\n"
          ]
        }
      ]
    }
  ]
}