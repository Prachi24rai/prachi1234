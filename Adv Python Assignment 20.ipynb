{
  "nbformat": 4,
  "nbformat_minor": 0,
  "metadata": {
    "colab": {
      "provenance": []
    },
    "kernelspec": {
      "name": "python3",
      "display_name": "Python 3"
    },
    "language_info": {
      "name": "python"
    }
  },
  "cells": [
    {
      "cell_type": "code",
      "execution_count": null,
      "metadata": {
        "id": "wn6L4rBTAEo1"
      },
      "outputs": [],
      "source": [
        "1. Compare and contrast the float and Decimal classes' benefits and drawbacks ?"
      ]
    },
    {
      "cell_type": "code",
      "source": [
        "Ans: Both the float and decimal types store numerical values in Python.\n",
        "\n",
        "Use floats when convenience and speed matter. A float gives you an approximation of the number you declare.\n",
        "\n",
        "Use decimals when precision matters. Decimals can suffer from their own precision issues, but generally, decimals are more precise than floats.\n",
        " The performance difference between float and decimal, with Python 3, is not outlandish, and in my experience, the precision benefits of a decimal\n",
        "  outweigh the performance benefits of a float."
      ],
      "metadata": {
        "id": "Ik4xyYv_BI85"
      },
      "execution_count": null,
      "outputs": []
    },
    {
      "cell_type": "code",
      "source": [
        "2. Decimal('1.200') and Decimal('1.2') are two objects to consider. In what sense are these the same object? Are these just two ways of representing\n",
        "the exact same value, or do they correspond to different internal states ?"
      ],
      "metadata": {
        "id": "-SPmk2A-BO6g"
      },
      "execution_count": null,
      "outputs": []
    },
    {
      "cell_type": "code",
      "source": [
        "Ans: Both values are same but internal representation at storage Is different. Precsion differs, Decimal('1.200') gives internally 1.200 and Decimal('1.2') gives 1.2."
      ],
      "metadata": {
        "id": "xpghoWULBWjE"
      },
      "execution_count": null,
      "outputs": []
    },
    {
      "cell_type": "code",
      "source": [
        "3. What happens if the equality of Decimal('1.200') and Decimal('1.2') is checked ?"
      ],
      "metadata": {
        "id": "Ow3iwDraBe_t"
      },
      "execution_count": null,
      "outputs": []
    },
    {
      "cell_type": "code",
      "source": [
        "Ans: Both values are checked to be equal , they only differ in precision."
      ],
      "metadata": {
        "id": "rG_Aolj5BiEF"
      },
      "execution_count": null,
      "outputs": []
    },
    {
      "cell_type": "code",
      "source": [
        "4. Why is it preferable to start a Decimal object with a string rather than a floating-point value ?"
      ],
      "metadata": {
        "id": "oRtv3mY_BuCQ"
      },
      "execution_count": null,
      "outputs": []
    },
    {
      "cell_type": "code",
      "source": [
        "Ans: Floating-point value is converted to Decimal format. Decimal can store float value with absolute precision. But when float value is given as Decimal\n",
        " object,it first has to be converted from floating point value which might already have rounding error.\n",
        "\n",
        " Hence it is preferable to start a Decimal object with a string."
      ],
      "metadata": {
        "id": "XbfAg6wiBx0y"
      },
      "execution_count": null,
      "outputs": []
    },
    {
      "cell_type": "code",
      "source": [
        "5. In an arithmetic phrase, how simple is it to combine Decimal objects with integers ?"
      ],
      "metadata": {
        "id": "TtNuyH82B1dq"
      },
      "execution_count": null,
      "outputs": []
    },
    {
      "cell_type": "code",
      "source": [
        "Ans: We can do it with use of Decimal()."
      ],
      "metadata": {
        "id": "TqQIKkmdB-lP"
      },
      "execution_count": null,
      "outputs": []
    },
    {
      "cell_type": "code",
      "source": [
        "6. Can Decimal objects and floating-point values be combined easily ?"
      ],
      "metadata": {
        "id": "dH0U_ak3B-oo"
      },
      "execution_count": null,
      "outputs": []
    },
    {
      "cell_type": "code",
      "source": [
        "Ans: Arithmetic operfations like Adding,subtracting or multiplying a Decimal object by a floating-point value is generates an error.\n",
        "\n",
        "To do these operations, the floating point has to be converted to a Decimal."
      ],
      "metadata": {
        "id": "kLZh3hmMCDnv"
      },
      "execution_count": null,
      "outputs": []
    },
    {
      "cell_type": "code",
      "source": [
        "7. Using the Fraction class but not the Decimal class, give an example of a quantity that can be expressed with absolute precision ?"
      ],
      "metadata": {
        "id": "_Usy4spbCZz-"
      },
      "execution_count": null,
      "outputs": []
    },
    {
      "cell_type": "code",
      "source": [
        "Ans: Value of 0.5 will be represented as ½."
      ],
      "metadata": {
        "id": "7xZqnLGrCZ5E"
      },
      "execution_count": null,
      "outputs": []
    },
    {
      "cell_type": "code",
      "source": [
        "8.Consider the following two fraction objects: Fraction(1, 2) and Fraction(1, 2). (5, 10). Is the internal state of these two objects the same? Why do you think that is ?"
      ],
      "metadata": {
        "id": "x3m1p8YoB1lL"
      },
      "execution_count": null,
      "outputs": []
    },
    {
      "cell_type": "code",
      "source": [
        "Ans: Both will be reduced to 1/2"
      ],
      "metadata": {
        "id": "TWt4UwCUC2ij"
      },
      "execution_count": null,
      "outputs": []
    },
    {
      "cell_type": "code",
      "source": [
        "9. How do the Fraction class and the integer type (int) relate to each other? Containment or inheritance ?"
      ],
      "metadata": {
        "id": "xPlK6vjHC2nk"
      },
      "execution_count": null,
      "outputs": []
    },
    {
      "cell_type": "code",
      "source": [
        "Ans: Fraction class and integer type(int) are related in form of a container.It contains two ints, one the numerator and the other the denominator"
      ],
      "metadata": {
        "id": "3j1uQRp5C6iE"
      },
      "execution_count": null,
      "outputs": []
    }
  ]
}