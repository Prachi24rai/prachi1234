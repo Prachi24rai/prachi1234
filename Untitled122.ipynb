{
  "nbformat": 4,
  "nbformat_minor": 0,
  "metadata": {
    "colab": {
      "provenance": []
    },
    "kernelspec": {
      "name": "python3",
      "display_name": "Python 3"
    },
    "language_info": {
      "name": "python"
    }
  },
  "cells": [
    {
      "cell_type": "code",
      "source": [
        "SELECT *\n",
        "FROM student\n",
        "ORDER BY age ASC\n",
        "LIMIT 1;\n"
      ],
      "metadata": {
        "id": "dZt-V725w93p"
      },
      "execution_count": null,
      "outputs": []
    }
  ]
}