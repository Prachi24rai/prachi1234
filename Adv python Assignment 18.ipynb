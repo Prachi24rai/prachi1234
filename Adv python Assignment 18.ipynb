{
  "nbformat": 4,
  "nbformat_minor": 0,
  "metadata": {
    "colab": {
      "provenance": []
    },
    "kernelspec": {
      "name": "python3",
      "display_name": "Python 3"
    },
    "language_info": {
      "name": "python"
    }
  },
  "cells": [
    {
      "cell_type": "code",
      "execution_count": null,
      "metadata": {
        "id": "CMtGiOVS2HHh"
      },
      "outputs": [],
      "source": [
        "Q1. Describe the differences between text and binary files in a single paragraph."
      ]
    },
    {
      "cell_type": "code",
      "source": [
        "Ans: The differences between Text Files and Binary Files are:\n",
        "\n",
        "Text files are special subset of binary files that are used to store human readable characters as a rich text document or plain text document.\n",
        " Text files also store data in sequential bytes but bits in text file represents characters.\n",
        "\n",
        "Binary files are those typical files that store data in the form of sequence of bytes grouped into eight bits or sometimes sixteen bits.\n",
        " These bits represent custom data and such files can store multiple types of data (images, audio, text, etc) under a single file."
      ],
      "metadata": {
        "id": "D8lJJ6XF4pqb"
      },
      "execution_count": null,
      "outputs": []
    },
    {
      "cell_type": "code",
      "source": [
        "Q2. What are some scenarios where using text files will be the better option? When would you like to use binary files instead of text files?"
      ],
      "metadata": {
        "id": "o4mhHWiz4_U4"
      },
      "execution_count": null,
      "outputs": []
    },
    {
      "cell_type": "code",
      "source": [
        "Ans: Text files are less prone to get corrupted as any undesired change may just show up once the file is opened and then can easily be removed.\n",
        " Whereas Use binary files instead of text files for image data."
      ],
      "metadata": {
        "id": "apCNvUsy5Ccq"
      },
      "execution_count": null,
      "outputs": []
    },
    {
      "cell_type": "code",
      "source": [
        "Q3. What are some of the issues with using binary operations to read and write a Python integer directly to disc?"
      ],
      "metadata": {
        "id": "Dpz7MkNE5GwC"
      },
      "execution_count": null,
      "outputs": []
    },
    {
      "cell_type": "code",
      "source": [
        "Ans: When we read or write a python integer using binary operations\n",
        "\n",
        "Binary operations deal with raw data\n",
        "One needs to identify how many bytes one would read or write."
      ],
      "metadata": {
        "id": "UbR5QMAR5K8V"
      },
      "execution_count": null,
      "outputs": []
    },
    {
      "cell_type": "code",
      "source": [
        "Q4. Describe a benefit of using the with keyword instead of explicitly opening a file ?"
      ],
      "metadata": {
        "id": "QV3Nzrt65MDL"
      },
      "execution_count": null,
      "outputs": []
    },
    {
      "cell_type": "code",
      "source": [
        "Ans: When a file is opened using the with keyword, if some exceptions occur after opening a file, or at the end of the file it automatically does\n",
        "the closing of the file. There by not leaving an file in open mode and there would no need to explicitly close a file."
      ],
      "metadata": {
        "id": "Dsun8Lnh5Sqo"
      },
      "execution_count": null,
      "outputs": []
    },
    {
      "cell_type": "code",
      "source": [
        "Q5. Does Python have the trailing newline while reading a line of text? Does Python append a newline when you write a line of text?"
      ],
      "metadata": {
        "id": "KNCjyjyx5Ss8"
      },
      "execution_count": null,
      "outputs": []
    },
    {
      "cell_type": "code",
      "source": [
        "Ans: Yes, Python have the trailing newline while reading a line of text. When we write a newline has to be provided in python excpicitly."
      ],
      "metadata": {
        "id": "1BgB1HD85bRv"
      },
      "execution_count": null,
      "outputs": []
    },
    {
      "cell_type": "code",
      "source": [
        "Q6. What file operations enable for random-access operation?"
      ],
      "metadata": {
        "id": "VoKnIE6o5e2O"
      },
      "execution_count": null,
      "outputs": []
    },
    {
      "cell_type": "code",
      "source": [
        "Ans: The file operations enable for random-access operation are seek() and tell()"
      ],
      "metadata": {
        "id": "GlVD9Jla5e9o"
      },
      "execution_count": null,
      "outputs": []
    },
    {
      "cell_type": "code",
      "source": [
        "Q7. When do you think you'll use the struct package the most?"
      ],
      "metadata": {
        "id": "aRdD3KKr5twO"
      },
      "execution_count": null,
      "outputs": []
    },
    {
      "cell_type": "code",
      "source": [
        "Ans: The struct package is mostly used while converting a common python types into C language types."
      ],
      "metadata": {
        "id": "hIqpr8695t4i"
      },
      "execution_count": null,
      "outputs": []
    },
    {
      "cell_type": "code",
      "source": [
        "Q8. When is pickling the best option?"
      ],
      "metadata": {
        "id": "jZ5gsXai5zng"
      },
      "execution_count": null,
      "outputs": []
    },
    {
      "cell_type": "code",
      "source": [
        "Ans: Pickling is best option for creating a new binary file using python."
      ],
      "metadata": {
        "id": "XboOFEIv5zq4"
      },
      "execution_count": null,
      "outputs": []
    },
    {
      "cell_type": "code",
      "source": [
        "Q9. When will it be best to use the shelve package?"
      ],
      "metadata": {
        "id": "Sw8ncQSb56f8"
      },
      "execution_count": null,
      "outputs": []
    },
    {
      "cell_type": "code",
      "source": [
        "Ans: Shelve package is used to pickle data but treats the entire file as dictionary."
      ],
      "metadata": {
        "id": "l5u8x2Gr56lU"
      },
      "execution_count": null,
      "outputs": []
    },
    {
      "cell_type": "code",
      "source": [
        "Q10. What is a special restriction when using the shelve package, as opposed to using other data dictionaries?"
      ],
      "metadata": {
        "id": "JlzVEoda6D-y"
      },
      "execution_count": null,
      "outputs": []
    },
    {
      "cell_type": "code",
      "source": [
        "Ans: Only string data type can be used as key in this special dictionary object, whereas any picklable Python object can be used as value."
      ],
      "metadata": {
        "id": "x5Rj7bnI6HKC"
      },
      "execution_count": null,
      "outputs": []
    },
    {
      "cell_type": "code",
      "source": [],
      "metadata": {
        "id": "AVO27GhO6HNw"
      },
      "execution_count": null,
      "outputs": []
    }
  ]
}