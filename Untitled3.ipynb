{
  "nbformat": 4,
  "nbformat_minor": 0,
  "metadata": {
    "colab": {
      "provenance": []
    },
    "kernelspec": {
      "name": "python3",
      "display_name": "Python 3"
    },
    "language_info": {
      "name": "python"
    }
  },
  "cells": [
    {
      "cell_type": "code",
      "execution_count": null,
      "metadata": {
        "id": "gmQS91b9KPDP"
      },
      "outputs": [],
      "source": [
        "1. What exactly is []?"
      ]
    },
    {
      "cell_type": "code",
      "source": [
        "ANS:- The empty list represented by [] is a list that contains no items. This is similar to '' which represents an empty string"
      ],
      "metadata": {
        "id": "9yxfVeIWLFHf"
      },
      "execution_count": null,
      "outputs": []
    },
    {
      "cell_type": "code",
      "source": [
        "2. In a list of values stored in a variable called spam, how would you assign the value hello as the\n",
        "third value? (Assume [2, 4, 6, 8, 10] are in spam.)"
      ],
      "metadata": {
        "id": "SScDoWGvLKPL"
      },
      "execution_count": null,
      "outputs": []
    },
    {
      "cell_type": "code",
      "source": [
        "ANS:- spam[2]='hello' (Note: Lists follows zero based indexing)"
      ],
      "metadata": {
        "id": "FsJZ2D-1LfvG"
      },
      "execution_count": null,
      "outputs": []
    },
    {
      "cell_type": "code",
      "source": [
        "# Example\n",
        "spam=[2,4,6,8,10]\n",
        "print(spam)\n",
        "spam[2]='hello' #List uses zero based indexing\n",
        "print(spam)"
      ],
      "metadata": {
        "id": "gKw2ffU8MH1y",
        "colab": {
          "base_uri": "https://localhost:8080/"
        },
        "outputId": "7d30d1f2-8384-4270-fbcb-466c3639c06f"
      },
      "execution_count": 1,
      "outputs": [
        {
          "output_type": "stream",
          "name": "stdout",
          "text": [
            "[2, 4, 6, 8, 10]\n",
            "[2, 4, 'hello', 8, 10]\n"
          ]
        }
      ]
    },
    {
      "cell_type": "code",
      "source": [
        "Let'S pretend the spam includes the list [['a','b','c','d'] for the next three queries."
      ],
      "metadata": {
        "id": "KOMqh7dTMbZU"
      },
      "execution_count": null,
      "outputs": []
    },
    {
      "cell_type": "code",
      "source": [
        "3. What is the value of spam[int(int('3' * 2) / 11)]?"
      ],
      "metadata": {
        "id": "sH-njHB5NgCn"
      },
      "execution_count": null,
      "outputs": []
    },
    {
      "cell_type": "code",
      "source": [
        "ANS:- 'd' (Note that '3' * 2 is the string '33', which is passed to int() before being divided by 11. This eventually evaluates to 3, spam[3] is equal to d.)"
      ],
      "metadata": {
        "id": "8rc1KobxZRgb"
      },
      "execution_count": null,
      "outputs": []
    },
    {
      "cell_type": "code",
      "source": [
        "spam=['a','b','c','d']\n",
        "print(\"spam[int(int('3'*2)//11)] ->\",spam[int(int('3'*2)//11)])"
      ],
      "metadata": {
        "colab": {
          "base_uri": "https://localhost:8080/"
        },
        "id": "lHdA3ZjGdxh8",
        "outputId": "c95fac0e-7957-40ca-a250-20fa7c8c7d7f"
      },
      "execution_count": 2,
      "outputs": [
        {
          "output_type": "stream",
          "name": "stdout",
          "text": [
            "spam[int(int('3'*2)//11)] -> d\n"
          ]
        }
      ]
    },
    {
      "cell_type": "code",
      "source": [
        "4. What is the value of spam[-1]?"
      ],
      "metadata": {
        "id": "3_wkPAqHfYqI"
      },
      "execution_count": null,
      "outputs": []
    },
    {
      "cell_type": "code",
      "source": [
        "ANS:- 'd' (Lists support Negative indexing, Hence spam[-1] returs 'd')"
      ],
      "metadata": {
        "id": "97bm1y62hax9"
      },
      "execution_count": null,
      "outputs": []
    },
    {
      "cell_type": "code",
      "source": [
        "spam=['a','b','c','d']\n",
        "print('spam[-1] -> ',spam[-1])"
      ],
      "metadata": {
        "colab": {
          "base_uri": "https://localhost:8080/"
        },
        "id": "ZozG6XfmhgiE",
        "outputId": "000f312b-bf03-4bcd-a4c8-e05c1299671a"
      },
      "execution_count": 3,
      "outputs": [
        {
          "output_type": "stream",
          "name": "stdout",
          "text": [
            "spam[-1] ->  d\n"
          ]
        }
      ]
    },
    {
      "cell_type": "code",
      "source": [
        "5. What is the value of spam[:2]?"
      ],
      "metadata": {
        "id": "jsmaxFa3hmgv"
      },
      "execution_count": null,
      "outputs": []
    },
    {
      "cell_type": "code",
      "source": [
        "ANS:- spam[:2] returns all elements in the list spam from 0 to 2 excluding 2"
      ],
      "metadata": {
        "id": "KDTJpHz1in0L"
      },
      "execution_count": null,
      "outputs": []
    },
    {
      "cell_type": "code",
      "source": [
        "print(spam)\n",
        "print(spam[:2])"
      ],
      "metadata": {
        "colab": {
          "base_uri": "https://localhost:8080/"
        },
        "id": "5mX_C5qcip5U",
        "outputId": "d244e094-b7ba-45ea-9e48-106ec31d263a"
      },
      "execution_count": 4,
      "outputs": [
        {
          "output_type": "stream",
          "name": "stdout",
          "text": [
            "['a', 'b', 'c', 'd']\n",
            "['a', 'b']\n"
          ]
        }
      ]
    },
    {
      "cell_type": "code",
      "source": [
        "Let's pretend bacon has the list [3.14, 'cat', 11, 'cat', True] for the next three questions."
      ],
      "metadata": {
        "id": "S40kW88RjC9C"
      },
      "execution_count": null,
      "outputs": []
    },
    {
      "cell_type": "code",
      "source": [
        "6. What is the value of bacon.index('cat')?"
      ],
      "metadata": {
        "id": "4Gotc9oJjuj6"
      },
      "execution_count": null,
      "outputs": []
    },
    {
      "cell_type": "code",
      "source": [
        "ANS:- The value of bacon.index('cat') is 1 (Note: index method returns the index of first occuerence of 'cat')"
      ],
      "metadata": {
        "id": "WWurOOMLkZBS"
      },
      "execution_count": null,
      "outputs": []
    },
    {
      "cell_type": "code",
      "source": [
        "bacon=[3.14,'cat',11,'cat',True]\n",
        "print(\"bacon.index('cat') ->\",bacon.index('cat'))"
      ],
      "metadata": {
        "colab": {
          "base_uri": "https://localhost:8080/"
        },
        "id": "LpZMBcFsygQA",
        "outputId": "921154d1-8a30-40f3-c92f-f7675e704bcc"
      },
      "execution_count": 1,
      "outputs": [
        {
          "output_type": "stream",
          "name": "stdout",
          "text": [
            "bacon.index('cat') -> 1\n"
          ]
        }
      ]
    },
    {
      "cell_type": "code",
      "source": [
        "7. How does bacon.append(99) change the look of the list value in bacon?"
      ],
      "metadata": {
        "id": "MK4NIxjfyj2f"
      },
      "execution_count": null,
      "outputs": []
    },
    {
      "cell_type": "code",
      "source": [
        "ANS:- The append method adds new elements to the end of the list"
      ],
      "metadata": {
        "id": "ZFVpVix5yx_8"
      },
      "execution_count": null,
      "outputs": []
    },
    {
      "cell_type": "code",
      "source": [
        "# Example\n",
        "print(bacon)\n",
        "bacon.append(99) # appends 99 to the end of the list\n",
        "print(bacon)"
      ],
      "metadata": {
        "colab": {
          "base_uri": "https://localhost:8080/"
        },
        "id": "XSWG3LL4zKYw",
        "outputId": "acb3efd0-af4e-40bd-f89c-0483d6449e44"
      },
      "execution_count": 2,
      "outputs": [
        {
          "output_type": "stream",
          "name": "stdout",
          "text": [
            "[3.14, 'cat', 11, 'cat', True]\n",
            "[3.14, 'cat', 11, 'cat', True, 99]\n"
          ]
        }
      ]
    },
    {
      "cell_type": "code",
      "source": [
        "8. How does bacon.remove('cat') change the look of the list in bacon?"
      ],
      "metadata": {
        "id": "mhrvc4QGzT_2"
      },
      "execution_count": null,
      "outputs": []
    },
    {
      "cell_type": "code",
      "source": [
        "ANS:- The remove method removes the first occurence of the element in the list"
      ],
      "metadata": {
        "id": "RNjqdF-uzfEB"
      },
      "execution_count": null,
      "outputs": []
    },
    {
      "cell_type": "code",
      "source": [
        "print(bacon)\n",
        "bacon.remove('cat')\n",
        "print(bacon)"
      ],
      "metadata": {
        "colab": {
          "base_uri": "https://localhost:8080/"
        },
        "id": "c04J-6MizwHD",
        "outputId": "18436871-0c45-4b73-983f-9c36ee16c2c7"
      },
      "execution_count": 3,
      "outputs": [
        {
          "output_type": "stream",
          "name": "stdout",
          "text": [
            "[3.14, 'cat', 11, 'cat', True, 99]\n",
            "[3.14, 11, 'cat', True, 99]\n"
          ]
        }
      ]
    },
    {
      "cell_type": "code",
      "source": [
        "9. What are the list concatenation and list replication operators?"
      ],
      "metadata": {
        "id": "sPdm9HuG0D-a"
      },
      "execution_count": null,
      "outputs": []
    },
    {
      "cell_type": "code",
      "source": [
        "ANS:- The operator for list concatenation is +, while the operator for replication is *. (This is the same as for strings.)"
      ],
      "metadata": {
        "id": "t_l1vKzO0WMA"
      },
      "execution_count": null,
      "outputs": []
    },
    {
      "cell_type": "code",
      "source": [
        "# Example\n",
        "list_1 = ['ML','DL','AI','CV','NLP']\n",
        "list_2 = ['RNN','CNN','SVN']\n",
        "print(list_1 + list_2) # List Concatenation\n",
        "print(list_2*2) # List Replication"
      ],
      "metadata": {
        "colab": {
          "base_uri": "https://localhost:8080/"
        },
        "id": "G2HrlfSX0bFi",
        "outputId": "755adeb3-09fb-4a2c-829d-9a4d331f2a78"
      },
      "execution_count": 4,
      "outputs": [
        {
          "output_type": "stream",
          "name": "stdout",
          "text": [
            "['ML', 'DL', 'AI', 'CV', 'NLP', 'RNN', 'CNN', 'SVN']\n",
            "['RNN', 'CNN', 'SVN', 'RNN', 'CNN', 'SVN']\n"
          ]
        }
      ]
    },
    {
      "cell_type": "code",
      "source": [
        "10. What is difference between the list methods append() and insert()?"
      ],
      "metadata": {
        "id": "f6f27eQO0ETL"
      },
      "execution_count": null,
      "outputs": []
    },
    {
      "cell_type": "code",
      "source": [
        "ANS:- While append() will add values only to the end of a list, insert() can add them anywhere in the list."
      ],
      "metadata": {
        "id": "edkXZ9Gi0ngI"
      },
      "execution_count": null,
      "outputs": []
    },
    {
      "cell_type": "code",
      "source": [
        "#Examples\n",
        "list = [1,2,3,4,5]\n",
        "list.append(6)\n",
        "print(list)\n",
        "list.insert(2,'Demo')\n",
        "print(list)"
      ],
      "metadata": {
        "colab": {
          "base_uri": "https://localhost:8080/"
        },
        "id": "NJ2ygKVE1gPj",
        "outputId": "f1dc87b5-6975-4b3b-f3e0-e3bbecf97088"
      },
      "execution_count": 5,
      "outputs": [
        {
          "output_type": "stream",
          "name": "stdout",
          "text": [
            "[1, 2, 3, 4, 5, 6]\n",
            "[1, 2, 'Demo', 3, 4, 5, 6]\n"
          ]
        }
      ]
    },
    {
      "cell_type": "code",
      "source": [
        "11. What are the two methods for removing items from a list?"
      ],
      "metadata": {
        "id": "1OASyAeW1t0Q"
      },
      "execution_count": null,
      "outputs": []
    },
    {
      "cell_type": "code",
      "source": [
        " ANS:- The del statement and the remove() method are two ways to remove values from a list"
      ],
      "metadata": {
        "id": "ClUCP5gM13qF"
      },
      "execution_count": null,
      "outputs": []
    },
    {
      "cell_type": "code",
      "source": [
        "12. Describe how list values and string values are identical."
      ],
      "metadata": {
        "id": "Z5ZouYbT2DIh"
      },
      "execution_count": null,
      "outputs": []
    },
    {
      "cell_type": "code",
      "source": [
        "ANS:-  Both lists and strings can be passed to len() function, have indexes and slices, be used in for loops, be concatenated or replicated, \n",
        " and be used with the in and not in operators."
      ],
      "metadata": {
        "id": "MY0mqjwV2JjD"
      },
      "execution_count": null,
      "outputs": []
    },
    {
      "cell_type": "code",
      "source": [
        "13. What's the difference between tuples and lists?"
      ],
      "metadata": {
        "id": "91KhnwlxI_p-"
      },
      "execution_count": null,
      "outputs": []
    },
    {
      "cell_type": "code",
      "source": [
        "ANS:- Lists are Mutable, Indexable and Slicable. they can have values added, removed, or changed. Tuples are Immutable but Indexable and Slicable. \n",
        " the tuple values cannot be changed at all. Also, tuples are represented using parentheses, (), while lists use the square brackets, []."
      ],
      "metadata": {
        "id": "eIAYCoJKJEW8"
      },
      "execution_count": null,
      "outputs": []
    },
    {
      "cell_type": "code",
      "source": [
        "14. How do you type a tuple value that only contains the integer 42?"
      ],
      "metadata": {
        "id": "wnyx4YxbJk_5"
      },
      "execution_count": null,
      "outputs": []
    },
    {
      "cell_type": "code",
      "source": [
        "ANS:- (42,) (The trailing comma is mandatory. otherwise its considered as a int by python Interpreter)"
      ],
      "metadata": {
        "id": "1YPDQPxgJvWU"
      },
      "execution_count": null,
      "outputs": []
    },
    {
      "cell_type": "code",
      "source": [
        "tup1=(42)\n",
        "tup2=(42,)\n",
        "print(type(tup1))\n",
        "print(type(tup2))"
      ],
      "metadata": {
        "colab": {
          "base_uri": "https://localhost:8080/"
        },
        "id": "Fw0-4wfuKHDk",
        "outputId": "1947ea13-0b94-405e-9e45-846abc0a3f0c"
      },
      "execution_count": 6,
      "outputs": [
        {
          "output_type": "stream",
          "name": "stdout",
          "text": [
            "<class 'int'>\n",
            "<class 'tuple'>\n"
          ]
        }
      ]
    },
    {
      "cell_type": "code",
      "source": [
        "15. How do you get a list value's tuple form? How do you get a tuple value's list form?"
      ],
      "metadata": {
        "id": "9Afp5vhFKsHY"
      },
      "execution_count": null,
      "outputs": []
    },
    {
      "cell_type": "code",
      "source": [
        "ANS:- The tuple() and list() functions, respectively are used to convert a list to tuple and vice versa"
      ],
      "metadata": {
        "id": "PRaY3PKILIuv"
      },
      "execution_count": null,
      "outputs": []
    },
    {
      "cell_type": "code",
      "source": [
        "16. Variables that \"contain\" list values are not necessarily lists themselves. Instead, what do they contain?"
      ],
      "metadata": {
        "id": "_Y4pTgacLVLA"
      },
      "execution_count": null,
      "outputs": []
    },
    {
      "cell_type": "code",
      "source": [
        "ANS:- They contain references to list values."
      ],
      "metadata": {
        "id": "hgOgWhdrMCAV"
      },
      "execution_count": null,
      "outputs": []
    },
    {
      "cell_type": "code",
      "source": [
        "17. How do you distinguish between copy.copy() and copy.deepcopy()?"
      ],
      "metadata": {
        "id": "Z7qRE7PjMhVt"
      },
      "execution_count": null,
      "outputs": []
    },
    {
      "cell_type": "code",
      "source": [
        "ANS:-  The copy.copy() function will do a shallow copy of a list, while the copy.deepcopy() function will do a deep copy of a list.\n",
        "That is, only copy.deepcopy() will duplicate any lists inside the list."
      ],
      "metadata": {
        "id": "7vhPF6aVMvcU"
      },
      "execution_count": null,
      "outputs": []
    }
  ]
}