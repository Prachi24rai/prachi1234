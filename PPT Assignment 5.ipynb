{
  "nbformat": 4,
  "nbformat_minor": 0,
  "metadata": {
    "colab": {
      "provenance": []
    },
    "kernelspec": {
      "name": "python3",
      "display_name": "Python 3"
    },
    "language_info": {
      "name": "python"
    }
  },
  "cells": [
    {
      "cell_type": "code",
      "execution_count": null,
      "metadata": {
        "id": "iyShXfdxRCaI"
      },
      "outputs": [],
      "source": [
        "💡 Question 1\n",
        "\n",
        "Convert 1D Array Into 2D Array\n",
        "\n",
        "You are given a 0-indexed 1-dimensional (1D) integer array original, and two integers, m and n. You are tasked with creating a 2-dimensional (2D) array\n",
        "with  m rows and n columns using all the elements from original.\n",
        "\n",
        "The elements from indices 0 to n - 1 (inclusive) of original should form the first row of the constructed 2D array, the elements from indices n to 2  n - 1 (inclusive)\n",
        " should form the second row of the constructed 2D array, and so on.\n",
        "\n",
        "Return an m x n 2D array constructed according to the above procedure, or an empty 2D array if it is impossible.\n",
        "\n",
        "Example 1:\n",
        "\n",
        "Input: original = [1,2,3,4], m = 2, n = 2\n",
        "\n",
        "Output: [[1,2],[3,4]]\n",
        "\n",
        "Explanation: The constructed 2D array should contain 2 rows and 2 columns.\n",
        "\n",
        "The first group of n=2 elements in original, [1,2], becomes the first row in the constructed 2D array.\n",
        "\n",
        "The second group of n=2 elements in original, [3,4], becomes the second row in the constructed 2D array."
      ]
    },
    {
      "cell_type": "code",
      "source": [
        "class Solution(object):\n",
        "    def construct2DArray(self,original, m, n):\n",
        "\n",
        "        result = []\n",
        "\n",
        "        if len(original)==m*n:\n",
        "            for row in range(m):\n",
        "                result.append(original[n*row:n*row+n])\n",
        "\n",
        "        return result"
      ],
      "metadata": {
        "id": "kzCbdKgT2AtK"
      },
      "execution_count": 2,
      "outputs": []
    },
    {
      "cell_type": "code",
      "source": [
        "💡 Question 2\n",
        "\n",
        "You have n coins and you want to build a staircase with these coins. The staircase consists of k rows where the ith row has exactly i coins.\n",
        "The last row of the staircase may be incomplete.\n",
        "\n",
        "Given the integer n, return the number of complete rows of the staircase you will build.\n",
        "\n",
        "Example 1:\n",
        "\n",
        "Input: n = 5\n",
        "\n",
        "Output: 2\n",
        "\n",
        "Explanation: Because the 3rd row is incomplete, we return 2."
      ],
      "metadata": {
        "id": "0E94hvNc2CYj"
      },
      "execution_count": null,
      "outputs": []
    },
    {
      "cell_type": "code",
      "source": [
        " def arrangeCoins(self, n: int) -> int:\n",
        "        completeStairs = 0\n",
        "\n",
        "        # i = row number\n",
        "        i = 1\n",
        "        while n >= 0:\n",
        "            # For ith row, we use i coins to fill it completely\n",
        "            # So reduce i coins from n\n",
        "            n -= i\n",
        "            # If n is not negative\n",
        "            # that means this row can be fully filled so increment count of completeStairs\n",
        "            if n >= 0: completeStairs += 1\n",
        "            # Move to the next row\n",
        "            i += 1\n",
        "\n",
        "        return completeStairs"
      ],
      "metadata": {
        "id": "WUlFfIjw2tn_"
      },
      "execution_count": 3,
      "outputs": []
    },
    {
      "cell_type": "code",
      "source": [
        "💡 Question 3\n",
        "\n",
        "Given an integer array nums sorted in non-decreasing order, return an array of the squares of each number sorted in non-decreasing order.\n",
        "\n",
        "Example 1:\n",
        "\n",
        "Input: nums = [-4,-1,0,3,10]\n",
        "\n",
        "Output: [0,1,9,16,100]\n",
        "\n",
        "Explanation: After squaring, the array becomes [16,1,0,9,100].\n",
        "\n",
        "After sorting, it becomes [0,1,9,16,100]."
      ],
      "metadata": {
        "id": "eSm6orCV2vF0"
      },
      "execution_count": null,
      "outputs": []
    },
    {
      "cell_type": "code",
      "source": [
        "class Solution(object):\n",
        "    def sortedSquares(self, nums):\n",
        "        result = [0]*len(nums)\n",
        "        i = 0\n",
        "        j = len(nums)-1\n",
        "        k = len(nums)-1\n",
        "        while k>=0:\n",
        "            if nums[i]*nums[i] <= nums[j]*nums[j]:\n",
        "                result[k] = nums[j]*nums[j]\n",
        "                k-=1\n",
        "                j-=1\n",
        "            else:\n",
        "                result[k] = nums[i]*nums[i]\n",
        "                i+=1\n",
        "                k-=1\n",
        "        return result"
      ],
      "metadata": {
        "id": "lGBq9RX23UF9"
      },
      "execution_count": 5,
      "outputs": []
    },
    {
      "cell_type": "code",
      "source": [
        "💡 Question 4\n",
        "\n",
        "Given two 0-indexed integer arrays nums1 and nums2, return a list answer of size 2 where:\n",
        "\n",
        "- answer[0] is a list of all distinct integers in nums1 which are not present in nums2.\n",
        "- answer[1] is a list of all distinct integers in nums2 which are not present in nums1.\n",
        "\n",
        "Note that the integers in the lists may be returned in any order.\n",
        "\n",
        "Example 1:\n",
        "\n",
        "Input: nums1 = [1,2,3], nums2 = [2,4,6]\n",
        "\n",
        "Output: [[1,3],[4,6]]\n",
        "\n",
        "Explanation:\n",
        "\n",
        "For nums1, nums1[1] = 2 is present at index 0 of nums2, whereas nums1[0] = 1 and nums1[2] = 3 are not present in nums2. Therefore, answer[0] = [1,3].\n",
        "\n",
        "For nums2, nums2[0] = 2 is present at index 1 of nums1, whereas nums2[1] = 4 and nums2[2] = 6 are not present in nums2. Therefore, answer[1] = [4,6]."
      ],
      "metadata": {
        "id": "iY4YUCoG3e8C"
      },
      "execution_count": null,
      "outputs": []
    },
    {
      "cell_type": "code",
      "source": [
        "class Solution(object):\n",
        "    def findDifference(self, nums1, nums2):\n",
        "        s1, s2 = set(nums1), set(nums2)\n",
        "        return [list(s1 - s2), list(s2 - s1)]\n",
        "        \"\"\"\n",
        "        :type nums1: List[int]\n",
        "        :type nums2: List[int]\n",
        "        :rtype: List[List[int]]\n",
        "        \"\"\""
      ],
      "metadata": {
        "id": "Imn6xBcN48y-"
      },
      "execution_count": 8,
      "outputs": []
    },
    {
      "cell_type": "code",
      "source": [
        "💡 Question 5\n",
        "\n",
        "Given two integer arrays arr1 and arr2, and the integer d, return the distance value between the two arrays.\n",
        "\n",
        "The distance value is defined as the number of elements arr1[i] such that there is not any element arr2[j] where |arr1[i]-arr2[j]| <= d.\n",
        "\n",
        "Example 1:\n",
        "\n",
        "Input: arr1 = [4,5,8], arr2 = [10,9,1,8], d = 2\n",
        "\n",
        "Output: 2\n",
        "\n",
        "Explanation:\n",
        "\n",
        "For arr1[0]=4 we have:\n",
        "\n",
        "|4-10|=6 > d=2\n",
        "\n",
        "|4-9|=5 > d=2\n",
        "\n",
        "|4-1|=3 > d=2\n",
        "\n",
        "|4-8|=4 > d=2\n",
        "\n",
        "For arr1[1]=5 we have:\n",
        "\n",
        "|5-10|=5 > d=2\n",
        "\n",
        "|5-9|=4 > d=2\n",
        "\n",
        "|5-1|=4 > d=2\n",
        "\n",
        "|5-8|=3 > d=2\n",
        "\n",
        "For arr1[2]=8 we have:\n",
        "\n",
        "|8-10|=2 <= d=2\n",
        "\n",
        "|8-9|=1 <= d=2\n",
        "\n",
        "|8-1|=7 > d=2\n",
        "\n",
        "|8-8|=0 <= d=2"
      ],
      "metadata": {
        "id": "B97Xf15z5Fjh"
      },
      "execution_count": null,
      "outputs": []
    },
    {
      "cell_type": "code",
      "source": [
        "class Solution(object):\n",
        "    def findTheDistanceValue(self, arr1, arr2, d):\n",
        "        arr2.sort()\n",
        "        count=0\n",
        "        for x in arr1:\n",
        "            l, r = 0, len(arr2)\n",
        "            while l < r:\n",
        "                mid = (l + r) // 2\n",
        "                if abs(arr2[mid] - x) <= d:\n",
        "                    count-=1\n",
        "                    break\n",
        "                elif arr2[mid] > x:\n",
        "                    r = mid\n",
        "                else:\n",
        "                    l = mid + 1\n",
        "            count+=1\n",
        "        return count"
      ],
      "metadata": {
        "id": "dlKsyKmL6RAQ"
      },
      "execution_count": 15,
      "outputs": []
    },
    {
      "cell_type": "code",
      "source": [
        "💡 Question 6\n",
        "\n",
        "Given an integer array nums of length n where all the integers of nums are in the range [1, n] and each integer appears once or twice, return an array of all\n",
        "the integers that appears twice.\n",
        "\n",
        "You must write an algorithm that runs in O(n) time and uses only constant extra space.\n",
        "\n",
        "Example 1:\n",
        "\n",
        "Input: nums = [4,3,2,7,8,2,3,1]\n",
        "\n",
        "Output:\n",
        "\n",
        "[2,3]"
      ],
      "metadata": {
        "id": "zI95DSe56_bS"
      },
      "execution_count": null,
      "outputs": []
    },
    {
      "cell_type": "code",
      "source": [
        "class Solution:\n",
        "    def findDuplicates(self, N: List[int]) -> List[int]:\n",
        "        A = []\n",
        "        for n in N:\n",
        "            if N[abs(n)-1] > 0: N[abs(n)-1] = -N[abs(n)-1]\n",
        "            else: A.append(abs(n))\n",
        "        return A"
      ],
      "metadata": {
        "id": "wBRp6VIW8sBv"
      },
      "execution_count": null,
      "outputs": []
    },
    {
      "cell_type": "code",
      "source": [
        "💡 Question 7\n",
        "\n",
        "Suppose an array of length n sorted in ascending order is rotated between 1 and n times. For example, the array nums = [0,1,2,4,5,6,7] might become:\n",
        "\n",
        "- [4,5,6,7,0,1,2] if it was rotated 4 times.\n",
        "- [0,1,2,4,5,6,7] if it was rotated 7 times.\n",
        "\n",
        "Notice that rotating an array [a[0], a[1], a[2], ..., a[n-1]] 1 time results in the array [a[n-1], a[0], a[1], a[2], ..., a[n-2]].\n",
        "\n",
        "Given the sorted rotated array nums of unique elements, return the minimum element of this array.\n",
        "\n",
        "You must write an algorithm that runs in O(log n) time.\n",
        "\n",
        "Example 1:\n",
        "\n",
        "Input: nums = [3,4,5,1,2]\n",
        "\n",
        "Output: 1\n",
        "\n",
        "Explanation:\n",
        "\n",
        "The original array was [1,2,3,4,5] rotated 3 times."
      ],
      "metadata": {
        "id": "ZpZ3uZ9_-lOq"
      },
      "execution_count": null,
      "outputs": []
    },
    {
      "cell_type": "code",
      "source": [
        "# python3 code to implement the approach\n",
        "\n",
        "def findMin(arr, N):\n",
        "\n",
        "\tmin_ele = arr[0];\n",
        "\n",
        "\t# Traversing over array to\n",
        "\t# find minimum element\n",
        "\tfor i in range(N) :\n",
        "\t\tif arr[i] < min_ele :\n",
        "\t\t\tmin_ele = arr[i]\n",
        "\n",
        "\treturn min_ele;\n",
        "\n",
        "# Driver program\n",
        "arr = [5, 6, 1, 2, 3, 4]\n",
        "N = len(arr)\n",
        "\n",
        "print(findMin(arr,N))"
      ],
      "metadata": {
        "colab": {
          "base_uri": "https://localhost:8080/"
        },
        "id": "ycuyDisJ_lAV",
        "outputId": "2a61b086-ab67-4600-c1f1-9f1f0d39c99c"
      },
      "execution_count": 24,
      "outputs": [
        {
          "output_type": "stream",
          "name": "stdout",
          "text": [
            "1\n"
          ]
        }
      ]
    },
    {
      "cell_type": "code",
      "source": [
        "💡 Question 8\n",
        "\n",
        "An integer array original is transformed into a doubled array changed by appending twice the value of every element in original, and then randomly\n",
        " shuffling the resulting array.\n",
        "\n",
        "Given an array changed, return original if changed is a doubled array. If changed is not a doubled array, return an empty array. The elements in original\n",
        "may be returned in any order.\n",
        "\n",
        "Example 1:\n",
        "\n",
        "Input: changed = [1,3,4,2,6,8]\n",
        "\n",
        "Output: [1,3,4]\n",
        "\n",
        "Explanation: One possible original array could be [1,3,4]:\n",
        "\n",
        "- Twice the value of 1 is 1 * 2 = 2.\n",
        "- Twice the value of 3 is 3 * 2 = 6.\n",
        "- Twice the value of 4 is 4 * 2 = 8.\n",
        "\n",
        "Other original arrays could be [4,3,1] or [3,1,4].\n"
      ],
      "metadata": {
        "id": "LyUYVeuD_oXX"
      },
      "execution_count": null,
      "outputs": []
    },
    {
      "cell_type": "code",
      "source": [
        "    def findOriginalArray(self, A):\n",
        "        c = collections.Counter(A)\n",
        "        if c[0] % 2:\n",
        "            return []\n",
        "        for x in sorted(c):\n",
        "            if c[x] > c[2 * x]:\n",
        "                return []\n",
        "            c[2 * x] -= c[x] if x else c[x] / 2\n",
        "        return list(c.elements())"
      ],
      "metadata": {
        "id": "EFprWhxcAb87"
      },
      "execution_count": 25,
      "outputs": []
    }
  ]
}