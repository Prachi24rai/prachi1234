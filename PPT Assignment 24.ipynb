{
  "nbformat": 4,
  "nbformat_minor": 0,
  "metadata": {
    "colab": {
      "provenance": []
    },
    "kernelspec": {
      "name": "python3",
      "display_name": "Python 3"
    },
    "language_info": {
      "name": "python"
    }
  },
  "cells": [
    {
      "cell_type": "code",
      "execution_count": null,
      "metadata": {
        "id": "lv8YEG04v-w1"
      },
      "outputs": [],
      "source": [
        "💡 1. Roman to Integer\n",
        "\n",
        "Roman numerals are represented by seven different symbols: `I`, `V`, `X`, `L`, `C`, `D` and `M`.\n",
        "\n",
        "\n",
        "SymbolValue\n",
        "I             1\n",
        "V             5\n",
        "X             10\n",
        "L             50\n",
        "C             100\n",
        "D             500\n",
        "M             1000\n",
        "\n",
        "\n",
        "For example, `2` is written as `II` in Roman numeral, just two ones added together. `12` is written as `XII`, which is simply `X + II`. The number `27` is written as `XXVII`,\n",
        "\n",
        " which is `XX + V + II`.\n",
        "\n",
        "Roman numerals are usually written largest to smallest from left to right. However, the numeral for four is not `IIII`. Instead, the number four is written as `IV`.\n",
        " Because the one is before the five we subtract it making four. The same principle applies to the number nine, which is written as `IX`. There are six instances where\n",
        " subtraction is used:\n",
        "\n",
        " - `I` can be placed before `V` (5) and `X` (10) to make 4 and 9.\n",
        "- `X` can be placed before `L` (50) and `C` (100) to make 40 and 90.\n",
        "- `C` can be placed before `D` (500) and `M` (1000) to make 400 and 900.\n",
        "\n",
        "Given a roman numeral, convert it to an integer.\n",
        "\n",
        "Example 1:\n",
        "\n",
        "Input: s = \"III\"\n",
        "Output: 3\n",
        "Explanation: III = 3.\n",
        "\n",
        "Example 2:\n",
        "\n",
        "Input: s = \"LVIII\"\n",
        "Output: 58\n",
        "Explanation: L = 50, V= 5, III = 3.\n",
        "\n",
        "Constraints:\n",
        "\n",
        "- `1 <= s.length <= 15`\n",
        "- `s` contains only the characters `('I', 'V', 'X', 'L', 'C', 'D', 'M')`.\n",
        "- It is guaranteed that `s` is a valid roman numeral in the range `[1, 3999]`.\n"
      ]
    },
    {
      "cell_type": "code",
      "source": [
        "def romanToInt(s: str) -> int:\n",
        "    # Dictionary of roman numerals\n",
        "    roman_map = {'I': 1, 'V': 5, 'X': 10, 'L': 50, 'C': 100, 'D': 500, 'M': 1000}\n",
        "    # Length of the given string\n",
        "    n = len(s)\n",
        "    # This variable will store result\n",
        "    num = roman_map[s[n - 1]]\n",
        "    # Loop for each character from right to left\n",
        "    for i in range(n - 2, -1, -1):\n",
        "        # Check if the character at right of current character is bigger or smaller\n",
        "        if roman_map[s[i]] >= roman_map[s[i + 1]]:\n",
        "            num += roman_map[s[i]]\n",
        "        else:\n",
        "            num -= roman_map[s[i]]\n",
        "    return num"
      ],
      "metadata": {
        "id": "mxyZ7lfF2lc-"
      },
      "execution_count": 1,
      "outputs": []
    },
    {
      "cell_type": "code",
      "source": [
        "💡 2. Longest Substring Without Repeating Characters\n",
        "\n",
        "Given a string `s`, find the length of the longest substring without repeating characters.\n",
        "\n",
        "Example 1:\n",
        "\n",
        "Input: s = \"abcabcbb\"\n",
        "Output: 3\n",
        "Explanation: The answer is \"abc\", with the length of 3.\n",
        "\n",
        "Example 2:\n",
        "\n",
        "Input: s = \"bbbbb\"\n",
        "Output: 1\n",
        "Explanation: The answer is \"b\", with the length of 1.\n",
        "\n",
        "Example 3:\n",
        "\n",
        "Input: s = \"pwwkew\"\n",
        "Output: 3\n",
        "Explanation: The answer is \"wke\", with the length of 3.\n",
        "Notice that the answer must be a substring, \"pwke\" is a subsequence and not a substring.\n",
        "\n",
        "Constraints:\n",
        "\n",
        "- `0 <= s.length <= 50000`\n",
        "- `s` consists of English letters, digits, symbols and spaces."
      ],
      "metadata": {
        "id": "0pE5u80g26xk"
      },
      "execution_count": null,
      "outputs": []
    },
    {
      "cell_type": "code",
      "source": [
        "# Python3 program to find the length\n",
        "# of the longest substring without\n",
        "# repeating characters\n",
        "\n",
        "# This function returns true if all\n",
        "# characters in str[i..j] are\n",
        "# distinct, otherwise returns false\n",
        "def areDistinct(str, i, j):\n",
        "\n",
        "\t# Note : Default values in visited are false\n",
        "\tvisited = [0] * (26)\n",
        "\n",
        "\tfor k in range(i, j + 1):\n",
        "\t\tif (visited[ord(str[k]) -\n",
        "\t\t\t\tord('a')] == True):\n",
        "\t\t\treturn False\n",
        "\n",
        "\t\tvisited[ord(str[k]) -\n",
        "\t\t\t\tord('a')] = True\n",
        "\n",
        "\treturn True\n",
        "\n",
        "# Returns length of the longest substring\n",
        "# with all distinct characters.\n",
        "def longestUniqueSubsttr(str):\n",
        "\n",
        "\tn = len(str)\n",
        "\n",
        "\t# Result\n",
        "\tres = 0\n",
        "\n",
        "\tfor i in range(n):\n",
        "\t\tfor j in range(i, n):\n",
        "\t\t\tif (areDistinct(str, i, j)):\n",
        "\t\t\t\tres = max(res, j - i + 1)\n",
        "\n",
        "\treturn res\n",
        "\n",
        "# Driver code\n",
        "if __name__ == '__main__':\n",
        "\n",
        "\tstr = \"geeksforgeeks\"\n",
        "\tprint(\"The input is \", str)\n",
        "\n",
        "\tlen = longestUniqueSubsttr(str)\n",
        "\tprint(\"The length of the longest \"\n",
        "\t\t\"non-repeating character substring is \", len)\n"
      ],
      "metadata": {
        "colab": {
          "base_uri": "https://localhost:8080/"
        },
        "id": "wudpl7U03mce",
        "outputId": "9b7e27f5-2087-4a50-d725-cb6d9a13d27c"
      },
      "execution_count": 2,
      "outputs": [
        {
          "output_type": "stream",
          "name": "stdout",
          "text": [
            "The input is  geeksforgeeks\n",
            "The length of the longest non-repeating character substring is  7\n"
          ]
        }
      ]
    },
    {
      "cell_type": "code",
      "source": [
        "💡 3. Majority Element\n",
        "\n",
        "Given an array `nums` of size `n`, return the majority element.\n",
        "\n",
        "The majority element is the element that appears more than `⌊n / 2⌋` times. You may assume that the majority element always exists in the array.\n",
        "\n",
        "Example 1:\n",
        "\n",
        "Input: nums = [3,2,3]\n",
        "Output: 3\n",
        "\n",
        "Example 2:\n",
        "\n",
        "Input: nums = [2,2,1,1,1,2,2]\n",
        "Output: 2\n",
        "\n",
        "Constraints:\n",
        "\n",
        "- `n == nums.length`\n",
        "- `1 <= n <= 5 * 10^4`\n",
        "- `-10^9 <= nums[i] <= 10^9`"
      ],
      "metadata": {
        "id": "8YSGJthg3zmV"
      },
      "execution_count": null,
      "outputs": []
    },
    {
      "cell_type": "code",
      "source": [
        "class Solution(object):\n",
        "    def majorityElement(self, nums):\n",
        "        \"\"\"\n",
        "        :type nums: List[int]\n",
        "        :rtype: int\n",
        "        \"\"\"\n",
        "        nums.sort()\n",
        "        return nums[len(nums) // 2]"
      ],
      "metadata": {
        "id": "31hhm24C5ZCW"
      },
      "execution_count": 9,
      "outputs": []
    },
    {
      "cell_type": "code",
      "source": [
        "💡 4. Group Anagram\n",
        "\n",
        "Given an array of strings `strs`, group the anagrams together. You can return the answer in any order.\n",
        "\n",
        "An Anagram is a word or phrase formed by rearranging the letters of a different word or phrase, typically using all the original letters exactly once.\n",
        "\n",
        "Example 1:\n",
        "\n",
        "Input: strs = [\"eat\",\"tea\",\"tan\",\"ate\",\"nat\",\"bat\"]\n",
        "Output: [[\"bat\"],[\"nat\",\"tan\"],[\"ate\",\"eat\",\"tea\"]]\n",
        "\n",
        "Example 2:\n",
        "\n",
        "Input: strs = [\"\"]\n",
        "Output: [[\"\"]]\n",
        "\n",
        "Example 3:\n",
        "\n",
        "Input: strs = [\"a\"]\n",
        "Output: [[\"a\"]]\n",
        "\n",
        "Constraints:\n",
        "\n",
        "- `1 <= strs.length <= 10000`\n",
        "- `0 <= strs[i].length <= 100`\n",
        "- `strs[i]` consists of lowercase English letters."
      ],
      "metadata": {
        "id": "9Jlf-ma-5gri"
      },
      "execution_count": null,
      "outputs": []
    },
    {
      "cell_type": "code",
      "source": [
        "class Solution:\n",
        "    def groupAnagrams(self, strs: List[str]) -> List[List[str]]:\n",
        "        strs_table = {}\n",
        "\n",
        "        for string in strs:\n",
        "            sorted_string = ''.join(sorted(string))\n",
        "\n",
        "            if sorted_string not in strs_table:\n",
        "                strs_table[sorted_string] = []\n",
        "\n",
        "            strs_table[sorted_string].append(string)\n",
        "\n",
        "        return list(strs_table.values())"
      ],
      "metadata": {
        "id": "UUiiKAQq6gQ0"
      },
      "execution_count": 12,
      "outputs": []
    },
    {
      "cell_type": "code",
      "source": [
        "💡 5. Ugly Numbers\n",
        "\n",
        "An ugly number is a positive integer whose prime factors are limited to `2`, `3`, and `5`.\n",
        "\n",
        "Given an integer `n`, return the `nth` ugly number.\n",
        "\n",
        "Example 1:\n",
        "\n",
        "Input: n = 10\n",
        "Output: 12\n",
        "Explanation: [1, 2, 3, 4, 5, 6, 8, 9, 10, 12] is the sequence of the first 10 ugly numbers.\n",
        "\n",
        "Example 2:\n",
        "\n",
        "Input: n = 1\n",
        "Output: 1\n",
        "Explanation: 1 has no prime factors, therefore all of its prime factors are limited to 2, 3, and 5.\n",
        "\n",
        "Constraints:\n",
        "\n",
        "- `1 <= n <= 1690`"
      ],
      "metadata": {
        "id": "GDpPEHZg6h_k"
      },
      "execution_count": null,
      "outputs": []
    },
    {
      "cell_type": "code",
      "source": [
        "# Python3 code to find nth ugly number\n",
        "\n",
        "# This function divides a by greatest\n",
        "# divisible power of b\n",
        "\n",
        "\n",
        "def maxDivide(a, b):\n",
        "\twhile a % b == 0:\n",
        "\t\ta = a / b\n",
        "\treturn a\n",
        "\n",
        "# Function to check if a number\n",
        "# is ugly or not\n",
        "def isUgly(no):\n",
        "\tno = maxDivide(no, 2)\n",
        "\tno = maxDivide(no, 3)\n",
        "\tno = maxDivide(no, 5)\n",
        "\treturn 1 if no == 1 else 0\n",
        "\n",
        "# Function to get the nth ugly number\n",
        "def getNthUglyNo(n):\n",
        "\ti = 1\n",
        "\n",
        "\t# ugly number count\n",
        "\tcount = 1\n",
        "\n",
        "\t# Check for all integers until\n",
        "\t# ugly count becomes n\n",
        "\twhile n > count:\n",
        "\t\ti += 1\n",
        "\t\tif isUgly(i):\n",
        "\t\t\tcount += 1\n",
        "\treturn i\n",
        "\n",
        "\n",
        "# Driver code\n",
        "no = getNthUglyNo(150)\n",
        "print(\"150th ugly no. is \", no)"
      ],
      "metadata": {
        "colab": {
          "base_uri": "https://localhost:8080/"
        },
        "id": "3ML9BqH369Si",
        "outputId": "289b950e-0d2e-48d0-944a-7b7a514661c1"
      },
      "execution_count": 13,
      "outputs": [
        {
          "output_type": "stream",
          "name": "stdout",
          "text": [
            "150th ugly no. is  5832\n"
          ]
        }
      ]
    },
    {
      "cell_type": "code",
      "source": [
        "💡 6. Top K Frequent Words\n",
        "\n",
        "Given an array of strings `words` and an integer `k`, return the `k` most frequent strings.\n",
        "\n",
        "Return the answer sorted by the frequency from highest to lowest. Sort the words with the same frequency by their lexicographical order.\n",
        "\n",
        "Example 1:\n",
        "\n",
        "Input: words = [\"i\",\"love\",\"leetcode\",\"i\",\"love\",\"coding\"], k = 2\n",
        "Output: [\"i\",\"love\"]\n",
        "Explanation: \"i\" and \"love\" are the two most frequent words.\n",
        "Note that \"i\" comes before \"love\" due to a lower alphabetical order.\n",
        "\n",
        "Example 2:\n",
        "\n",
        "Input: words = [\"the\",\"day\",\"is\",\"sunny\",\"the\",\"the\",\"the\",\"sunny\",\"is\",\"is\"], k = 4\n",
        "Output: [\"the\",\"is\",\"sunny\",\"day\"]\n",
        "Explanation: \"the\", \"is\", \"sunny\" and \"day\" are the four most frequent words, with the number of occurrence being 4, 3, 2 and 1 respectively.\n",
        "\n",
        "Constraints:\n",
        "\n",
        "- `1 <= words.length <= 500`\n",
        "- `1 <= words[i].length <= 10`\n",
        "- `words[i]` consists of lowercase English letters.\n",
        "- `k` is in the range `[1, The number of **unique** words[i]]`"
      ],
      "metadata": {
        "id": "EBplcDOs7EoV"
      },
      "execution_count": null,
      "outputs": []
    },
    {
      "cell_type": "code",
      "source": [
        "class Solution:\n",
        "    def topKFrequent(self, words: List[str], k: int) -> List[str]:\n",
        "        return next(zip(*Counter(sorted(words)).most_common(k)))"
      ],
      "metadata": {
        "id": "KEL-9H-J7rsm"
      },
      "execution_count": 14,
      "outputs": []
    },
    {
      "cell_type": "code",
      "source": [
        "💡 7. Sliding Window Maximum\n",
        "\n",
        "You are given an array of integers `nums`, there is a sliding window of size `k` which is moving from the very left of the array to the very right.\n",
        "You can only see the `k` numbers in the window. Each time the sliding window moves right by one position.\n",
        "\n",
        "Return the max sliding window.\n",
        "\n",
        "Example 1:\n",
        "\n",
        "Input: nums = [1,3,-1,-3,5,3,6,7], k = 3\n",
        "Output: [3,3,5,5,6,7]\n",
        "Explanation:\n",
        "Window position                Max\n",
        "---------------               -----\n",
        "[1  3  -1] -3  5  3  6 7         3\n",
        " 1 [3  -1  -3] 5  3  6 7         3\n",
        " 1  3 [-1  -3  5] 3  6 7         5\n",
        " 1  3  -1 [-3  5  3] 6 7         5\n",
        " 1  3  -1  -3 [5  3  6]7         6\n",
        " 1  3  -1  -3  5 [3  6  7]       7\n",
        "\n",
        " Example 2:\n",
        "\n",
        " Input: nums = [1], k = 1\n",
        "Output: [1]\n",
        "\n",
        "Constraints:\n",
        "\n",
        "- `1 <= nums.length <= 100000`\n",
        "- -`10000 <= nums[i] <= 10000`\n",
        "- `1 <= k <= nums.length`"
      ],
      "metadata": {
        "id": "XV_ct8YG765C"
      },
      "execution_count": null,
      "outputs": []
    },
    {
      "cell_type": "code",
      "source": [
        "class Solution:\n",
        "    def maxSlidingWindow(self, nums: List[int], k: int) -> List[int]:\n",
        "        from collections import deque\n",
        "        q = deque() # stores *indices*\n",
        "        res = []\n",
        "        for i, cur in enumerate(nums):\n",
        "            while q and nums[q[-1]] <= cur:\n",
        "                q.pop()\n",
        "            q.append(i)\n",
        "            # remove first element if it's outside the window\n",
        "            if q[0] == i - k:\n",
        "                q.popleft()\n",
        "            # if window has k elements add to results (first k-1 windows have < k elements because we start from empty window and add 1 element each iteration)\n",
        "            if i >= k - 1:\n",
        "                res.append(nums[q[0]])\n",
        "        return res"
      ],
      "metadata": {
        "id": "4cgm5F-o9Ezb"
      },
      "execution_count": 17,
      "outputs": []
    },
    {
      "cell_type": "code",
      "source": [
        "💡 8. Find K Closest Elements\n",
        "\n",
        "Given a sorted integer array `arr`, two integers `k` and `x`, return the `k` closest integers to `x` in the array. The result should also be sorted in ascending order.\n",
        "\n",
        "An integer `a` is closer to `x` than an integer `b` if:\n",
        "\n",
        "- `|a - x| < |b - x|`, or\n",
        "- `|a - x| == |b - x|` and `a < b`\n",
        "\n",
        "Example 1:\n",
        "\n",
        "Input: arr = [1,2,3,4,5], k = 4, x = 3\n",
        "Output: [1,2,3,4]\n",
        "\n",
        "Example 2:\n",
        "\n",
        "Input: arr = [1,2,3,4,5], k = 4, x = -1\n",
        "Output: [1,2,3,4]\n",
        "\n",
        "Constraints:\n",
        "\n",
        "- `1 <= k <= arr.length`\n",
        "- `1 <= arr.length <= 10000`\n",
        "- `arr` is sorted in ascending order.\n",
        "- -`10000 <= arr[i], x <= 10000`"
      ],
      "metadata": {
        "id": "uREy9qn86iC-"
      },
      "execution_count": null,
      "outputs": []
    },
    {
      "cell_type": "code",
      "source": [
        "# python3\n",
        "class Solution:\n",
        "    def findClosestElements(self, arr: List[int], k: int, x: int) -> List[int]:\n",
        "\t\t# It's easy to write, but we need to sort it twice, so it's not the best way\n",
        "        return sorted(sorted(arr, key = lambda v: abs(v-x))[:k])"
      ],
      "metadata": {
        "id": "n3oLPUiW9_Q-"
      },
      "execution_count": 20,
      "outputs": []
    }
  ]
}