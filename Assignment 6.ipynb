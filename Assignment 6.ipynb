{
  "nbformat": 4,
  "nbformat_minor": 0,
  "metadata": {
    "colab": {
      "provenance": []
    },
    "kernelspec": {
      "name": "python3",
      "display_name": "Python 3"
    },
    "language_info": {
      "name": "python"
    }
  },
  "cells": [
    {
      "cell_type": "code",
      "execution_count": null,
      "metadata": {
        "id": "wA6_qPfdfZUS"
      },
      "outputs": [],
      "source": [
        "1. What are escape characters, and how do you use them?"
      ]
    },
    {
      "cell_type": "code",
      "source": [
        "ANS:-  Escape characters represent characters in string values that would otherwise be difficult or impossible to type into code. \n",
        "we can use the backslash character to escape a single character or symbol\n",
        "example: \\t, \\n"
      ],
      "metadata": {
        "id": "BYGlQPl7fkJ1"
      },
      "execution_count": null,
      "outputs": []
    },
    {
      "cell_type": "code",
      "source": [
        "2. What do the escape characters n and t stand for?"
      ],
      "metadata": {
        "id": "ILEuRNFygLe1"
      },
      "execution_count": null,
      "outputs": []
    },
    {
      "cell_type": "code",
      "source": [
        "ANS:- \\n is a newline, \\t is a tab"
      ],
      "metadata": {
        "id": "2CpYUngFgLuH"
      },
      "execution_count": null,
      "outputs": []
    },
    {
      "cell_type": "code",
      "source": [
        "3. What is the way to include backslash characters in a string?"
      ],
      "metadata": {
        "id": "KO6FWXWFjz_1"
      },
      "execution_count": null,
      "outputs": []
    },
    {
      "cell_type": "code",
      "source": [
        "ANS:- The \\\\ escape character will represent the backslash character in a string"
      ],
      "metadata": {
        "id": "WEn7o_rWj6n3"
      },
      "execution_count": null,
      "outputs": []
    },
    {
      "cell_type": "code",
      "source": [
        "4.The string \"Howl's Moving Castle\" is a correct value. Why isn't the single quote character in the word Howl's not escaped a problem ?"
      ],
      "metadata": {
        "id": "8QhhWdnVk1DN"
      },
      "execution_count": null,
      "outputs": []
    },
    {
      "cell_type": "code",
      "source": [
        "ANS:- The string \"Howl's Moving Castle\" escaped the problem because it is wrapped inside double quotes. if its wrapped inside single quotes then we have to use\n",
        "escape character \\' to show single quote in the final output\n",
        "'Howl\\'s Moving Castle' -> 'Howl's Moving Castle'"
      ],
      "metadata": {
        "id": "HkzGCyXEk9K2"
      },
      "execution_count": null,
      "outputs": []
    },
    {
      "cell_type": "code",
      "source": [
        "5.How do you write a string of newlines if you don't want to use the n character?"
      ],
      "metadata": {
        "id": "kHqJtUCV5D5r"
      },
      "execution_count": null,
      "outputs": []
    },
    {
      "cell_type": "code",
      "source": [
        "ANS:- Multiline string allow you to use newlines in string without the \\n escape character"
      ],
      "metadata": {
        "id": "6qkyeous5-Bv"
      },
      "execution_count": null,
      "outputs": []
    },
    {
      "cell_type": "code",
      "source": [
        "# Example:\n",
        "a = '''iNeuron full stack\n",
        "Data Science Course'''\n",
        "print(a)"
      ],
      "metadata": {
        "id": "OjDUb_yK5e8n",
        "colab": {
          "base_uri": "https://localhost:8080/"
        },
        "outputId": "bf320e10-7ebb-43ac-c6d1-11ab0fdf66ad"
      },
      "execution_count": 1,
      "outputs": [
        {
          "output_type": "stream",
          "name": "stdout",
          "text": [
            "iNeuron full stack\n",
            "Data Science Course\n"
          ]
        }
      ]
    },
    {
      "cell_type": "code",
      "source": [
        "6.What are the values of the given expressions ?\n",
        "'Hello, world!'[1]\n",
        "'Hello, world!'[0:5]\n",
        "'Hello, world!'[:5]\n",
        "'Hello, world!'[3:]"
      ],
      "metadata": {
        "id": "oQY2Scqg5y22"
      },
      "execution_count": null,
      "outputs": []
    },
    {
      "cell_type": "code",
      "source": [
        "ANS:- The values for the given expressions are:\n",
        "'Hello, world!'[1] -> 'e'\n",
        "'Hello, world!'[0:5] -> 'Hello'\n",
        "'Hello, world!'[:5] -> 'Hello'\n",
        "'Hello, world!'[3:] -> 'lo, world!'"
      ],
      "metadata": {
        "id": "227Io2ed7n7f"
      },
      "execution_count": null,
      "outputs": []
    },
    {
      "cell_type": "code",
      "source": [
        "7.What are the values of the following expressions ?\n",
        "'Hello'.upper()\n",
        "'Hello'.upper().isupper()\n",
        "'Hello'.upper().lower()"
      ],
      "metadata": {
        "id": "uGc2JmgW9pSL"
      },
      "execution_count": null,
      "outputs": []
    },
    {
      "cell_type": "code",
      "source": [
        "ANS:- The values for the given expressions are:\n",
        "'Hello'.upper() -> 'HELLO'\n",
        "'Hello'.upper().isupper() -> True\n",
        "'Hello'.upper().lower() -> 'hello'"
      ],
      "metadata": {
        "id": "pBLXV3W99rRf"
      },
      "execution_count": null,
      "outputs": []
    },
    {
      "cell_type": "code",
      "source": [
        "8.What are the values of the following expressions ?\n",
        "'Remember, remember, the fifith of July.'.split()\n",
        "'-'.join('There can only one.'.split())"
      ],
      "metadata": {
        "id": "82ylJjXyHW1v"
      },
      "execution_count": null,
      "outputs": []
    },
    {
      "cell_type": "code",
      "source": [
        "ANS:- The values for the given expressions are:\n",
        "'Remember, remember, the fifith of July.'.split() -> ['Remember,', 'remember,', 'the', 'fifith', 'of', 'July.']\n",
        "'-'.join('There can only one'.split()) -> 'There-can-only-one'"
      ],
      "metadata": {
        "id": "-X2i_7lZH6Nv"
      },
      "execution_count": null,
      "outputs": []
    },
    {
      "cell_type": "code",
      "source": [
        "9.What are the methods for right-justifying, left-justifying and centering a string ?"
      ],
      "metadata": {
        "id": "LPjeKwV0Iroh"
      },
      "execution_count": null,
      "outputs": []
    },
    {
      "cell_type": "code",
      "source": [
        "ANS:- The rjust(),ljust(),center() string methods, respectively"
      ],
      "metadata": {
        "id": "8pClwXZpJDfk"
      },
      "execution_count": null,
      "outputs": []
    },
    {
      "cell_type": "code",
      "source": [
        "10.What is the best way to remove whitespace characters from the start or end ?"
      ],
      "metadata": {
        "id": "FHIxJBdfJMvT"
      },
      "execution_count": null,
      "outputs": []
    },
    {
      "cell_type": "code",
      "source": [
        "ANS:-  The lstrip() and rstrip() methods remove whitesapce characters from the left and right ends of a string respectively"
      ],
      "metadata": {
        "id": "IA_RC0mIJTO2"
      },
      "execution_count": null,
      "outputs": []
    }
  ]
}