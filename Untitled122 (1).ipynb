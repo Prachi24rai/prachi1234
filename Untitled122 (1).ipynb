{
  "nbformat": 4,
  "nbformat_minor": 0,
  "metadata": {
    "colab": {
      "provenance": []
    },
    "kernelspec": {
      "name": "python3",
      "display_name": "Python 3"
    },
    "language_info": {
      "name": "python"
    }
  },
  "cells": [
    {
      "cell_type": "code",
      "source": [
        "-- Create the Student table\n",
        "CREATE TABLE Student (\n",
        "    ID INT PRIMARY KEY NOT NULL,\n",
        "    Name VARCHAR(20) NOT NULL,\n",
        "    Age INT NOT NULL,\n",
        "    Address VARCHAR(25)\n",
        ");\n",
        "\n",
        "-- Insert 5 records into the Student table\n",
        "INSERT INTO Student (ID, Name, Age, Address)\n",
        "VALUES\n",
        "    (1, 'prachi', 21, '123 Main Street, City1'),\n",
        "    (2, ' Smith', 20, '456 New york, City2'),\n",
        "    (3, 'Johnson', 22, '789 Punjab, City3'),\n",
        "    (4, 'Abhishek', 19, '101 Delhi, City4'),\n",
        "    (5, 'sumit', 23, '202 Mangalore, City5');\n"
      ],
      "metadata": {
        "id": "AqwQsiZJxekT"
      },
      "execution_count": null,
      "outputs": []
    }
  ]
}