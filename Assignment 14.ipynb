{
  "nbformat": 4,
  "nbformat_minor": 0,
  "metadata": {
    "colab": {
      "provenance": []
    },
    "kernelspec": {
      "name": "python3",
      "display_name": "Python 3"
    },
    "language_info": {
      "name": "python"
    }
  },
  "cells": [
    {
      "cell_type": "code",
      "execution_count": null,
      "metadata": {
        "id": "uib6bzVlQ_6D"
      },
      "outputs": [],
      "source": [
        " 1. What does RGBA stand for?"
      ]
    },
    {
      "cell_type": "code",
      "source": [
        "ANS:- RGBA is a four-channel format containing data for Red, Green, Blue, and an Alpha value. Where Alpha Represents the Opacity"
      ],
      "metadata": {
        "id": "dvBil4_wfcGk"
      },
      "execution_count": null,
      "outputs": []
    },
    {
      "cell_type": "code",
      "source": [
        "2. From the Pillow module, how do you get the RGBA value of any images?"
      ],
      "metadata": {
        "id": "nFw57dyBgdzt"
      },
      "execution_count": null,
      "outputs": []
    },
    {
      "cell_type": "code",
      "source": [
        "ANS:- ImageColor.getcolor() gives rgba value of any image"
      ],
      "metadata": {
        "id": "wx2RoP1DgkCD"
      },
      "execution_count": null,
      "outputs": []
    },
    {
      "cell_type": "code",
      "source": [
        "3. What is a box tuple, and how does it work?"
      ],
      "metadata": {
        "id": "92ydDQhhgqsX"
      },
      "execution_count": null,
      "outputs": []
    },
    {
      "cell_type": "code",
      "source": [
        "ANS:- A box tuple is a tuple value of four integers: the left-edge x-coordinate, the top-edge y-coordinate,the width, \n",
        "      and the height, respectively."
      ],
      "metadata": {
        "id": "DuEvoyTRg78m"
      },
      "execution_count": null,
      "outputs": []
    },
    {
      "cell_type": "code",
      "source": [
        "4. Use your image and load in notebook then, How can you find out the width and height of an Image object?"
      ],
      "metadata": {
        "id": "M8--OmsojMzF"
      },
      "execution_count": null,
      "outputs": []
    },
    {
      "cell_type": "code",
      "source": [
        "#Example Program\n",
        "from PIL import Image\n",
        "pic = Image.open('Pic.jpg')\n",
        "print(f'Width, Height -> {pic.size}') # Approach 1\n",
        "print(f'Width, Height -> {pic.width},{pic.height}') # Approach 2\n",
        "width,height = pic.size\n",
        "print(f'Width, Height -> {width},{height}') # Approach 3"
      ],
      "metadata": {
        "id": "4G7VMJRzw4Ug"
      },
      "execution_count": null,
      "outputs": []
    },
    {
      "cell_type": "code",
      "source": [
        "5. What method would you call to get Image object for a 100×100 image, excluding the lower-left quarter of it?"
      ],
      "metadata": {
        "id": "onD2aFswwgds"
      },
      "execution_count": null,
      "outputs": []
    },
    {
      "cell_type": "code",
      "source": [
        "from PIL import Image\n",
        "img = Image.open('Pic.jpg')\n",
        "new_img = img.crop((0,50,50,50))"
      ],
      "metadata": {
        "id": "CS_O9IKMw5rP"
      },
      "execution_count": null,
      "outputs": []
    },
    {
      "cell_type": "code",
      "source": [
        "6. After making changes to an Image object, how could you save it as an image file?"
      ],
      "metadata": {
        "id": "RbmyB89AxIGe"
      },
      "execution_count": null,
      "outputs": []
    },
    {
      "cell_type": "code",
      "source": [
        "#Example Program\n",
        "from PIL import Image\n",
        "pic = Image.open('pic.jpg')\n",
        "pic.save('pic2.jpg')"
      ],
      "metadata": {
        "id": "-PNplxELxNTz"
      },
      "execution_count": null,
      "outputs": []
    },
    {
      "cell_type": "code",
      "source": [
        "7. What module contains Pillow’s shape-drawing code?"
      ],
      "metadata": {
        "id": "ZUPFnf3gyoAW"
      },
      "execution_count": null,
      "outputs": []
    },
    {
      "cell_type": "code",
      "source": [
        "ANS:-  Pillows ImageDraw module contains Shape drawing methods"
      ],
      "metadata": {
        "id": "oFlq1dBlyuoj"
      },
      "execution_count": null,
      "outputs": []
    },
    {
      "cell_type": "code",
      "source": [
        "8. Image objects do not have drawing methods. What kind of object does? How do you get this kind of object?"
      ],
      "metadata": {
        "id": "4WL2EqZ9zOiv"
      },
      "execution_count": null,
      "outputs": []
    },
    {
      "cell_type": "code",
      "source": [
        "ANS:-  ImageDraw objects have shape-drawing methods such as point(), line(), or rectangle().They are returned by\n",
        "       passing the Image object to the ImageDraw.Draw() function."
      ],
      "metadata": {
        "id": "jf80SkEYz1wk"
      },
      "execution_count": null,
      "outputs": []
    }
  ]
}