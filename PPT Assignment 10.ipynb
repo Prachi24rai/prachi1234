{
  "nbformat": 4,
  "nbformat_minor": 0,
  "metadata": {
    "colab": {
      "provenance": []
    },
    "kernelspec": {
      "name": "python3",
      "display_name": "Python 3"
    },
    "language_info": {
      "name": "python"
    }
  },
  "cells": [
    {
      "cell_type": "code",
      "execution_count": null,
      "metadata": {
        "id": "nHqUd3vxnOYG"
      },
      "outputs": [],
      "source": [
        "Q1.) Given an integer `n`, return `true` if it is a power of three. Otherwise, return `false`.\n",
        "\n",
        "An integer `n` is a power of three, if there exists an integer `x` such that `n == 3x`.\n",
        "\n",
        "Example 1:\n",
        "\n",
        "```\n",
        "Input: n = 27\n",
        "Output: true\n",
        "Explanation: 27 = 33\n",
        "```\n",
        "\n",
        "Example 2:\n",
        "\n",
        "```\n",
        "Input: n = 0\n",
        "Output: false\n",
        "Explanation: There is no x where 3x = 0.\n",
        "\n",
        "```\n",
        "\n",
        "Example 3:\n",
        "Input: n = -1\n",
        "Output: false\n",
        "Explanation: There is no x where 3x = (-1)."
      ]
    },
    {
      "cell_type": "code",
      "source": [
        "class Solution:\n",
        "    def isPowerOfThree(self, n: int) -> bool:\n",
        "        return (n > 0) and 1162261467 % n == 0"
      ],
      "metadata": {
        "id": "Moral3yPonDf"
      },
      "execution_count": 1,
      "outputs": []
    },
    {
      "cell_type": "code",
      "source": [
        "Q2.) You have a list `arr` of all integers in the range `[1, n]` sorted in a strictly increasing order. Apply the following algorithm on `arr`:\n",
        "\n",
        "- Starting from left to right, remove the first number and every other number afterward until you reach the end of the list.\n",
        "- Repeat the previous step again, but this time from right to left, remove the rightmost number and every other number from the remaining numbers.\n",
        "- Keep repeating the steps again, alternating left to right and right to left, until a single number remains.\n",
        "\n",
        "Given the integer `n`, return the last number that remains in`arr`.\n",
        "\n",
        "Example 1:\n",
        "Input: n = 9\n",
        "Output: 6\n",
        "Explanation:\n",
        "arr = [1, 2,3, 4,5, 6,7, 8,9]\n",
        "arr = [2,4, 6,8]\n",
        "arr = [2, 6]\n",
        "arr = [6]\n",
        "\n",
        "Example 2:\n",
        "Input: n = 1\n",
        "Output: 1"
      ],
      "metadata": {
        "id": "welmoP2LovSP"
      },
      "execution_count": null,
      "outputs": []
    },
    {
      "cell_type": "code",
      "source": [
        "class Solution:\n",
        "    def lastRemaining(self, n: int) -> int:\n",
        "        a1, an = 1, n\n",
        "        i, step, cnt = 0, 1, n\n",
        "        while cnt > 1:\n",
        "            if i % 2:\n",
        "                an -= step\n",
        "                if cnt % 2:\n",
        "                    a1 += step\n",
        "            else:\n",
        "                a1 += step\n",
        "                if cnt % 2:\n",
        "                    an -= step\n",
        "            cnt >>= 1\n",
        "            step <<= 1\n",
        "            i += 1\n",
        "        return a1"
      ],
      "metadata": {
        "id": "8eenLdKwqO7g"
      },
      "execution_count": 3,
      "outputs": []
    },
    {
      "cell_type": "code",
      "source": [
        "Q3.) Given a set represented as a string, write a recursive code to print all subsets of it. The subsets can be printed in any order.\n",
        "\n",
        "Example 1:\n",
        "\n",
        "Input :  set = “abc”\n",
        "\n",
        "Output : { “”, “a”, “b”, “c”, “ab”, “ac”, “bc”, “abc”}\n",
        "\n",
        "Example 2:\n",
        "\n",
        "Input : set = “abcd”\n",
        "\n",
        "Output : { “”, “a” ,”ab” ,”abc” ,”abcd”, “abd” ,”ac” ,”acd”, “ad” ,”b”, “bc” ,”bcd” ,”bd” ,”c” ,”cd” ,”d” }"
      ],
      "metadata": {
        "id": "as9A6iCSqrQ6"
      },
      "execution_count": null,
      "outputs": []
    },
    {
      "cell_type": "code",
      "source": [
        "def powerSet(s, cur = \"\", index = -1):\n",
        "    \n",
        "    n = len(s)\n",
        "    if(index == n):\n",
        "        return\n",
        "    \n",
        "    print(cur)\n",
        "    \n",
        "    for i in range(index + 1, n):\n",
        "        cur = cur + s[i]\n",
        "        powerSet(s,cur,i)\n",
        "        cur = cur[:len(cur)-1]\n",
        "\n",
        "\n",
        "s = list(input())\n",
        "s.sort()\n",
        "powerSet(s)"
      ],
      "metadata": {
        "colab": {
          "base_uri": "https://localhost:8080/"
        },
        "id": "KKANW3BLq4Rp",
        "outputId": "7e0f794c-76b1-4509-db25-b2fedf613189"
      },
      "execution_count": 4,
      "outputs": [
        {
          "output_type": "stream",
          "name": "stdout",
          "text": [
            "abc\n",
            "\n",
            "a\n",
            "ab\n",
            "abc\n",
            "ac\n",
            "b\n",
            "bc\n",
            "c\n"
          ]
        }
      ]
    },
    {
      "cell_type": "code",
      "source": [
        "Q4.) Given a string calculate length of the string using recursion.\n",
        "\n",
        "Examples:\n",
        "Input : str = \"abcd\"\n",
        "Output :4\n",
        "\n",
        "Input : str = \"GEEKSFORGEEKS\"\n",
        "Output :13"
      ],
      "metadata": {
        "id": "GZ7t-EPyrTR7"
      },
      "execution_count": null,
      "outputs": []
    },
    {
      "cell_type": "code",
      "source": [
        "def length(str):\n",
        "    if str == \"\":\n",
        "        return 0\n",
        "    return 1 + length(str[1:])\n",
        "\n",
        "\n",
        "str = \"abcd\"\n",
        "print(\"length of\", str, \"is\", length(str))"
      ],
      "metadata": {
        "colab": {
          "base_uri": "https://localhost:8080/"
        },
        "id": "xtGpU80ksv-7",
        "outputId": "8ae761a4-fb5c-47aa-8ce8-ccf726b46967"
      },
      "execution_count": 5,
      "outputs": [
        {
          "output_type": "stream",
          "name": "stdout",
          "text": [
            "length of abcd is 4\n"
          ]
        }
      ]
    },
    {
      "cell_type": "code",
      "source": [
        "Q5.) We are given a string S, we need to find count of all contiguous substrings starting and ending with same character.\n",
        "\n",
        "Examples :\n",
        "Input  : S = \"abcab\"\n",
        "Output : 7\n",
        "There are 15 substrings of \"abcab\"\n",
        "a, ab, abc, abca, abcab, b, bc, bca\n",
        "bcab, c, ca, cab, a, ab, b\n",
        "Out of the above substrings, there\n",
        "are 7 substrings : a, abca, b, bcab,\n",
        "c, a and b.\n",
        "\n",
        "Input  : S = \"aba\"\n",
        "Output : 4\n",
        "The substrings are a, b, a and aba"
      ],
      "metadata": {
        "id": "zZ-wS9TQs3Bs"
      },
      "execution_count": null,
      "outputs": []
    },
    {
      "cell_type": "code",
      "source": [],
      "metadata": {
        "id": "wlhGy_30tFnN"
      },
      "execution_count": null,
      "outputs": []
    },
    {
      "cell_type": "code",
      "source": [
        "Q6.) The [tower of Hanoi] is a famous puzzle where we have three rods and N disks. The objective of the puzzle is to move the entire stack to another rod. \n",
        "You are given the number of discs N. Initially, these discs are in the rod 1. You need to print all the steps of discs movement so that all the discs \n",
        "reach the 3rd rod. Also, you need to find the total moves Note: The discs are arranged such that the top disc is numbered 1 and the \n",
        "*bottom-most disc is numbered N. Also, all the discs have different sizes and a bigger disc cannot be put on the top of a smaller disc. \n",
        "Refer the provided link to get a better clarity about the puzzle.\n",
        "\n",
        "Example 1:\n",
        "Input:\n",
        "N = 2\n",
        "Output:\n",
        "move disk 1 from rod 1 to rod 2\n",
        "move disk 2 from rod 1 to rod 3\n",
        "move disk 1 from rod 2 to rod 3\n",
        "3\n",
        "Explanation:For N=2 , steps will be\n",
        "as follows in the example and total\n",
        "3 steps will be taken."
      ],
      "metadata": {
        "id": "hqi-pPyhwf3t"
      },
      "execution_count": null,
      "outputs": []
    },
    {
      "cell_type": "code",
      "source": [
        "def move(disks, source=1, auxiliary=2, target=3):\n",
        " \n",
        "    if disks > 0:\n",
        " \n",
        "        # move `n-1` discs from source to auxiliary using the target\n",
        "        # as an intermediate pole\n",
        "        move(disks - 1, source, target, auxiliary)\n",
        " \n",
        "        # move one disc from source to target\n",
        "        print(f'Move disk {disks} from {source} —> {target}')\n",
        " \n",
        "        # move `n-1` discs from auxiliary to target using the source\n",
        "        # as an intermediate pole\n",
        "        move(disks - 1, auxiliary, source, target)\n",
        " \n",
        " \n",
        "# Tower of Hanoi Problem\n",
        "if __name__ == '__main__':\n",
        " \n",
        "    n = 2\n",
        "    move(n)\n",
        " "
      ],
      "metadata": {
        "colab": {
          "base_uri": "https://localhost:8080/"
        },
        "id": "jxCb9ISeyJvW",
        "outputId": "9bfeca3c-18c8-44b9-acbf-aee99b436143"
      },
      "execution_count": 6,
      "outputs": [
        {
          "output_type": "stream",
          "name": "stdout",
          "text": [
            "Move disk 1 from 1 —> 2\n",
            "Move disk 2 from 1 —> 3\n",
            "Move disk 1 from 2 —> 3\n"
          ]
        }
      ]
    },
    {
      "cell_type": "code",
      "source": [
        "Q7.) Given a string str, the task is to print all the permutations of str. A permutation is an arrangement of all or part of a set of objects,\n",
        " with regard to the order of the arrangement. For instance, the words ‘bat’ and ‘tab’ represents two distinct permutation (or arrangements) of a similar three letter word.\n",
        "\n",
        "Examples:\n",
        " Input: str = “cd”\n",
        " \n",
        " \n",
        " Output: cd dc\n",
        " \n",
        " Input:str = “abb”\n",
        " \n",
        "Output: abb abb bab bba bab bba\n"
      ],
      "metadata": {
        "id": "F-tGrYUSyTi1"
      },
      "execution_count": null,
      "outputs": []
    },
    {
      "cell_type": "code",
      "source": [
        "def get_permutation(string, i=0):\n",
        "\n",
        "    if i == len(string):   \t \n",
        "        print(\"\".join(string))\n",
        "\n",
        "    for j in range(i, len(string)):\n",
        "\n",
        "        words = [c for c in string]\n",
        "   \n",
        "        # swap\n",
        "        words[i], words[j] = words[j], words[i]\n",
        "   \t \n",
        "        get_permutation(words, i + 1)\n",
        "\n",
        "print(get_permutation('cd'))"
      ],
      "metadata": {
        "colab": {
          "base_uri": "https://localhost:8080/"
        },
        "id": "e7LW2egzzqOd",
        "outputId": "492f51fe-fa0e-4848-f719-ee71dbe2d998"
      },
      "execution_count": 7,
      "outputs": [
        {
          "output_type": "stream",
          "name": "stdout",
          "text": [
            "cd\n",
            "dc\n",
            "None\n"
          ]
        }
      ]
    },
    {
      "cell_type": "code",
      "source": [
        "Q8.) Given a string, count total number of consonants in it. A consonant is an English alphabet character that is not vowel (a, e, i, o and u).\n",
        " Examples of constants are b, c, d, f, and g.\n",
        "\n",
        "Examples :\n",
        "Input : abc de\n",
        "Output : 3\n",
        "There are three consonants b, c and d.\n",
        "\n",
        "Input : geeksforgeeks portal\n",
        "Output : 12"
      ],
      "metadata": {
        "id": "HXmSkVfyz4-8"
      },
      "execution_count": null,
      "outputs": []
    },
    {
      "cell_type": "code",
      "source": [
        "\n",
        "# total number of consonants\n",
        "\n",
        "# Function to check for consonant\n",
        "def isConsonant(ch):\n",
        "\t\n",
        "\t# To handle lower case\n",
        "\tch = ch.upper()\n",
        "\n",
        "\treturn not (ch == 'A' or ch == 'E' or\n",
        "\t\t\t\tch == 'I' or ch == 'O' or\n",
        "\t\t\t\tch == 'U') and ord(ch) >= 65 and ord(ch) <= 90\n",
        "\n",
        "def totalConsonants(string):\n",
        "\t\n",
        "\tcount = 0\n",
        "\t\n",
        "\tfor i in range(len(string)):\n",
        "\n",
        "\t\t# To check is character is Consonant\n",
        "\t\tif (isConsonant(string[i])):\n",
        "\t\t\tcount += 1\n",
        "\t\t\t\n",
        "\treturn count\n",
        "\n",
        "# Driver code\n",
        "string = \"abc de\"\n",
        "print(totalConsonants(string))\n",
        "\n",
        "\n",
        "\n"
      ],
      "metadata": {
        "colab": {
          "base_uri": "https://localhost:8080/"
        },
        "id": "36QVeOif0Jxt",
        "outputId": "98c564e6-c480-41c9-957f-585a55b81cbb"
      },
      "execution_count": 8,
      "outputs": [
        {
          "output_type": "stream",
          "name": "stdout",
          "text": [
            "3\n"
          ]
        }
      ]
    }
  ]
}