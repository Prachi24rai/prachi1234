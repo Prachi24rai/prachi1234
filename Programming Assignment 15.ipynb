{
  "nbformat": 4,
  "nbformat_minor": 0,
  "metadata": {
    "colab": {
      "provenance": []
    },
    "kernelspec": {
      "name": "python3",
      "display_name": "Python 3"
    },
    "language_info": {
      "name": "python"
    }
  },
  "cells": [
    {
      "cell_type": "code",
      "execution_count": null,
      "metadata": {
        "id": "DKMH_y0Sxt33"
      },
      "outputs": [],
      "source": [
        "1. Please write a program using generator to print the numbers which can be divisible by 5 and 7 between 0 and n in comma separated form while n is input by console ?\n",
        "Example:\n",
        "If the following n is given as input to the program: 100\n",
        "Then, the output of the program should be: 0,35,70"
      ]
    },
    {
      "cell_type": "code",
      "source": [
        "def showDivisible(in_num):\n",
        "    for ele in range(0,in_num):\n",
        "        if (ele%5 == 0) and (ele%7 == 0):\n",
        "            yield ele\n",
        "for ele in showDivisible(100):\n",
        "    print(ele,end=' ')"
      ],
      "metadata": {
        "colab": {
          "base_uri": "https://localhost:8080/"
        },
        "id": "Rk9PH-kMyHjY",
        "outputId": "c40ee8c7-3900-4484-a2d7-7cda51e6e970"
      },
      "execution_count": 1,
      "outputs": [
        {
          "output_type": "stream",
          "name": "stdout",
          "text": [
            "0 35 70 "
          ]
        }
      ]
    },
    {
      "cell_type": "code",
      "source": [
        "2.Please write a program using generator to print the even numbers between 0 and n in comma separated form while n is input by console ?\n",
        "Example:\n",
        "\n",
        "If the following n is given as input to the program: 10\n",
        "Then, the output of the program should be: 0,2,4,6,8,10"
      ],
      "metadata": {
        "id": "ubn1kvEpyNYY"
      },
      "execution_count": null,
      "outputs": []
    },
    {
      "cell_type": "code",
      "source": [
        "def genEvenNumbers(in_num):\n",
        "    for ele in range(in_num+1):\n",
        "        if ele%2 == 0:\n",
        "            yield ele\n",
        "\n",
        "for ele in genEvenNumbers(10):\n",
        "    print(ele,end=' ')"
      ],
      "metadata": {
        "colab": {
          "base_uri": "https://localhost:8080/"
        },
        "id": "2yccK9rFyTkV",
        "outputId": "46b3cfcd-58ee-4028-ddd5-85dcb84ef9ec"
      },
      "execution_count": 2,
      "outputs": [
        {
          "output_type": "stream",
          "name": "stdout",
          "text": [
            "0 2 4 6 8 10 "
          ]
        }
      ]
    },
    {
      "cell_type": "code",
      "source": [
        "3.The Fibonacci Sequence is computed based on the following formula below, Please write a program using list comprehension to print the Fibonacci\n",
        "Sequence in comma separated form with a given n input by console ?\n",
        "\n",
        "f(n)=0 if n=0 f(n)=1 if n=1 f(n)=f(n-1)+f(n-2) if n>1"
      ],
      "metadata": {
        "id": "D9nz4JA6yWwQ"
      },
      "execution_count": null,
      "outputs": []
    },
    {
      "cell_type": "code",
      "source": [
        "def genFibonaci(in_num):\n",
        "    if in_num == 0:\n",
        "        return 0\n",
        "    elif in_num == 1:\n",
        "        return 1\n",
        "    else:\n",
        "        return genFibonaci(in_num-1)+genFibonaci(in_num-2)\n",
        "\n",
        "print([genFibonaci(x) for x in range(20)])"
      ],
      "metadata": {
        "colab": {
          "base_uri": "https://localhost:8080/"
        },
        "id": "6GCYNgFLyazM",
        "outputId": "e49f0eca-a164-4a79-e3d4-8ff5a9f6f1df"
      },
      "execution_count": 3,
      "outputs": [
        {
          "output_type": "stream",
          "name": "stdout",
          "text": [
            "[0, 1, 1, 2, 3, 5, 8, 13, 21, 34, 55, 89, 144, 233, 377, 610, 987, 1597, 2584, 4181]\n"
          ]
        }
      ]
    },
    {
      "cell_type": "code",
      "source": [
        "4.Assuming that we have some email addresses in the \"username@companyname.com\" format, please write program to print the user name of a given email address.\n",
        " Both user names and company names are composed of letters only ?\n",
        "\n",
        "Example:\n",
        "\n",
        "If the following email address is given as input to the program: john@google.com\n",
        "Then, the output of the program should be: john"
      ],
      "metadata": {
        "id": "ccxxvBExyjro"
      },
      "execution_count": null,
      "outputs": []
    },
    {
      "cell_type": "code",
      "source": [
        "def getUsernames():\n",
        "    in_string = input('Enter Email Address(es): ')\n",
        "    out_string = in_string.split('@')\n",
        "    print(f'Username of {in_string} is {out_string[0]}')\n",
        "\n",
        "for i in range(3):\n",
        "    getUsernames()"
      ],
      "metadata": {
        "colab": {
          "base_uri": "https://localhost:8080/"
        },
        "id": "TIvm5NWWy2GF",
        "outputId": "b3547bcf-fc70-4c1c-b141-1a9f3b6c5c95"
      },
      "execution_count": 4,
      "outputs": [
        {
          "output_type": "stream",
          "name": "stdout",
          "text": [
            "Enter Email Address(es): prachideiiss94@gmail.com\n",
            "Username of prachideiiss94@gmail.com is prachideiiss94\n",
            "Enter Email Address(es):  support.query@ineuron.ai\n",
            "Username of  support.query@ineuron.ai is  support.query\n",
            "Enter Email Address(es): prachi@redifmail.com\n",
            "Username of prachi@redifmail.com is prachi\n"
          ]
        }
      ]
    },
    {
      "cell_type": "code",
      "source": [
        "5.Define a class named Shape and its subclass Square. The Square class has an init function which takes a length as argument.\n",
        " Both classes have a area function which can print the area of the shape where Shape's area is 0 by default."
      ],
      "metadata": {
        "id": "D8bU6eXZzh3V"
      },
      "execution_count": null,
      "outputs": []
    },
    {
      "cell_type": "code",
      "source": [
        "class Shape:\n",
        "    def area(self):\n",
        "        return 0\n",
        "\n",
        "class Square(Shape):\n",
        "    def __init__(self, length):\n",
        "        self.length = length\n",
        "    def area(self):\n",
        "        return self.length*self.length\n",
        "\n",
        "square = Square(50)\n",
        "print(square.area())"
      ],
      "metadata": {
        "colab": {
          "base_uri": "https://localhost:8080/"
        },
        "id": "xbT0KIbozlIn",
        "outputId": "ec104d2d-43d1-4eec-80c2-558199c9fe4e"
      },
      "execution_count": 5,
      "outputs": [
        {
          "output_type": "stream",
          "name": "stdout",
          "text": [
            "2500\n"
          ]
        }
      ]
    },
    {
      "cell_type": "code",
      "source": [],
      "metadata": {
        "id": "_rfyM7q7zq4y"
      },
      "execution_count": null,
      "outputs": []
    }
  ]
}